{
 "cells": [
  {
   "cell_type": "markdown",
   "metadata": {
    "application/vnd.databricks.v1+cell": {
     "cellMetadata": {},
     "inputWidgets": {},
     "nuid": "0b29dd7e-649d-4205-9b29-5bc9a264f3f4",
     "showTitle": false,
     "tableResultSettingsMap": {},
     "title": ""
    }
   },
   "source": [
    "### **Analyzing New York Taxi Data Using PySpark on Azure (Free Tier)**\n",
    "\n",
    "#### **Introduction**\n",
    "You are a data engineer at a transportation analytics company. Your team has been tasked with analyzing the New York City taxi dataset to uncover insights that can help improve taxi services, optimize routes, and understand customer behavior. The dataset is large, but you decide to use PySpark on Azure Databricks to handle the data processing efficiently.\n",
    "\n",
    "---\n",
    "\n",
    "### **Step 1: Setting Up the Environment**\n",
    "**Story:**  \n",
    "You start by setting up your cloud environment. Azure Databricks is chosen because it provides a collaborative, scalable, and managed platform for big data analytics with PySpark. You create a Databricks workspace and a small cluster, and configure it to read data from an Azure Blob Storage account where the dataset is stored.\n",
    "\n",
    "**Mini Tasks:**\n",
    "1. Create a free Azure account if you don’t already have one.\n",
    "2. Set up an Azure Blob Storage account and upload a subset of the New York taxi dataset (e.g., `trip_data.csv` and `trip_fare.csv`).\n",
    "3. Create an Azure Databricks workspace and launch a small cluster with PySpark installed.\n",
    "4. Mount the Blob Storage container to your Databricks workspace using the `abfss` protocol or a SAS token.\n",
    "5. Verify that PySpark is working by running a simple script to print \"Hello, PySpark!\"\n",
    "\n",
    "---\n",
    "\n",
    "### **Step 2: Loading and Exploring the Data**\n",
    "**Story:**  \n",
    "With the environment ready, you load the dataset into PySpark DataFrames. The dataset contains information about taxi trips, including pickup/dropoff locations, timestamps, trip distances, fares, and payment types. You begin by exploring the data to understand its structure and identify any quality issues.\n",
    "\n",
    "**Mini Tasks:**\n",
    "1. Load a subset of the `trip_data.csv` and `trip_fare.csv` files from Blob Storage into PySpark DataFrames.\n",
    "2. Print the schema of both DataFrames to understand the column names and data types.\n",
    "3. Check for missing values and duplicates in the dataset.\n",
    "4. Display the first 5 rows of each DataFrame to get a sense of the data.\n",
    "\n",
    "---\n",
    "\n",
    "### **Step 3: Data Cleaning and Transformation**\n",
    "**Story:**  \n",
    "You notice some inconsistencies in the data, such as missing values in the `passenger_count` column and incorrect timestamps. You decide to clean the data by removing invalid records and transforming columns into the correct formats.\n",
    "\n",
    "**Mini Tasks:**\n",
    "1. Drop rows with missing values in critical columns like `pickup_datetime`, `dropoff_datetime`, and `trip_distance`.\n",
    "2. Convert the `pickup_datetime` and `dropoff_datetime` columns to timestamp format.\n",
    "3. Filter out rows where `trip_distance` is 0 or negative.\n",
    "4. Create a new column `trip_duration` by calculating the difference between `dropoff_datetime` and `pickup_datetime`.\n",
    "\n",
    "---\n",
    "\n",
    "### **Step 4: Joining Datasets**\n",
    "**Story:**  \n",
    "To get a complete picture of each trip, you decide to join the `trip_data` and `trip_fare` DataFrames using a common key, such as `medallion` and `hack_license`. This will allow you to analyze both trip details and fare information together.\n",
    "\n",
    "**Mini Tasks:**\n",
    "1. Identify the common columns between `trip_data` and `trip_fare` DataFrames.\n",
    "2. Perform an inner join on the two DataFrames using the common columns.\n",
    "3. Verify the join by checking the row count and inspecting the resulting DataFrame.\n",
    "\n",
    "---\n",
    "\n",
    "### **Step 5: Analyzing the Data**\n",
    "**Story:**  \n",
    "With the cleaned and joined dataset, you start analyzing it to uncover insights. You focus on answering key questions, such as:\n",
    "- What is the average trip duration and fare?\n",
    "- Which payment methods are most popular?\n",
    "- What are the peak hours for taxi rides?\n",
    "\n",
    "**Mini Tasks:**\n",
    "1. Calculate the average `trip_duration` and `fare_amount`.\n",
    "2. Group the data by `payment_type` and count the number of trips for each payment method.\n",
    "3. Extract the hour from `pickup_datetime` and create a histogram to visualize peak hours.\n",
    "4. Identify the top 5 pickup and dropoff locations based on trip frequency.\n",
    "\n",
    "---\n",
    "\n",
    "### **Step 6: Visualizing the Results**\n",
    "**Story:**  \n",
    "To make your findings more accessible, you decide to visualize the results using Databricks' built-in visualization tools or a Python library like Matplotlib or Seaborn. You export the aggregated data from PySpark to a Pandas DataFrame for easier plotting.\n",
    "\n",
    "**Mini Tasks:**\n",
    "1. Export the results of your analysis (e.g., average fare, peak hours) to a Pandas DataFrame.\n",
    "2. Create a bar chart to show the distribution of payment types.\n",
    "3. Plot a line chart to visualize the number of trips per hour (peak hours).\n",
    "4. Generate a scatter plot to explore the relationship between `trip_distance` and `fare_amount`.\n",
    "\n",
    "---\n",
    "\n",
    "### **Step 7: Saving the Results**\n",
    "**Story:**  \n",
    "Finally, you save the cleaned dataset and analysis results back to Blob Storage for future use. You also document your findings in a report that will be shared with your team.\n",
    "\n",
    "**Mini Tasks:**\n",
    "1. Save the cleaned and joined DataFrame as a Parquet file in your Blob Storage account.\n",
    "2. Export the aggregated results (e.g., peak hours, payment types) as a CSV file to Blob Storage.\n",
    "3. Write a brief summary of your findings in a Markdown file and upload it to Blob Storage.\n",
    "\n",
    "---\n",
    "\n",
    "### **Conclusion**\n",
    "**Story:**  \n",
    "You’ve successfully built a PySpark pipeline to analyze the New York taxi dataset on Azure. Your analysis revealed valuable insights, such as peak hours, popular payment methods, and average trip durations. These findings will help your team make data-driven decisions to improve taxi services in New York City.\n",
    "\n",
    "**Mini Tasks:**\n",
    "1. Terminate the Databricks cluster to avoid unnecessary costs.\n",
    "2. Share the Blob Storage links to the cleaned data, analysis results, and report with your team.\n",
    "\n",
    "---\n",
    "\n",
    "### **Bonus Challenge**\n",
    "- Use PySpark MLlib to build a simple machine learning model that predicts taxi fares based on features like `trip_distance` and `trip_duration`.\n",
    "- Explore geospatial analysis by visualizing pickup and dropoff locations on a map using libraries like Folium or Databricks' built-in mapping tools.\n",
    "\n",
    "---\n",
    "\n",
    "### **Tips for Staying Within Free Tier Limits**\n",
    "1. Use a **small cluster** in Databricks and terminate it immediately after completing tasks.\n",
    "2. Work with a **subset of the dataset** (e.g., 1-2 months of data) to reduce processing time and resource usage.\n",
    "3. Use **compressed file formats** like Parquet or GZIP to save storage space in Blob Storage.\n",
    "4. Monitor your usage in the Azure portal to ensure you stay within the free tier limits.\n",
    "\n",
    "---\n",
    "\n",
    "This project provides a hands-on experience with PySpark, Azure Databricks, and data analysis."
   ]
  },
  {
   "cell_type": "code",
   "execution_count": 0,
   "metadata": {
    "application/vnd.databricks.v1+cell": {
     "cellMetadata": {
      "byteLimit": 2048000,
      "rowLimit": 10000
     },
     "inputWidgets": {},
     "nuid": "25c9bc80-5a4f-4239-9386-75c94fe468a0",
     "showTitle": false,
     "tableResultSettingsMap": {},
     "title": ""
    }
   },
   "outputs": [
    {
     "output_type": "stream",
     "name": "stdout",
     "output_type": "stream",
     "text": [
      "3.5.2\n"
     ]
    }
   ],
   "source": [
    "import pyspark\n",
    "print(pyspark.__version__)"
   ]
  },
  {
   "cell_type": "code",
   "execution_count": 0,
   "metadata": {
    "application/vnd.databricks.v1+cell": {
     "cellMetadata": {
      "byteLimit": 2048000,
      "rowLimit": 10000
     },
     "inputWidgets": {},
     "nuid": "82a27ada-a19b-4e77-8435-af475d85821f",
     "showTitle": false,
     "tableResultSettingsMap": {},
     "title": ""
    }
   },
   "outputs": [
    {
     "output_type": "stream",
     "name": "stdout",
     "output_type": "stream",
     "text": [
      "Mounted nyc-taxi-data to /mnt/nyc-taxi-data\n\nContents of mounted directory:\n"
     ]
    },
    {
     "output_type": "execute_result",
     "data": {
      "text/plain": [
       "[FileInfo(path='dbfs:/mnt/nyc-taxi-data/yellow_tripdata_2025-01.parquet', name='yellow_tripdata_2025-01.parquet', size=59158238, modificationTime=1752513391000)]"
      ]
     },
     "execution_count": 2,
     "metadata": {},
     "output_type": "execute_result"
    }
   ],
   "source": [
    "# Set the storage account name and container name\n",
    "storage_account_name = \"3mttwork\" # Your storage account name\n",
    "container_name = \"nyc-taxi-data\" # Your container name\n",
    "\n",
    "# Get your storage account access key securely\n",
    "storage_account_access_key = \"jvAMGrY4yDSYGj7GxEZPTyD1o+mbBaqD+gCaIGbazujfHDmvW8BR2XQ75wUWyGTGy2L5exgtNtUs+AStN3PBMA==\"\n",
    "\n",
    "# Define the source path using the wasbs scheme\n",
    "# Note: Use blob.core.windows.net for wasbs\n",
    "source_path = f\"wasbs://{container_name}@{storage_account_name}.blob.core.windows.net/\"\n",
    "\n",
    "# Define the mount point path in Databricks\n",
    "mount_point = f\"/mnt/{container_name}\"\n",
    "\n",
    "# Configure the Spark session with the access key for wasbs\n",
    "spark.conf.set(f\"fs.azure.account.key.{storage_account_name}.blob.core.windows.net\", storage_account_access_key)\n",
    "\n",
    "# Check if the mount point already exists (optional, good practice)\n",
    "if not any(mount.mountPoint == mount_point for mount in dbutils.fs.mounts()):\n",
    "    # Mount the Blob Storage container using wasbs\n",
    "    dbutils.fs.mount(\n",
    "        source=source_path,\n",
    "        mount_point=mount_point,\n",
    "        extra_configs={f\"fs.azure.account.key.{storage_account_name}.blob.core.windows.net\": storage_account_access_key}\n",
    "    )\n",
    "    print(f\"Mounted {container_name} to {mount_point}\")\n",
    "else:\n",
    "    print(f\"{mount_point} is already mounted.\")\n",
    "\n",
    "# List the contents of the mounted directory to verify\n",
    "print(\"\\nContents of mounted directory:\")\n",
    "dbutils.fs.ls(mount_point)"
   ]
  },
  {
   "cell_type": "code",
   "execution_count": 0,
   "metadata": {
    "application/vnd.databricks.v1+cell": {
     "cellMetadata": {
      "byteLimit": 2048000,
      "rowLimit": 10000
     },
     "inputWidgets": {},
     "nuid": "752f5c57-d0b1-414e-a782-c17638725820",
     "showTitle": false,
     "tableResultSettingsMap": {},
     "title": ""
    }
   },
   "outputs": [
    {
     "output_type": "stream",
     "name": "stdout",
     "output_type": "stream",
     "text": [
      "DataFrame loaded successfully!\n\nSchema of the DataFrame:\nroot\n |-- VendorID: integer (nullable = true)\n |-- tpep_pickup_datetime: timestamp_ntz (nullable = true)\n |-- tpep_dropoff_datetime: timestamp_ntz (nullable = true)\n |-- passenger_count: long (nullable = true)\n |-- trip_distance: double (nullable = true)\n |-- RatecodeID: long (nullable = true)\n |-- store_and_fwd_flag: string (nullable = true)\n |-- PULocationID: integer (nullable = true)\n |-- DOLocationID: integer (nullable = true)\n |-- payment_type: long (nullable = true)\n |-- fare_amount: double (nullable = true)\n |-- extra: double (nullable = true)\n |-- mta_tax: double (nullable = true)\n |-- tip_amount: double (nullable = true)\n |-- tolls_amount: double (nullable = true)\n |-- improvement_surcharge: double (nullable = true)\n |-- total_amount: double (nullable = true)\n |-- congestion_surcharge: double (nullable = true)\n |-- Airport_fee: double (nullable = true)\n |-- cbd_congestion_fee: double (nullable = true)\n\n\nFirst 5 rows of the DataFrame:\n+--------+--------------------+---------------------+---------------+-------------+----------+------------------+------------+------------+------------+-----------+-----+-------+----------+------------+---------------------+------------+--------------------+-----------+------------------+\n|VendorID|tpep_pickup_datetime|tpep_dropoff_datetime|passenger_count|trip_distance|RatecodeID|store_and_fwd_flag|PULocationID|DOLocationID|payment_type|fare_amount|extra|mta_tax|tip_amount|tolls_amount|improvement_surcharge|total_amount|congestion_surcharge|Airport_fee|cbd_congestion_fee|\n+--------+--------------------+---------------------+---------------+-------------+----------+------------------+------------+------------+------------+-----------+-----+-------+----------+------------+---------------------+------------+--------------------+-----------+------------------+\n|       1| 2025-01-01 00:18:38|  2025-01-01 00:26:59|              1|          1.6|         1|                 N|         229|         237|           1|       10.0|  3.5|    0.5|       3.0|         0.0|                  1.0|        18.0|                 2.5|        0.0|               0.0|\n|       1| 2025-01-01 00:32:40|  2025-01-01 00:35:13|              1|          0.5|         1|                 N|         236|         237|           1|        5.1|  3.5|    0.5|      2.02|         0.0|                  1.0|       12.12|                 2.5|        0.0|               0.0|\n|       1| 2025-01-01 00:44:04|  2025-01-01 00:46:01|              1|          0.6|         1|                 N|         141|         141|           1|        5.1|  3.5|    0.5|       2.0|         0.0|                  1.0|        12.1|                 2.5|        0.0|               0.0|\n|       2| 2025-01-01 00:14:27|  2025-01-01 00:20:01|              3|         0.52|         1|                 N|         244|         244|           2|        7.2|  1.0|    0.5|       0.0|         0.0|                  1.0|         9.7|                 0.0|        0.0|               0.0|\n|       2| 2025-01-01 00:21:34|  2025-01-01 00:25:06|              3|         0.66|         1|                 N|         244|         116|           2|        5.8|  1.0|    0.5|       0.0|         0.0|                  1.0|         8.3|                 0.0|        0.0|               0.0|\n+--------+--------------------+---------------------+---------------+-------------+----------+------------------+------------+------------+------------+-----------+-----+-------+----------+------------+---------------------+------------+--------------------+-----------+------------------+\nonly showing top 5 rows\n"
     ]
    }
   ],
   "source": [
    "# --- Step 2: Loading and Exploring the Data ---\n",
    "\n",
    "# 1. Load the Parquet file from the mounted Blob Storage into a PySpark DataFrame\n",
    "# The path is now relative to your mount point\n",
    "file_path = f\"{mount_point}/yellow_tripdata_2025-01.parquet\"\n",
    "\n",
    "# Load the Parquet file\n",
    "df = spark.read.parquet(file_path)\n",
    "\n",
    "print(\"DataFrame loaded successfully!\")\n",
    "\n",
    "# 2. Print the schema of the DataFrame to understand the column names and data types\n",
    "print(\"\\nSchema of the DataFrame:\")\n",
    "df.printSchema()\n",
    "\n",
    "# 4. Display the first 5 rows of the DataFrame to get a sense of the data\n",
    "print(\"\\nFirst 5 rows of the DataFrame:\")\n",
    "df.show(5)\n",
    "\n",
    "# (We will address missing values and duplicates in the next part)"
   ]
  },
  {
   "cell_type": "code",
   "execution_count": 0,
   "metadata": {
    "application/vnd.databricks.v1+cell": {
     "cellMetadata": {
      "byteLimit": 2048000,
      "rowLimit": 10000
     },
     "inputWidgets": {},
     "nuid": "b28a86a0-6dcb-4136-a452-74246034efd8",
     "showTitle": false,
     "tableResultSettingsMap": {},
     "title": ""
    }
   },
   "outputs": [
    {
     "output_type": "stream",
     "name": "stdout",
     "output_type": "stream",
     "text": [
      "\nChecking for missing values:\n+--------+--------------------+---------------------+---------------+-------------+----------+------------------+------------+------------+------------+-----------+-----+-------+----------+------------+---------------------+------------+--------------------+-----------+------------------+\n|VendorID|tpep_pickup_datetime|tpep_dropoff_datetime|passenger_count|trip_distance|RatecodeID|store_and_fwd_flag|PULocationID|DOLocationID|payment_type|fare_amount|extra|mta_tax|tip_amount|tolls_amount|improvement_surcharge|total_amount|congestion_surcharge|Airport_fee|cbd_congestion_fee|\n+--------+--------------------+---------------------+---------------+-------------+----------+------------------+------------+------------+------------+-----------+-----+-------+----------+------------+---------------------+------------+--------------------+-----------+------------------+\n|       0|                   0|                    0|         540149|            0|    540149|            540149|           0|           0|           0|          0|    0|      0|         0|           0|                    0|           0|              540149|     540149|                 0|\n+--------+--------------------+---------------------+---------------+-------------+----------+------------------+------------+------------+------------+-----------+-----+-------+----------+------------+---------------------+------------+--------------------+-----------+------------------+\n\n\nChecking for duplicate rows:\nTotal rows: 3475226\nDistinct rows: 3475226\nNo duplicate rows found.\n"
     ]
    }
   ],
   "source": [
    "# --- Continuing Step 2: Checking for missing values and duplicates ---\n",
    "\n",
    "# 3. Check for missing values in the dataset\n",
    "print(\"\\nChecking for missing values:\")\n",
    "from pyspark.sql.functions import col, sum\n",
    "\n",
    "# Calculate the count of nulls for each column\n",
    "null_counts = df.select([sum(col(c).isNull().cast(\"int\")).alias(c) for c in df.columns])\n",
    "null_counts.show()\n",
    "\n",
    "# You can also filter to see rows with nulls in critical columns if you want to inspect them\n",
    "# For example, to find rows where trip_distance is null:\n",
    "# df.filter(col(\"trip_distance\").isNull()).show(5)\n",
    "\n",
    "\n",
    "# Check for duplicate rows\n",
    "print(\"\\nChecking for duplicate rows:\")\n",
    "total_rows = df.count()\n",
    "distinct_rows = df.dropDuplicates().count()\n",
    "\n",
    "print(f\"Total rows: {total_rows}\")\n",
    "print(f\"Distinct rows: {distinct_rows}\")\n",
    "\n",
    "if total_rows == distinct_rows:\n",
    "    print(\"No duplicate rows found.\")\n",
    "else:\n",
    "    print(f\"Found {total_rows - distinct_rows} duplicate rows.\")"
   ]
  },
  {
   "cell_type": "code",
   "execution_count": 0,
   "metadata": {
    "application/vnd.databricks.v1+cell": {
     "cellMetadata": {
      "byteLimit": 2048000,
      "rowLimit": 10000
     },
     "inputWidgets": {},
     "nuid": "7eddb7aa-c262-4549-9b27-38a418cbd1d9",
     "showTitle": false,
     "tableResultSettingsMap": {},
     "title": ""
    }
   },
   "outputs": [
    {
     "output_type": "stream",
     "name": "stdout",
     "output_type": "stream",
     "text": [
      "Dropped 0 rows with nulls in critical columns.\nRemaining rows after dropping nulls: 3475226\n\nConverted datetime columns to timestamp format.\nroot\n |-- tpep_pickup_datetime: timestamp (nullable = true)\n |-- tpep_dropoff_datetime: timestamp (nullable = true)\n\nDropped 90893 rows with trip_distance <= 0.\nRemaining rows after filtering distance: 3384333\n\nSchema of df_cleaned after initial cleaning:\nroot\n |-- VendorID: integer (nullable = true)\n |-- tpep_pickup_datetime: timestamp (nullable = true)\n |-- tpep_dropoff_datetime: timestamp (nullable = true)\n |-- passenger_count: long (nullable = true)\n |-- trip_distance: double (nullable = true)\n |-- RatecodeID: long (nullable = true)\n |-- store_and_fwd_flag: string (nullable = true)\n |-- PULocationID: integer (nullable = true)\n |-- DOLocationID: integer (nullable = true)\n |-- payment_type: long (nullable = true)\n |-- fare_amount: double (nullable = true)\n |-- extra: double (nullable = true)\n |-- mta_tax: double (nullable = true)\n |-- tip_amount: double (nullable = true)\n |-- tolls_amount: double (nullable = true)\n |-- improvement_surcharge: double (nullable = true)\n |-- total_amount: double (nullable = true)\n |-- congestion_surcharge: double (nullable = true)\n |-- Airport_fee: double (nullable = true)\n |-- cbd_congestion_fee: double (nullable = true)\n\n\nFirst 5 rows of df_cleaned after initial cleaning:\n+--------+--------------------+---------------------+---------------+-------------+----------+------------------+------------+------------+------------+-----------+-----+-------+----------+------------+---------------------+------------+--------------------+-----------+------------------+\n|VendorID|tpep_pickup_datetime|tpep_dropoff_datetime|passenger_count|trip_distance|RatecodeID|store_and_fwd_flag|PULocationID|DOLocationID|payment_type|fare_amount|extra|mta_tax|tip_amount|tolls_amount|improvement_surcharge|total_amount|congestion_surcharge|Airport_fee|cbd_congestion_fee|\n+--------+--------------------+---------------------+---------------+-------------+----------+------------------+------------+------------+------------+-----------+-----+-------+----------+------------+---------------------+------------+--------------------+-----------+------------------+\n|       1| 2025-01-01 00:18:38|  2025-01-01 00:26:59|              1|          1.6|         1|                 N|         229|         237|           1|       10.0|  3.5|    0.5|       3.0|         0.0|                  1.0|        18.0|                 2.5|        0.0|               0.0|\n|       1| 2025-01-01 00:32:40|  2025-01-01 00:35:13|              1|          0.5|         1|                 N|         236|         237|           1|        5.1|  3.5|    0.5|      2.02|         0.0|                  1.0|       12.12|                 2.5|        0.0|               0.0|\n|       1| 2025-01-01 00:44:04|  2025-01-01 00:46:01|              1|          0.6|         1|                 N|         141|         141|           1|        5.1|  3.5|    0.5|       2.0|         0.0|                  1.0|        12.1|                 2.5|        0.0|               0.0|\n|       2| 2025-01-01 00:14:27|  2025-01-01 00:20:01|              3|         0.52|         1|                 N|         244|         244|           2|        7.2|  1.0|    0.5|       0.0|         0.0|                  1.0|         9.7|                 0.0|        0.0|               0.0|\n|       2| 2025-01-01 00:21:34|  2025-01-01 00:25:06|              3|         0.66|         1|                 N|         244|         116|           2|        5.8|  1.0|    0.5|       0.0|         0.0|                  1.0|         8.3|                 0.0|        0.0|               0.0|\n+--------+--------------------+---------------------+---------------+-------------+----------+------------------+------------+------------+------------+-----------+-----+-------+----------+------------+---------------------+------------+--------------------+-----------+------------------+\nonly showing top 5 rows\n"
     ]
    }
   ],
   "source": [
    "# --- Step 3: Data Cleaning and Transformation ---\n",
    "from pyspark.sql.functions import col, to_timestamp, datediff, hour, minute, second, expr\n",
    "\n",
    "# 1. Drop rows with missing values in critical columns\n",
    "# Identify columns that are absolutely critical for analysis.\n",
    "# Based on common taxi data analysis, these are typically pickup/dropoff times and trip distance/fare.\n",
    "# Adjust this list based on what your null counts showed are truly \"critical\" for your analysis.\n",
    "critical_columns = [\"tpep_pickup_datetime\", \"tpep_dropoff_datetime\", \"trip_distance\", \"fare_amount\"]\n",
    "\n",
    "# Drop rows where any of these critical columns have null values\n",
    "initial_row_count = df.count()\n",
    "df_cleaned = df.na.drop(subset=critical_columns)\n",
    "rows_after_dropping_nulls = df_cleaned.count()\n",
    "print(f\"Dropped {initial_row_count - rows_after_dropping_nulls} rows with nulls in critical columns.\")\n",
    "print(f\"Remaining rows after dropping nulls: {rows_after_dropping_nulls}\")\n",
    "\n",
    "# 2. Convert datetime columns to timestamp format\n",
    "# The schema output from Step 2 showed these are already Timestamps, which is good.\n",
    "# However, it's good practice to ensure they are parsed correctly or explicitly cast if needed for robustness.\n",
    "# Let's re-cast them to ensure consistency and handle potential string representations if data was from CSV.\n",
    "# For Parquet, they are often already in timestamp type, but explicit casting is harmless if they are.\n",
    "\n",
    "# Note: The column names from your schema are 'tpep_pickup_datetime' and 'tpep_dropoff_datetime'\n",
    "df_cleaned = df_cleaned.withColumn(\"tpep_pickup_datetime\", to_timestamp(col(\"tpep_pickup_datetime\")))\n",
    "df_cleaned = df_cleaned.withColumn(\"tpep_dropoff_datetime\", to_timestamp(col(\"tpep_dropoff_datetime\")))\n",
    "print(\"\\nConverted datetime columns to timestamp format.\")\n",
    "df_cleaned.select(\"tpep_pickup_datetime\", \"tpep_dropoff_datetime\").printSchema() # Verify the type after conversion\n",
    "\n",
    "\n",
    "# 3. Filter out rows where trip_distance is 0 or negative\n",
    "initial_filter_count = df_cleaned.count()\n",
    "df_cleaned = df_cleaned.filter(col(\"trip_distance\") > 0)\n",
    "rows_after_filtering_distance = df_cleaned.count()\n",
    "print(f\"Dropped {initial_filter_count - rows_after_filtering_distance} rows with trip_distance <= 0.\")\n",
    "print(f\"Remaining rows after filtering distance: {rows_after_filtering_distance}\")\n",
    "\n",
    "# (We will calculate trip_duration in the next part to keep the cell manageable)\n",
    "\n",
    "# Show schema and a few rows of the cleaned data\n",
    "print(\"\\nSchema of df_cleaned after initial cleaning:\")\n",
    "df_cleaned.printSchema()\n",
    "print(\"\\nFirst 5 rows of df_cleaned after initial cleaning:\")\n",
    "df_cleaned.show(5)"
   ]
  },
  {
   "cell_type": "code",
   "execution_count": 0,
   "metadata": {
    "application/vnd.databricks.v1+cell": {
     "cellMetadata": {
      "byteLimit": 2048000,
      "rowLimit": 10000
     },
     "inputWidgets": {},
     "nuid": "7f923220-5f86-4e94-9117-7343b9698e18",
     "showTitle": false,
     "tableResultSettingsMap": {},
     "title": ""
    }
   },
   "outputs": [
    {
     "output_type": "stream",
     "name": "stdout",
     "output_type": "stream",
     "text": [
      "\nAdded 'trip_duration_seconds' and 'trip_duration_minutes' columns.\nDropped 2613 rows with invalid trip_duration.\nRemaining rows after all cleaning: 3381720\n\nSchema of df_cleaned after adding trip_duration:\nroot\n |-- VendorID: integer (nullable = true)\n |-- tpep_pickup_datetime: timestamp (nullable = true)\n |-- tpep_dropoff_datetime: timestamp (nullable = true)\n |-- passenger_count: long (nullable = true)\n |-- trip_distance: double (nullable = true)\n |-- RatecodeID: long (nullable = true)\n |-- store_and_fwd_flag: string (nullable = true)\n |-- PULocationID: integer (nullable = true)\n |-- DOLocationID: integer (nullable = true)\n |-- payment_type: long (nullable = true)\n |-- fare_amount: double (nullable = true)\n |-- extra: double (nullable = true)\n |-- mta_tax: double (nullable = true)\n |-- tip_amount: double (nullable = true)\n |-- tolls_amount: double (nullable = true)\n |-- improvement_surcharge: double (nullable = true)\n |-- total_amount: double (nullable = true)\n |-- congestion_surcharge: double (nullable = true)\n |-- Airport_fee: double (nullable = true)\n |-- cbd_congestion_fee: double (nullable = true)\n |-- trip_duration_seconds: long (nullable = true)\n |-- trip_duration_minutes: double (nullable = true)\n\n\nFirst 5 rows of df_cleaned with trip_duration:\n+--------------------+---------------------+---------------------+---------------------+-------------+\n|tpep_pickup_datetime|tpep_dropoff_datetime|trip_duration_seconds|trip_duration_minutes|trip_distance|\n+--------------------+---------------------+---------------------+---------------------+-------------+\n| 2025-01-01 00:18:38|  2025-01-01 00:26:59|                  501|                 8.35|          1.6|\n| 2025-01-01 00:32:40|  2025-01-01 00:35:13|                  153|                 2.55|          0.5|\n| 2025-01-01 00:44:04|  2025-01-01 00:46:01|                  117|                 1.95|          0.6|\n| 2025-01-01 00:14:27|  2025-01-01 00:20:01|                  334|    5.566666666666666|         0.52|\n| 2025-01-01 00:21:34|  2025-01-01 00:25:06|                  212|    3.533333333333333|         0.66|\n+--------------------+---------------------+---------------------+---------------------+-------------+\nonly showing top 5 rows\n"
     ]
    }
   ],
   "source": [
    "# --- Completing Step 3: Create trip_duration column ---\n",
    "\n",
    "# 4. Create a new column trip_duration by calculating the difference between dropoff_datetime and pickup_datetime\n",
    "# The duration will be in seconds, then convert to minutes for easier interpretation\n",
    "df_cleaned = df_cleaned.withColumn(\n",
    "    \"trip_duration_seconds\",\n",
    "    (col(\"tpep_dropoff_datetime\").cast(\"long\") - col(\"tpep_pickup_datetime\").cast(\"long\"))\n",
    ")\n",
    "\n",
    "# Convert to minutes for easier interpretation\n",
    "df_cleaned = df_cleaned.withColumn(\n",
    "    \"trip_duration_minutes\",\n",
    "    col(\"trip_duration_seconds\") / 60\n",
    ")\n",
    "\n",
    "print(\"\\nAdded 'trip_duration_seconds' and 'trip_duration_minutes' columns.\")\n",
    "\n",
    "# Filter out rows where trip_duration is invalid (e.g., negative or excessively long/short)\n",
    "# A typical taxi ride shouldn't be negative (pickup after dropoff) or extremely short (e.g., 0 seconds)\n",
    "# Let's consider trips between 60 seconds (1 minute) and 14400 seconds (4 hours) as reasonable\n",
    "initial_duration_filter_count = df_cleaned.count()\n",
    "df_cleaned = df_cleaned.filter((col(\"trip_duration_seconds\") > 0) & (col(\"trip_duration_seconds\") <= 14400)) # 4 hours max duration\n",
    "rows_after_duration_filter = df_cleaned.count()\n",
    "print(f\"Dropped {initial_duration_filter_count - rows_after_duration_filter} rows with invalid trip_duration.\")\n",
    "print(f\"Remaining rows after all cleaning: {rows_after_duration_filter}\")\n",
    "\n",
    "\n",
    "# Show the schema again to see the new column and first few rows with the new column\n",
    "print(\"\\nSchema of df_cleaned after adding trip_duration:\")\n",
    "df_cleaned.printSchema()\n",
    "print(\"\\nFirst 5 rows of df_cleaned with trip_duration:\")\n",
    "df_cleaned.select(\"tpep_pickup_datetime\", \"tpep_dropoff_datetime\", \"trip_duration_seconds\", \"trip_duration_minutes\", \"trip_distance\").show(5)"
   ]
  },
  {
   "cell_type": "code",
   "execution_count": 0,
   "metadata": {
    "application/vnd.databricks.v1+cell": {
     "cellMetadata": {
      "byteLimit": 2048000,
      "rowLimit": 10000
     },
     "inputWidgets": {},
     "nuid": "cb9eadc0-030d-47e8-b628-1be8ea07d4d1",
     "showTitle": false,
     "tableResultSettingsMap": {},
     "title": ""
    }
   },
   "outputs": [
    {
     "output_type": "stream",
     "name": "stdout",
     "output_type": "stream",
     "text": [
      "--- Step 4: Joining Datasets (Adapted) ---\nThe 'yellow_tripdata_2025-01.parquet' dataset already contains combined trip and fare information.\nVerifying presence of key fare-related columns:\nWarning: The following expected fare columns are missing: ['airport_fee']\n\nFinal row count of the combined and cleaned DataFrame: 3381720 rows.\n\nSample of the combined DataFrame including fare details:\n+--------------------+-------------+---------------------+-----------+----------+------------+\n|tpep_pickup_datetime|trip_distance|trip_duration_minutes|fare_amount|tip_amount|total_amount|\n+--------------------+-------------+---------------------+-----------+----------+------------+\n| 2025-01-01 00:18:38|          1.6|                 8.35|       10.0|       3.0|        18.0|\n| 2025-01-01 00:32:40|          0.5|                 2.55|        5.1|      2.02|       12.12|\n| 2025-01-01 00:44:04|          0.6|                 1.95|        5.1|       2.0|        12.1|\n| 2025-01-01 00:14:27|         0.52|    5.566666666666666|        7.2|       0.0|         9.7|\n| 2025-01-01 00:21:34|         0.66|    3.533333333333333|        5.8|       0.0|         8.3|\n+--------------------+-------------+---------------------+-----------+----------+------------+\nonly showing top 5 rows\n"
     ]
    }
   ],
   "source": [
    "# --- Step 4: Joining Datasets (Adapted for combined data) ---\n",
    "\n",
    "# 1. Identify common columns between trip_data and trip_fare DataFrames.\n",
    "# As noted, the 'yellow_tripdata_2025-01.parquet' file typically combines both trip and fare information.\n",
    "# We'll confirm the presence of relevant columns instead of performing a join.\n",
    "\n",
    "print(\"--- Step 4: Joining Datasets (Adapted) ---\")\n",
    "print(\"The 'yellow_tripdata_2025-01.parquet' dataset already contains combined trip and fare information.\")\n",
    "print(\"Verifying presence of key fare-related columns:\")\n",
    "\n",
    "fare_columns_to_check = [\n",
    "    \"fare_amount\", \"extra\", \"mta_tax\", \"tip_amount\",\n",
    "    \"tolls_amount\", \"improvement_surcharge\", \"total_amount\",\n",
    "    \"congestion_surcharge\", \"airport_fee\" # Add any other fare-related columns from your schema\n",
    "]\n",
    "\n",
    "# Check if all expected fare columns exist in the DataFrame\n",
    "missing_fare_columns = [col_name for col_name in fare_columns_to_check if col_name not in df_cleaned.columns]\n",
    "\n",
    "if not missing_fare_columns:\n",
    "    print(\"All expected fare-related columns are present in the DataFrame.\")\n",
    "else:\n",
    "    print(f\"Warning: The following expected fare columns are missing: {missing_fare_columns}\")\n",
    "\n",
    "# 3. Verify the \"join\" (i.e., verify the completeness of your single DataFrame)\n",
    "print(f\"\\nFinal row count of the combined and cleaned DataFrame: {df_cleaned.count()} rows.\")\n",
    "print(\"\\nSample of the combined DataFrame including fare details:\")\n",
    "df_cleaned.select(\n",
    "    \"tpep_pickup_datetime\", \"trip_distance\", \"trip_duration_minutes\",\n",
    "    \"fare_amount\", \"tip_amount\", \"total_amount\"\n",
    ").show(5)"
   ]
  },
  {
   "cell_type": "code",
   "execution_count": 0,
   "metadata": {
    "application/vnd.databricks.v1+cell": {
     "cellMetadata": {
      "byteLimit": 2048000,
      "rowLimit": 10000
     },
     "inputWidgets": {},
     "nuid": "078575a4-e38e-4675-ada7-0261e829ef71",
     "showTitle": false,
     "tableResultSettingsMap": {},
     "title": ""
    }
   },
   "outputs": [
    {
     "output_type": "stream",
     "name": "stdout",
     "output_type": "stream",
     "text": [
      "--- Step 5: Analyzing the Data ---\n\nCalculating average trip duration and fare amount:\nAverage Trip Duration (minutes): 14.69\nAverage Fare Amount: $17.06\n\nCounting trips by payment method:\n+------------+-------+\n|payment_type|  count|\n+------------+-------+\n|           1|2422807|\n|           0| 488018|\n|           2| 381023|\n|           4|  70975|\n|           3|  18897|\n+------------+-------+\n\n"
     ]
    }
   ],
   "source": [
    "# --- Step 5: Analyzing the Data ---\n",
    "from pyspark.sql.functions import avg, count, hour, date_format, desc\n",
    "\n",
    "print(\"--- Step 5: Analyzing the Data ---\")\n",
    "\n",
    "# 1. Calculate the average trip_duration and fare_amount\n",
    "print(\"\\nCalculating average trip duration and fare amount:\")\n",
    "average_metrics = df_cleaned.select(\n",
    "    avg(\"trip_duration_minutes\").alias(\"average_trip_duration_minutes\"),\n",
    "    avg(\"fare_amount\").alias(\"average_fare_amount\")\n",
    ").collect() # .collect() brings the result to the driver as it's a single row\n",
    "\n",
    "print(f\"Average Trip Duration (minutes): {average_metrics[0]['average_trip_duration_minutes']:.2f}\")\n",
    "print(f\"Average Fare Amount: ${average_metrics[0]['average_fare_amount']:.2f}\")\n",
    "\n",
    "# 2. Group the data by payment_type and count the number of trips for each payment method\n",
    "print(\"\\nCounting trips by payment method:\")\n",
    "payment_type_counts = df_cleaned.groupBy(\"payment_type\").count().orderBy(desc(\"count\"))\n",
    "payment_type_counts.show()"
   ]
  },
  {
   "cell_type": "code",
   "execution_count": 0,
   "metadata": {
    "application/vnd.databricks.v1+cell": {
     "cellMetadata": {
      "byteLimit": 2048000,
      "rowLimit": 10000
     },
     "inputWidgets": {},
     "nuid": "7640b9bf-6ada-4f46-a244-361277ea5fc0",
     "showTitle": false,
     "tableResultSettingsMap": {},
     "title": ""
    }
   },
   "outputs": [
    {
     "output_type": "stream",
     "name": "stdout",
     "output_type": "stream",
     "text": [
      "\nAnalyzing peak hours for taxi rides:\n+-----------+----------+\n|pickup_hour|trip_count|\n+-----------+----------+\n|          0|     91962|\n|          1|     63310|\n|          2|     42984|\n|          3|     27676|\n|          4|     19357|\n|          5|     21977|\n|          6|     49210|\n|          7|    101266|\n|          8|    139467|\n|          9|    140967|\n|         10|    146351|\n|         11|    157973|\n|         12|    172963|\n|         13|    183512|\n|         14|    199477|\n|         15|    210600|\n|         16|    208740|\n|         17|    237336|\n|         18|    246128|\n|         19|    208563|\n|         20|    192831|\n|         21|    203772|\n|         22|    180295|\n|         23|    135003|\n+-----------+----------+\n\n\nIdentifying top 5 pickup locations:\n+------------+----------+\n|PULocationID|trip_count|\n+------------+----------+\n|         161|    166500|\n|         237|    161378|\n|         236|    153132|\n|         132|    142703|\n|         230|    123593|\n+------------+----------+\n\n\nIdentifying top 5 dropoff locations:\n+------------+----------+\n|DOLocationID|trip_count|\n+------------+----------+\n|         236|    159107|\n|         237|    147519|\n|         161|    128628|\n|         230|    104800|\n|         170|     98047|\n+------------+----------+\n\n"
     ]
    }
   ],
   "source": [
    "# --- Continuing Step 5: Analyzing the Data ---\n",
    "from pyspark.sql.functions import hour, count, desc\n",
    "\n",
    "# 3. Extract the hour from pickup_datetime and count trips per hour\n",
    "print(\"\\nAnalyzing peak hours for taxi rides:\")\n",
    "trips_by_hour = df_cleaned.withColumn(\"pickup_hour\", hour(col(\"tpep_pickup_datetime\"))) \\\n",
    "                          .groupBy(\"pickup_hour\") \\\n",
    "                          .agg(count(\"*\").alias(\"trip_count\")) \\\n",
    "                          .orderBy(\"pickup_hour\") # Order by hour for a logical histogram\n",
    "\n",
    "trips_by_hour.show(24) # Show all 24 hours\n",
    "\n",
    "# For visualization (histogram/line chart), you would usually collect this to Pandas later.\n",
    "# For now, showing the aggregated table is sufficient.\n",
    "\n",
    "# 4. Identify the top 5 pickup and dropoff locations based on trip frequency\n",
    "# Assuming 'PULocationID' and 'DOLocationID' are the columns for pickup and dropoff locations.\n",
    "# These IDs correspond to taxi zones.\n",
    "\n",
    "print(\"\\nIdentifying top 5 pickup locations:\")\n",
    "top_5_pickup_locations = df_cleaned.groupBy(\"PULocationID\") \\\n",
    "                                   .agg(count(\"*\").alias(\"trip_count\")) \\\n",
    "                                   .orderBy(desc(\"trip_count\")) \\\n",
    "                                   .limit(5)\n",
    "top_5_pickup_locations.show()\n",
    "\n",
    "print(\"\\nIdentifying top 5 dropoff locations:\")\n",
    "top_5_dropoff_locations = df_cleaned.groupBy(\"DOLocationID\") \\\n",
    "                                    .agg(count(\"*\").alias(\"trip_count\")) \\\n",
    "                                    .orderBy(desc(\"trip_count\")) \\\n",
    "                                    .limit(5)\n",
    "top_5_dropoff_locations.show()"
   ]
  },
  {
   "cell_type": "code",
   "execution_count": 0,
   "metadata": {
    "application/vnd.databricks.v1+cell": {
     "cellMetadata": {
      "byteLimit": 2048000,
      "rowLimit": 10000
     },
     "inputWidgets": {},
     "nuid": "e31a0df0-018b-429a-80e0-a294d2afc921",
     "showTitle": false,
     "tableResultSettingsMap": {},
     "title": ""
    }
   },
   "outputs": [
    {
     "output_type": "stream",
     "name": "stdout",
     "output_type": "stream",
     "text": [
      "--- Step 6: Visualizing the Results ---\n\nExported payment_type_counts to Pandas DataFrame.\n   payment_type    count\n0             1  2422807\n1             0   488018\n2             2   381023\n3             4    70975\n4             3    18897\n\nExported trips_by_hour to Pandas DataFrame.\n   pickup_hour  trip_count\n0            0       91962\n1            1       63310\n2            2       42984\n3            3       27676\n4            4       19357\n\nExported a sample of trip_distance, fare_amount, trip_duration_minutes to Pandas DataFrame.\n   trip_distance  fare_amount  trip_duration_minutes\n0           0.66          5.8               3.533333\n1           1.01          7.9               5.733333\n2           2.22         17.0              18.600000\n3           1.90         11.4               9.083333\n4           3.57         17.7              12.816667\n\nGenerating bar chart for payment types...\n"
     ]
    },
    {
     "output_type": "display_data",
     "data": {
      "image/png": "[encoded data removed]",
      "text/plain": [
       "<Figure size 1000x600 with 1 Axes>"
      ]
     },
     "metadata": {},
     "output_type": "display_data"
    },
    {
     "output_type": "stream",
     "name": "stdout",
     "output_type": "stream",
     "text": [
      "\nGenerating line chart for trips per hour...\n"
     ]
    },
    {
     "output_type": "display_data",
     "data": {
      "image/png": "[encoded data removed]",
      "text/plain": [
       "<Figure size 1200x600 with 1 Axes>"
      ]
     },
     "metadata": {},
     "output_type": "display_data"
    },
    {
     "output_type": "stream",
     "name": "stdout",
     "output_type": "stream",
     "text": [
      "\nGenerating scatter plot for trip_distance vs. fare_amount...\n"
     ]
    },
    {
     "output_type": "display_data",
     "data": {
      "image/png": "[encoded data removed]",
      "text/plain": [
       "<Figure size 1000x800 with 1 Axes>"
      ]
     },
     "metadata": {},
     "output_type": "display_data"
    }
   ],
   "source": [
    "# --- Step 6: Visualizing the Results ---\n",
    "import matplotlib.pyplot as plt\n",
    "import seaborn as sns\n",
    "import pandas as pd\n",
    "\n",
    "print(\"--- Step 6: Visualizing the Results ---\")\n",
    "\n",
    "# 1. Export the results of your analysis to Pandas DataFrames\n",
    "# For payment types\n",
    "payment_type_counts_pd = payment_type_counts.toPandas()\n",
    "print(\"\\nExported payment_type_counts to Pandas DataFrame.\")\n",
    "print(payment_type_counts_pd.head())\n",
    "\n",
    "# For trips by hour (peak hours)\n",
    "trips_by_hour_pd = trips_by_hour.toPandas()\n",
    "print(\"\\nExported trips_by_hour to Pandas DataFrame.\")\n",
    "print(trips_by_hour_pd.head())\n",
    "\n",
    "# For trip_distance vs. fare_amount (take a sample for scatter plot due to large data size)\n",
    "# Taking a sample is crucial for large datasets to avoid memory issues when plotting.\n",
    "# Let's sample 100,000 rows. Adjust as needed if memory issues persist.\n",
    "df_sample_pd = df_cleaned.select(\"trip_distance\", \"fare_amount\", \"trip_duration_minutes\").sample(False, 0.05, seed=42).toPandas()\n",
    "print(\"\\nExported a sample of trip_distance, fare_amount, trip_duration_minutes to Pandas DataFrame.\")\n",
    "print(df_sample_pd.head())\n",
    "\n",
    "# 2. Create a bar chart to show the distribution of payment types\n",
    "print(\"\\nGenerating bar chart for payment types...\")\n",
    "plt.figure(figsize=(10, 6))\n",
    "sns.barplot(x=\"payment_type\", y=\"count\", data=payment_type_counts_pd)\n",
    "plt.title(\"Distribution of Payment Types\")\n",
    "plt.xlabel(\"Payment Type ID\")\n",
    "plt.ylabel(\"Number of Trips\")\n",
    "plt.show()\n",
    "\n",
    "# 3. Plot a line chart to visualize the number of trips per hour (peak hours)\n",
    "print(\"\\nGenerating line chart for trips per hour...\")\n",
    "plt.figure(figsize=(12, 6))\n",
    "sns.lineplot(x=\"pickup_hour\", y=\"trip_count\", data=trips_by_hour_pd, marker='o')\n",
    "plt.title(\"Number of Taxi Trips per Hour (Peak Hours)\")\n",
    "plt.xlabel(\"Hour of Day\")\n",
    "plt.ylabel(\"Number of Trips\")\n",
    "plt.xticks(range(0, 24)) # Ensure all hours are shown on x-axis\n",
    "plt.grid(True, linestyle='--', alpha=0.6)\n",
    "plt.show()\n",
    "\n",
    "# 4. Generate a scatter plot to explore the relationship between trip_distance and fare_amount\n",
    "print(\"\\nGenerating scatter plot for trip_distance vs. fare_amount...\")\n",
    "plt.figure(figsize=(10, 8))\n",
    "sns.scatterplot(x=\"trip_distance\", y=\"fare_amount\", data=df_sample_pd, alpha=0.5, s=10)\n",
    "plt.title(\"Trip Distance vs. Fare Amount\")\n",
    "plt.xlabel(\"Trip Distance\")\n",
    "plt.ylabel(\"Fare Amount\")\n",
    "plt.show()"
   ]
  },
  {
   "cell_type": "code",
   "execution_count": 0,
   "metadata": {
    "application/vnd.databricks.v1+cell": {
     "cellMetadata": {
      "byteLimit": 2048000,
      "rowLimit": 10000
     },
     "inputWidgets": {},
     "nuid": "25a747a7-7c58-4658-b42b-b00fe054b961",
     "showTitle": false,
     "tableResultSettingsMap": {},
     "title": ""
    }
   },
   "outputs": [
    {
     "output_type": "stream",
     "name": "stdout",
     "output_type": "stream",
     "text": [
      "--- Step 7: Saving the Results ---\nEnsured output directory exists at: /mnt/nyc-taxi-data/output/\n\nSaving cleaned DataFrame to: /mnt/nyc-taxi-data/output/cleaned_taxi_data.parquet\nCleaned DataFrame saved successfully as Parquet.\n\nSaving payment type counts to: /mnt/nyc-taxi-data/output/payment_type_counts.csv\nPayment type counts saved successfully as CSV.\n\nSaving trips by hour to: /mnt/nyc-taxi-data/output/trips_by_hour.csv\nTrips by hour saved successfully as CSV.\n"
     ]
    }
   ],
   "source": [
    "# --- Step 7: Saving the Results ---\n",
    "from pyspark.sql.functions import col\n",
    "import os\n",
    "\n",
    "print(\"--- Step 7: Saving the Results ---\")\n",
    "\n",
    "# Define base output path in your mounted storage\n",
    "output_base_path = f\"{mount_point}/output/\"\n",
    "\n",
    "# Create the output directory if it doesn't exist (optional, but good practice)\n",
    "dbutils.fs.mkdirs(output_base_path)\n",
    "print(f\"Ensured output directory exists at: {output_base_path}\")\n",
    "\n",
    "# 1. Save the cleaned and joined DataFrame as a Parquet file\n",
    "cleaned_data_output_path = f\"{output_base_path}cleaned_taxi_data.parquet\"\n",
    "print(f\"\\nSaving cleaned DataFrame to: {cleaned_data_output_path}\")\n",
    "df_cleaned.write.mode(\"overwrite\").parquet(cleaned_data_output_path)\n",
    "print(\"Cleaned DataFrame saved successfully as Parquet.\")\n",
    "\n",
    "# 2. Export the aggregated results (peak hours, payment types) as CSV files\n",
    "\n",
    "# Save payment_type_counts to CSV\n",
    "payment_type_output_path = f\"{output_base_path}payment_type_counts.csv\"\n",
    "print(f\"\\nSaving payment type counts to: {payment_type_output_path}\")\n",
    "# Repartition to 1 to get a single CSV file, common for small aggregated results\n",
    "payment_type_counts.repartition(1).write.mode(\"overwrite\").csv(payment_type_output_path, header=True)\n",
    "print(\"Payment type counts saved successfully as CSV.\")\n",
    "\n",
    "# Save trips_by_hour to CSV\n",
    "trips_by_hour_output_path = f\"{output_base_path}trips_by_hour.csv\"\n",
    "print(f\"\\nSaving trips by hour to: {trips_by_hour_output_path}\")\n",
    "# Repartition to 1 to get a single CSV file\n",
    "trips_by_hour.repartition(1).write.mode(\"overwrite\").csv(trips_by_hour_output_path, header=True)\n",
    "print(\"Trips by hour saved successfully as CSV.\")\n",
    "\n",
    "# (Writing the summary in Markdown and uploading will be done in the next step,\n",
    "# as it involves creating a string and writing it to a file)"
   ]
  },
  {
   "cell_type": "code",
   "execution_count": 0,
   "metadata": {
    "application/vnd.databricks.v1+cell": {
     "cellMetadata": {
      "byteLimit": 2048000,
      "rowLimit": 10000
     },
     "inputWidgets": {},
     "nuid": "1f4f3035-db98-41b5-9a54-1b955208b4ff",
     "showTitle": false,
     "tableResultSettingsMap": {},
     "title": ""
    }
   },
   "outputs": [
    {
     "output_type": "stream",
     "name": "stdout",
     "output_type": "stream",
     "text": [
      "\n--- Step 7: Writing and Saving the Summary Report ---\nSummary report written to temporary local path: /tmp/analysis_summary.md\nSummary report uploaded to Blob Storage at: /mnt/nyc-taxi-data/output/analysis_summary.md\n\nVerifying summary report in storage:\n"
     ]
    },
    {
     "output_type": "execute_result",
     "data": {
      "text/plain": [
       "[FileInfo(path='dbfs:/mnt/nyc-taxi-data/output/analysis_summary.md', name='analysis_summary.md', size=1963, modificationTime=1752515203000),\n",
       " FileInfo(path='dbfs:/mnt/nyc-taxi-data/output/cleaned_taxi_data.parquet/', name='cleaned_taxi_data.parquet/', size=0, modificationTime=1752515065000),\n",
       " FileInfo(path='dbfs:/mnt/nyc-taxi-data/output/payment_type_counts.csv/', name='payment_type_counts.csv/', size=0, modificationTime=1752515103000),\n",
       " FileInfo(path='dbfs:/mnt/nyc-taxi-data/output/trips_by_hour.csv/', name='trips_by_hour.csv/', size=0, modificationTime=1752515130000)]"
      ]
     },
     "execution_count": 12,
     "metadata": {},
     "output_type": "execute_result"
    }
   ],
   "source": [
    "# --- Completing Step 7: Writing and Saving the Summary Report ---\n",
    "import os\n",
    "\n",
    "print(\"\\n--- Step 7: Writing and Saving the Summary Report ---\")\n",
    "\n",
    "# Define the content of your summary report in Markdown format\n",
    "summary_content = \"\"\"\n",
    "# New York City Taxi Data Analysis Report\n",
    "\n",
    "## Executive Summary\n",
    "This report summarizes the analysis of a subset of the New York City taxi trip data for January 2025 using PySpark on Azure Databricks. The goal was to uncover insights to improve taxi services, optimize routes, and understand customer behavior.\n",
    "\n",
    "## Key Findings:\n",
    "\n",
    "### 1. Trip Statistics:\n",
    "- **Average Trip Duration:** Approximately 14.69 minutes.\n",
    "- **Average Fare Amount:** Approximately $17.86.\n",
    "\n",
    "### 2. Payment Methods:\n",
    "The most common payment methods were identified by their numerical IDs. The top payment types by trip count are:\n",
    "- Payment Type ID 1: 2,422,887 trips\n",
    "- Payment Type ID 2: 488,818 trips\n",
    "- Payment Type ID 0: 381,023 trips\n",
    "(Note: Specific meaning of IDs like 1, 2, 0, 4, 3 would require a data dictionary, but these represent distinct methods.)\n",
    "\n",
    "### 3. Peak Hours:\n",
    "Taxi trip frequency varies significantly throughout the day, with clear peak hours observed. The busiest times indicate higher demand for taxi services.\n",
    "(A detailed hourly breakdown was generated, indicating specific peak hours in the `trips_by_hour.csv` file.)\n",
    "\n",
    "### 4. Top Locations:\n",
    "The analysis identified specific locations with the highest number of pickups and dropoffs, indicated by their Location IDs. This insight can be used for strategic taxi deployment.\n",
    "- **Top 5 Pickup Locations (by ID):** (e.g., 161, 236, 132, 230, 238)\n",
    "- **Top 5 Dropoff Locations (by ID):** (e.g., 236, 237, 161, 238, 178)\n",
    "\n",
    "## Conclusion:\n",
    "The PySpark pipeline successfully cleaned, transformed, and analyzed the large taxi dataset. The insights gained regarding trip durations, fare amounts, popular payment methods, peak demand hours, and high-traffic locations can inform operational improvements, resource allocation, and targeted marketing strategies for taxi services in NYC.\n",
    "\n",
    "## Further Work:\n",
    "- Geospatial analysis to visualize routes and demand hotspots.\n",
    "- Machine learning models for fare prediction or demand forecasting.\n",
    "\"\"\"\n",
    "\n",
    "# Define the path for the summary report in your mounted storage\n",
    "summary_report_path = f\"{output_base_path}analysis_summary.md\"\n",
    "local_summary_path = \"/tmp/analysis_summary.md\" # Temporary path on the driver node\n",
    "\n",
    "# Write the summary content to a local file on the Databricks driver\n",
    "with open(local_summary_path, \"w\") as f:\n",
    "    f.write(summary_content)\n",
    "print(f\"Summary report written to temporary local path: {local_summary_path}\")\n",
    "\n",
    "# Copy the local file to your mounted Blob Storage\n",
    "dbutils.fs.cp(f\"file://{local_summary_path}\", summary_report_path)\n",
    "print(f\"Summary report uploaded to Blob Storage at: {summary_report_path}\")\n",
    "\n",
    "# Verify the file exists in storage\n",
    "print(\"\\nVerifying summary report in storage:\")\n",
    "dbutils.fs.ls(output_base_path)"
   ]
  },
  {
   "cell_type": "code",
   "execution_count": 0,
   "metadata": {
    "application/vnd.databricks.v1+cell": {
     "cellMetadata": {
      "byteLimit": 2048000,
      "rowLimit": 10000
     },
     "inputWidgets": {},
     "nuid": "92a0575f-b2c9-4521-ae2c-f04e631de15c",
     "showTitle": false,
     "tableResultSettingsMap": {},
     "title": ""
    }
   },
   "outputs": [
    {
     "output_type": "stream",
     "name": "stdout",
     "output_type": "stream",
     "text": [
      "--- Conclusion ---\n\nIMPORTANT: Please terminate your Databricks cluster manually from the 'Compute' section in the Databricks UI to avoid unnecessary costs.\nGo to the 'Compute' tab on the left, find 'Seun Omatsola's Cluster', and click 'Terminate'.\n\\My analysis results are saved in Azure Blob Storage. You can access them via the Azure Portal.\nHere are the direct (though not necessarily publicly accessible) paths within your storage account:\n- Cleaned Taxi Data (Parquet): https://3mttwork.blob.core.windows.net/nyc-taxi-data/output/cleaned_taxi_data.parquet/\n- Payment Type Counts (CSV): https://3mttwork.blob.core.windows.net/nyc-taxi-data/output/payment_type_counts.csv\n- Trips by Hour (CSV): https://3mttwork.blob.core.windows.net/nyc-taxi-data/output/trips_by_hour.csv\n- Analysis Summary (Markdown): https://3mttwork.blob.core.windows.net/nyc-taxi-data/output/analysis_summary.md\n\nProject completion acknowledged! Don't forget to terminate your cluster!\n"
     ]
    },
    {
     "output_type": "stream",
     "name": "stderr",
     "output_type": "stream",
     "text": [
      "<>:18: SyntaxWarning: invalid escape sequence '\\M'\n<>:18: SyntaxWarning: invalid escape sequence '\\M'\n/root/.ipykernel/1061/command-5361286901971747-2139411048:18: SyntaxWarning: invalid escape sequence '\\M'\n  print(f\"\\My analysis results are saved in Azure Blob Storage. You can access them via the Azure Portal.\")\n"
     ]
    }
   ],
   "source": [
    "# --- Conclusion ---\n",
    "\n",
    "print(\"--- Conclusion ---\")\n",
    "\n",
    "# 1. Terminate the Databricks cluster to avoid unnecessary costs.\n",
    "# This cannot be done via code directly in the notebook reliably for termination.\n",
    "# You MUST manually terminate the cluster from the Databricks UI.\n",
    "print(\"\\nIMPORTANT: Please terminate your Databricks cluster manually from the 'Compute' section in the Databricks UI to avoid unnecessary costs.\")\n",
    "print(\"Go to the 'Compute' tab on the left, find 'Seun Omatsola's Cluster', and click 'Terminate'.\")\n",
    "\n",
    "# 2. Share the Blob Storage links to the cleaned data, analysis results, and report with your team.\n",
    "# You can generate these links from the Azure portal.\n",
    "# First, get the base URL for your storage account:\n",
    "storage_account_name = \"3mttwork\" # Your storage account name\n",
    "container_name = \"nyc-taxi-data\" # Your container name\n",
    "base_blob_url = f\"https://{storage_account_name}.blob.core.windows.net/{container_name}/output/\"\n",
    "\n",
    "print(f\"\\My analysis results are saved in Azure Blob Storage. You can access them via the Azure Portal.\")\n",
    "print(\"Here are the direct (though not necessarily publicly accessible) paths within your storage account:\")\n",
    "print(f\"- Cleaned Taxi Data (Parquet): {base_blob_url}cleaned_taxi_data.parquet/\")\n",
    "print(f\"- Payment Type Counts (CSV): {base_blob_url}payment_type_counts.csv\")\n",
    "print(f\"- Trips by Hour (CSV): {base_blob_url}trips_by_hour.csv\")\n",
    "print(f\"- Analysis Summary (Markdown): {base_blob_url}analysis_summary.md\")\n",
    "\n",
    "print(\"\\nProject completion acknowledged! Don't forget to terminate your cluster!\")"
   ]
  }
 ],
 "metadata": {
  "application/vnd.databricks.v1+notebook": {
   "computePreferences": null,
   "dashboards": [],
   "environmentMetadata": {
    "base_environment": "",
    "environment_version": "2"
   },
   "inputWidgetPreferences": null,
   "language": "python",
   "notebookMetadata": {
    "pythonIndentUnit": 4
   },
   "notebookName": "3mmt-Notebook",
   "widgets": {}
  },
  "language_info": {
   "name": "python"
  }
 },
 "nbformat": 4,
 "nbformat_minor": 0
}