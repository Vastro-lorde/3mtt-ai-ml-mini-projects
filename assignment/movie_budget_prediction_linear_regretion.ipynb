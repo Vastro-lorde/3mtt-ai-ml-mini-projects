{
 "cells": [
  {
   "cell_type": "code",
   "execution_count": 78,
   "metadata": {},
   "outputs": [],
   "source": [
    "import pandas as pd\n",
    "import numpy as np\n",
    "import requests\n",
    "import matplotlib.pyplot as plt\n",
    "import seaborn as sns\n",
    "# from scipy.stats import linregress\n",
    "from sklearn.model_selection import train_test_split\n",
    "from sklearn.linear_model import LinearRegression\n",
    "from sklearn.metrics import mean_absolute_error, mean_squared_error, r2_score"
   ]
  },
  {
   "cell_type": "markdown",
   "metadata": {},
   "source": [
    "# Step 1: Load Data"
   ]
  },
  {
   "cell_type": "code",
   "execution_count": 79,
   "metadata": {},
   "outputs": [
    {
     "data": {
      "text/html": [
       "<div>\n",
       "<style scoped>\n",
       "    .dataframe tbody tr th:only-of-type {\n",
       "        vertical-align: middle;\n",
       "    }\n",
       "\n",
       "    .dataframe tbody tr th {\n",
       "        vertical-align: top;\n",
       "    }\n",
       "\n",
       "    .dataframe thead th {\n",
       "        text-align: right;\n",
       "    }\n",
       "</style>\n",
       "<table border=\"1\" class=\"dataframe\">\n",
       "  <thead>\n",
       "    <tr style=\"text-align: right;\">\n",
       "      <th></th>\n",
       "      <th></th>\n",
       "      <th>ReleaseDate</th>\n",
       "      <th>Movie</th>\n",
       "      <th>ProductionBudget</th>\n",
       "      <th>DomesticGross</th>\n",
       "      <th>WorldwideGross</th>\n",
       "    </tr>\n",
       "  </thead>\n",
       "  <tbody>\n",
       "    <tr>\n",
       "      <th>0</th>\n",
       "      <td>1</td>\n",
       "      <td>Dec 16, 2015</td>\n",
       "      <td>Star Wars Ep. VII: The Force Awakens</td>\n",
       "      <td>$533,200,000</td>\n",
       "      <td>$936,662,225</td>\n",
       "      <td>$2,056,046,835</td>\n",
       "    </tr>\n",
       "    <tr>\n",
       "      <th>1</th>\n",
       "      <td>2</td>\n",
       "      <td>Apr 23, 2019</td>\n",
       "      <td>Avengers: Endgame</td>\n",
       "      <td>$400,000,000</td>\n",
       "      <td>$858,373,000</td>\n",
       "      <td>$2,748,242,781</td>\n",
       "    </tr>\n",
       "    <tr>\n",
       "      <th>2</th>\n",
       "      <td>3</td>\n",
       "      <td>Dec 9, 2022</td>\n",
       "      <td>Avatar: The Way of Water</td>\n",
       "      <td>$400,000,000</td>\n",
       "      <td>$684,075,767</td>\n",
       "      <td>$2,320,250,281</td>\n",
       "    </tr>\n",
       "    <tr>\n",
       "      <th>3</th>\n",
       "      <td>4</td>\n",
       "      <td>May 21, 2025</td>\n",
       "      <td>Mission: Impossible—The Final Reckoning</td>\n",
       "      <td>$400,000,000</td>\n",
       "      <td>$0</td>\n",
       "      <td>$0</td>\n",
       "    </tr>\n",
       "    <tr>\n",
       "      <th>4</th>\n",
       "      <td>5</td>\n",
       "      <td>May 20, 2011</td>\n",
       "      <td>Pirates of the Caribbean: On Stranger Tides</td>\n",
       "      <td>$379,000,000</td>\n",
       "      <td>$241,071,802</td>\n",
       "      <td>$1,045,713,802</td>\n",
       "    </tr>\n",
       "  </tbody>\n",
       "</table>\n",
       "</div>"
      ],
      "text/plain": [
       "       ReleaseDate                                        Movie  \\\n",
       "0  1  Dec 16, 2015         Star Wars Ep. VII: The Force Awakens   \n",
       "1  2  Apr 23, 2019                            Avengers: Endgame   \n",
       "2  3   Dec 9, 2022                     Avatar: The Way of Water   \n",
       "3  4  May 21, 2025      Mission: Impossible—The Final Reckoning   \n",
       "4  5  May 20, 2011  Pirates of the Caribbean: On Stranger Tides   \n",
       "\n",
       "  ProductionBudget DomesticGross  WorldwideGross  \n",
       "0     $533,200,000  $936,662,225  $2,056,046,835  \n",
       "1     $400,000,000  $858,373,000  $2,748,242,781  \n",
       "2     $400,000,000  $684,075,767  $2,320,250,281  \n",
       "3     $400,000,000            $0              $0  \n",
       "4     $379,000,000  $241,071,802  $1,045,713,802  "
      ]
     },
     "execution_count": 79,
     "metadata": {},
     "output_type": "execute_result"
    }
   ],
   "source": [
    "import requests\n",
    "import pandas as pd\n",
    "from bs4 import BeautifulSoup\n",
    "\n",
    "# Step 1: Fetch the Web Page\n",
    "url = \"https://www.the-numbers.com/movie/budgets/all\"\n",
    "headers = {\"User-Agent\": \"Mozilla/5.0\"}\n",
    "response = requests.get(url, headers=headers)\n",
    "\n",
    "# Step 2: Parse HTML\n",
    "soup = BeautifulSoup(response.text, \"html.parser\")\n",
    "table = soup.find(\"table\")\n",
    "\n",
    "# Step 3: Extract Column Names\n",
    "headers = [th.text.strip() for th in table.find_all(\"th\")]\n",
    "\n",
    "# Step 4: Extract Table Rows\n",
    "data = []\n",
    "for row in table.find_all(\"tr\")[1:]:  # Skip header row\n",
    "    cols = [td.text.strip() for td in row.find_all(\"td\")]\n",
    "    if len(cols) == len(headers):  # Ensure row length matches headers\n",
    "        data.append(cols)\n",
    "\n",
    "# Step 5: Convert to DataFrame\n",
    "df = pd.DataFrame(data, columns=headers)\n",
    "\n",
    "# Display first few rows\n",
    "df.head()\n"
   ]
  },
  {
   "cell_type": "code",
   "execution_count": 80,
   "metadata": {},
   "outputs": [],
   "source": [
    "# Data Cleaning and Preprocessing\n",
    "def clean_currency(value):\n",
    "    if isinstance(value, str):\n",
    "        return float(value.replace(\"$\", \"\").replace(\",\", \"\"))\n",
    "    return float(value)\n",
    "\n",
    "# Store column names in variables\n",
    "budget_column = 'ProductionBudget'\n",
    "gross_column = 'WorldwideGross'\n",
    "\n",
    "df[budget_column] = df[budget_column].apply(clean_currency)\n",
    "df[gross_column] = df[gross_column].apply(clean_currency)\n"
   ]
  },
  {
   "cell_type": "code",
   "execution_count": 81,
   "metadata": {},
   "outputs": [],
   "source": [
    "#Remove rows with 0 values.\n",
    "df = df[(df[budget_column] > 0) & (df[gross_column] > 0)]\n",
    "\n",
    "# Calculate Profit\n",
    "df.loc[:, 'Profit'] = df[gross_column] - df[budget_column]"
   ]
  },
  {
   "cell_type": "code",
   "execution_count": 127,
   "metadata": {},
   "outputs": [],
   "source": [
    "# Model Building and Evaluation\n",
    "X = df[[budget_column]]\n",
    "y = df[gross_column]\n",
    "\n",
    "X_train, X_test, y_train, y_test = train_test_split(X, y, test_size=0.2, random_state=42)"
   ]
  },
  {
   "cell_type": "code",
   "execution_count": 128,
   "metadata": {},
   "outputs": [],
   "source": [
    "model = LinearRegression()\n",
    "model.fit(X_train, y_train)\n",
    "\n",
    "y_pred = model.predict(X_test)"
   ]
  },
  {
   "cell_type": "code",
   "execution_count": 129,
   "metadata": {},
   "outputs": [
    {
     "name": "stdout",
     "output_type": "stream",
     "text": [
      "R^2 Score: 0.3378488949771742\n",
      "Mean Absolute Error (MAE): 274233001.68422496\n",
      "Mean Squared Error (MSE): 1.407289528208989e+17\n"
     ]
    }
   ],
   "source": [
    "\n",
    "mse = mean_squared_error(y_test, y_pred)\n",
    "mae = mean_absolute_error(y_test, y_pred)\n",
    "r2 = r2_score(y_test, y_pred)\n",
    "print(f\"R^2 Score: {r2}\")\n",
    "print(f\"Mean Absolute Error (MAE): {mae}\")\n",
    "print(f\"Mean Squared Error (MSE): {mse}\")\n"
   ]
  },
  {
   "cell_type": "code",
   "execution_count": 130,
   "metadata": {},
   "outputs": [
    {
     "name": "stdout",
     "output_type": "stream",
     "text": [
      "Predicted Profit for $500,000 budget: $-94667386.92911942\n"
     ]
    },
    {
     "name": "stderr",
     "output_type": "stream",
     "text": [
      "c:\\Users\\onuoh\\.virtualenvs\\3mtt-ai-ml-mini-projects-ViWCxpd9\\Lib\\site-packages\\sklearn\\utils\\validation.py:2739: UserWarning: X does not have valid feature names, but LinearRegression was fitted with feature names\n",
      "  warnings.warn(\n"
     ]
    },
    {
     "data": {
      "image/png": "[encoded data removed]",
      "text/plain": [
       "<Figure size 1000x600 with 1 Axes>"
      ]
     },
     "metadata": {},
     "output_type": "display_data"
    }
   ],
   "source": [
    "\n",
    "# Step 11: Predict Profit for a $500,000 Budget\n",
    "budget = np.array([[500000]])\n",
    "predicted_profit = model.predict(budget)[0]\n",
    "print(f\"Predicted Profit for $500,000 budget: ${predicted_profit}\")\n",
    "\n",
    "# Step 12: Visualization\n",
    "plt.figure(figsize=(10, 6))\n",
    "sns.scatterplot(x=X_test[budget_column], y=y_test, label=\"Actual\", color=\"blue\")\n",
    "sns.scatterplot(x=X_test[budget_column], y=y_pred, label=\"Predicted\", color=\"red\")\n",
    "plt.xlabel(budget_column)\n",
    "plt.ylabel(\"Profit\")\n",
    "plt.title(\"Production Budget vs Profit\")\n",
    "plt.legend()\n",
    "plt.show()"
   ]
  },
  {
   "cell_type": "code",
   "execution_count": 131,
   "metadata": {},
   "outputs": [
    {
     "name": "stdout",
     "output_type": "stream",
     "text": [
      "Predicted Profit for $500,000 budget: $-95167386.92911942\n"
     ]
    },
    {
     "name": "stderr",
     "output_type": "stream",
     "text": [
      "c:\\Users\\onuoh\\.virtualenvs\\3mtt-ai-ml-mini-projects-ViWCxpd9\\Lib\\site-packages\\sklearn\\utils\\validation.py:2739: UserWarning: X does not have valid feature names, but LinearRegression was fitted with feature names\n",
      "  warnings.warn(\n"
     ]
    },
    {
     "data": {
      "image/png": "[encoded data removed]",
      "text/plain": [
       "<Figure size 1000x600 with 1 Axes>"
      ]
     },
     "metadata": {},
     "output_type": "display_data"
    }
   ],
   "source": [
    "# Step 11: Predict Profit for a $500,000 Budget\n",
    "predicted_gross = model.predict(budget)[0]\n",
    "predicted_profit = predicted_gross - budget[0][0]\n",
    "print(f\"Predicted Profit for $500,000 budget: ${predicted_profit}\")\n",
    "\n",
    "# Step 12: Visualization\n",
    "plt.figure(figsize=(10, 6))\n",
    "sns.scatterplot(x=X_test[budget_column], y=y_test, label=\"Actual\", color=\"blue\")\n",
    "sns.scatterplot(x=X_test[budget_column], y=y_pred, label=\"Predicted\", color=\"red\")\n",
    "plt.xlabel(budget_column)\n",
    "plt.ylabel(gross_column)\n",
    "plt.title(f\"Production Budget vs. Worldwide Gross (R2 = {r2:.2f})\")\n",
    "plt.legend()\n",
    "plt.show()"
   ]
  },
  {
   "cell_type": "code",
   "execution_count": 132,
   "metadata": {},
   "outputs": [
    {
     "name": "stdout",
     "output_type": "stream",
     "text": [
      "Predicted Profit for $500,000 budget using loaded model: $-94667386.92911942\n"
     ]
    },
    {
     "name": "stderr",
     "output_type": "stream",
     "text": [
      "c:\\Users\\onuoh\\.virtualenvs\\3mtt-ai-ml-mini-projects-ViWCxpd9\\Lib\\site-packages\\sklearn\\utils\\validation.py:2739: UserWarning: X does not have valid feature names, but LinearRegression was fitted with feature names\n",
      "  warnings.warn(\n"
     ]
    }
   ],
   "source": [
    "model.coef_, model.intercept_\n",
    "# Step 13: Save the Model\n",
    "import joblib\n",
    "joblib.dump(model, \"budget_profit_model.pkl\")\n",
    "# Load the model\n",
    "loaded_model = joblib.load(\"budget_profit_model.pkl\")\n",
    "# Predict using the loaded model\n",
    "predicted_profit_loaded = loaded_model.predict(budget)[0]\n",
    "print(f\"Predicted Profit for $500,000 budget using loaded model: ${predicted_profit_loaded}\")"
   ]
  }
 ],
 "metadata": {
  "kernelspec": {
   "display_name": "3mtt-ai-ml-mini-projects-ViWCxpd9",
   "language": "python",
   "name": "python3"
  },
  "language_info": {
   "codemirror_mode": {
    "name": "ipython",
    "version": 3
   },
   "file_extension": ".py",
   "mimetype": "text/x-python",
   "name": "python",
   "nbconvert_exporter": "python",
   "pygments_lexer": "ipython3",
   "version": "3.13.2"
  }
 },
 "nbformat": 4,
 "nbformat_minor": 2
}
