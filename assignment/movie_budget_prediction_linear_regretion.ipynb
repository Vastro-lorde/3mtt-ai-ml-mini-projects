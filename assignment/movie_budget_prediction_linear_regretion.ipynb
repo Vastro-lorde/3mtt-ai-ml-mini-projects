{
 "cells": [
  {
   "cell_type": "code",
   "execution_count": 1,
   "metadata": {},
   "outputs": [],
   "source": [
    "import pandas as pd\n",
    "import numpy as np\n",
    "import requests\n",
    "import matplotlib.pyplot as plt\n",
    "import seaborn as sns\n",
    "from sklearn.model_selection import train_test_split\n",
    "from sklearn.linear_model import LinearRegression\n",
    "from sklearn.metrics import mean_absolute_error, mean_squared_error"
   ]
  },
  {
   "cell_type": "markdown",
   "metadata": {},
   "source": [
    "# Step 1: Load Data"
   ]
  },
  {
   "cell_type": "code",
   "execution_count": 3,
   "metadata": {},
   "outputs": [
    {
     "data": {
      "text/html": [
       "<div>\n",
       "<style scoped>\n",
       "    .dataframe tbody tr th:only-of-type {\n",
       "        vertical-align: middle;\n",
       "    }\n",
       "\n",
       "    .dataframe tbody tr th {\n",
       "        vertical-align: top;\n",
       "    }\n",
       "\n",
       "    .dataframe thead th {\n",
       "        text-align: right;\n",
       "    }\n",
       "</style>\n",
       "<table border=\"1\" class=\"dataframe\">\n",
       "  <thead>\n",
       "    <tr style=\"text-align: right;\">\n",
       "      <th></th>\n",
       "      <th></th>\n",
       "      <th>ReleaseDate</th>\n",
       "      <th>Movie</th>\n",
       "      <th>ProductionBudget</th>\n",
       "      <th>DomesticGross</th>\n",
       "      <th>WorldwideGross</th>\n",
       "    </tr>\n",
       "  </thead>\n",
       "  <tbody>\n",
       "    <tr>\n",
       "      <th>0</th>\n",
       "      <td>1</td>\n",
       "      <td>Dec 16, 2015</td>\n",
       "      <td>Star Wars Ep. VII: The Force Awakens</td>\n",
       "      <td>$533,200,000</td>\n",
       "      <td>$936,662,225</td>\n",
       "      <td>$2,056,046,835</td>\n",
       "    </tr>\n",
       "    <tr>\n",
       "      <th>1</th>\n",
       "      <td>2</td>\n",
       "      <td>Apr 23, 2019</td>\n",
       "      <td>Avengers: Endgame</td>\n",
       "      <td>$400,000,000</td>\n",
       "      <td>$858,373,000</td>\n",
       "      <td>$2,748,242,781</td>\n",
       "    </tr>\n",
       "    <tr>\n",
       "      <th>2</th>\n",
       "      <td>3</td>\n",
       "      <td>Dec 9, 2022</td>\n",
       "      <td>Avatar: The Way of Water</td>\n",
       "      <td>$400,000,000</td>\n",
       "      <td>$684,075,767</td>\n",
       "      <td>$2,320,250,281</td>\n",
       "    </tr>\n",
       "    <tr>\n",
       "      <th>3</th>\n",
       "      <td>4</td>\n",
       "      <td>May 21, 2025</td>\n",
       "      <td>Mission: Impossible—The Final Reckoning</td>\n",
       "      <td>$400,000,000</td>\n",
       "      <td>$0</td>\n",
       "      <td>$0</td>\n",
       "    </tr>\n",
       "    <tr>\n",
       "      <th>4</th>\n",
       "      <td>5</td>\n",
       "      <td>May 20, 2011</td>\n",
       "      <td>Pirates of the Caribbean: On Stranger Tides</td>\n",
       "      <td>$379,000,000</td>\n",
       "      <td>$241,071,802</td>\n",
       "      <td>$1,045,713,802</td>\n",
       "    </tr>\n",
       "  </tbody>\n",
       "</table>\n",
       "</div>"
      ],
      "text/plain": [
       "       ReleaseDate                                        Movie  \\\n",
       "0  1  Dec 16, 2015         Star Wars Ep. VII: The Force Awakens   \n",
       "1  2  Apr 23, 2019                            Avengers: Endgame   \n",
       "2  3   Dec 9, 2022                     Avatar: The Way of Water   \n",
       "3  4  May 21, 2025      Mission: Impossible—The Final Reckoning   \n",
       "4  5  May 20, 2011  Pirates of the Caribbean: On Stranger Tides   \n",
       "\n",
       "  ProductionBudget DomesticGross  WorldwideGross  \n",
       "0     $533,200,000  $936,662,225  $2,056,046,835  \n",
       "1     $400,000,000  $858,373,000  $2,748,242,781  \n",
       "2     $400,000,000  $684,075,767  $2,320,250,281  \n",
       "3     $400,000,000            $0              $0  \n",
       "4     $379,000,000  $241,071,802  $1,045,713,802  "
      ]
     },
     "execution_count": 3,
     "metadata": {},
     "output_type": "execute_result"
    }
   ],
   "source": [
    "import requests\n",
    "import pandas as pd\n",
    "from bs4 import BeautifulSoup\n",
    "\n",
    "# Step 1: Fetch the Web Page\n",
    "url = \"https://www.the-numbers.com/movie/budgets/all\"\n",
    "headers = {\"User-Agent\": \"Mozilla/5.0\"}\n",
    "response = requests.get(url, headers=headers)\n",
    "\n",
    "# Step 2: Parse HTML\n",
    "soup = BeautifulSoup(response.text, \"html.parser\")\n",
    "table = soup.find(\"table\")\n",
    "\n",
    "# Step 3: Extract Column Names\n",
    "headers = [th.text.strip() for th in table.find_all(\"th\")]\n",
    "\n",
    "# Step 4: Extract Table Rows\n",
    "data = []\n",
    "for row in table.find_all(\"tr\")[1:]:  # Skip header row\n",
    "    cols = [td.text.strip() for td in row.find_all(\"td\")]\n",
    "    if len(cols) == len(headers):  # Ensure row length matches headers\n",
    "        data.append(cols)\n",
    "\n",
    "# Step 5: Convert to DataFrame\n",
    "df = pd.DataFrame(data, columns=headers)\n",
    "\n",
    "# Display first few rows\n",
    "df.head()\n"
   ]
  },
  {
   "cell_type": "code",
   "execution_count": 12,
   "metadata": {},
   "outputs": [
    {
     "name": "stdout",
     "output_type": "stream",
     "text": [
      "0     2.056047e+09\n",
      "1     2.748243e+09\n",
      "2     2.320250e+09\n",
      "3     0.000000e+00\n",
      "4     1.045714e+09\n",
      "          ...     \n",
      "95    2.104698e+08\n",
      "96    2.195355e+08\n",
      "97    2.714675e+08\n",
      "98    1.858842e+08\n",
      "99    4.071508e+08\n",
      "Name: WorldwideGross, Length: 100, dtype: float64\n"
     ]
    }
   ],
   "source": [
    "# Step 6: Data Cleaning\n",
    "production_budget = df[\"ProductionBudget\"].replace('[\\\\$,]', '', regex=True).astype(float)\n",
    "worldwide_gross = df[\"WorldwideGross\"].replace('[\\\\$,]', '', regex=True).astype(float)\n",
    "profit = worldwide_gross - production_budget\n",
    "print(worldwide_gross)"
   ]
  },
  {
   "cell_type": "code",
   "execution_count": 16,
   "metadata": {},
   "outputs": [
    {
     "name": "stdout",
     "output_type": "stream",
     "text": [
      "55    210000000.0\n",
      "88    200000000.0\n",
      "26    250000000.0\n",
      "42    225000000.0\n",
      "69    200000000.0\n",
      "Name: ProductionBudget, dtype: float64 83    200000000.0\n",
      "53    210000000.0\n",
      "70    200000000.0\n",
      "45    225000000.0\n",
      "44    225000000.0\n",
      "Name: ProductionBudget, dtype: float64 55    1.124590e+08\n",
      "88    1.935833e+08\n",
      "26    5.955558e+08\n",
      "42    1.290100e+09\n",
      "69    7.522250e+08\n",
      "dtype: float64 83    3.601554e+08\n",
      "53    8.940541e+08\n",
      "70    1.014631e+09\n",
      "45    1.923413e+08\n",
      "44    4.429995e+08\n",
      "dtype: float64\n"
     ]
    }
   ],
   "source": [
    "# Step 7: Define X and Y\n",
    "X = production_budget # Feature\n",
    "y = profit  # Target\n",
    "\n",
    "# Step 8: Split into Training and Test Sets\n",
    "X_train, X_test, y_train, y_test = train_test_split(X, y, test_size=0.2, random_state=42)\n",
    "\n",
    "print(X_train.head(), X_test.head(), y_train.head(), y_test.head())"
   ]
  },
  {
   "cell_type": "code",
   "execution_count": null,
   "metadata": {},
   "outputs": [],
   "source": [
    "# Step 9: Train Linear Regression Model\n",
    "model = LinearRegression()\n",
    "model.fit(X_train, y_train)\n",
    "\n",
    "# Step 10: Evaluate Model\n",
    "y_pred = model.predict(X_test)\n",
    "mae = mean_absolute_error(y_test, y_pred)\n",
    "mse = mean_squared_error(y_test, y_pred)\n",
    "print(f\"Mean Absolute Error (MAE): {mae}\")\n",
    "print(f\"Mean Squared Error (MSE): {mse}\")\n",
    "\n",
    "# Step 11: Predict Profit for a $500,000 Budget\n",
    "budget = np.array([[500000]])\n",
    "predicted_profit = model.predict(budget)[0]\n",
    "print(f\"Predicted Profit for $500,000 budget: ${predicted_profit:,.2f}\")\n",
    "\n",
    "# Step 12: Visualization\n",
    "plt.figure(figsize=(10, 6))\n",
    "sns.scatterplot(x=X_test[\"Production Budget\"], y=y_test, label=\"Actual\", color=\"blue\")\n",
    "sns.scatterplot(x=X_test[\"Production Budget\"], y=y_pred, label=\"Predicted\", color=\"red\")\n",
    "plt.xlabel(\"Production Budget\")\n",
    "plt.ylabel(\"Profit\")\n",
    "plt.title(\"Production Budget vs Profit\")\n",
    "plt.legend()\n",
    "plt.show()"
   ]
  }
 ],
 "metadata": {
  "kernelspec": {
   "display_name": "3mtt-ai-ml-mini-projects-ViWCxpd9",
   "language": "python",
   "name": "python3"
  },
  "language_info": {
   "codemirror_mode": {
    "name": "ipython",
    "version": 3
   },
   "file_extension": ".py",
   "mimetype": "text/x-python",
   "name": "python",
   "nbconvert_exporter": "python",
   "pygments_lexer": "ipython3",
   "version": "3.13.2"
  }
 },
 "nbformat": 4,
 "nbformat_minor": 2
}
