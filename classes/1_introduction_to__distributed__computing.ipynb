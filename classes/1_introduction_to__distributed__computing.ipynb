{
  "cells": [
    {
      "cell_type": "markdown",
      "id": "f476d4f5",
      "metadata": {
        "id": "f476d4f5"
      },
      "source": [
        "🎥 Recommended Video: [Hadoop Explained in 4 minutes](https://www.youtube.com/watch?v=8pqvKo2Of50)\n",
        "\n",
        "🎥 Recommended Video: [What exactly is Apache Spark? | Big Data Tools](https://www.youtube.com/watch?v=ymtq8yjmD9I)\n",
        "\n",
        "\n",
        "\n",
        "## **Introduction**\n",
        "Welcome to the world of **Big Data and Cloud Computing**! Over the next 3 weeks, we’ll explore how to handle massive amounts of data, process it efficiently, and use cloud platforms to scale your data science projects. Think of this as learning how to manage a library that’s growing faster than you can imagine, and using super-powered tools to organize and analyze it all.\n",
        "\n",
        "---\n",
        "\n",
        "## **Week 1: Introduction to Distributed Computing**\n",
        "\n",
        "### **What is Distributed Computing?**\n",
        "Imagine you have a giant puzzle to solve, but it’s too big for one person to handle. Distributed computing is like splitting the puzzle into smaller pieces and giving each piece to a different person to solve. Once everyone finishes, you combine the results to see the full picture.\n",
        "\n",
        "In the tech world, **Hadoop** and **Spark** are like the team leaders that help you split and process big data across multiple computers.\n",
        "\n",
        "---\n",
        "\n",
        "### **Hadoop**\n",
        "- **What it does**: Hadoop is like a librarian who stores and organizes books (data) in a big library (cluster of computers).\n",
        "- **Key Components**:\n",
        "  - **HDFS (Hadoop Distributed File System)**: Stores data across multiple machines.\n",
        "  - **MapReduce**: Processes data in parallel across the cluster.\n",
        "\n",
        "#### **Example: Counting Words in a Book**\n",
        "Let’s say you want to count how many times the word \"data\" appears in a giant book. Hadoop splits the book into chapters, gives each chapter to a different computer, and then combines the results.\n",
        "\n",
        "```python\n",
        "# Pseudocode for MapReduce\n",
        "def map(chapter):\n",
        "    words = chapter.split()\n",
        "    return [(word, 1) for word in words if word == \"data\"]\n",
        "\n",
        "def reduce(results):\n",
        "    return sum(results)\n",
        "\n",
        "# MapReduce in action\n",
        "chapters = [\"chapter1.txt\", \"chapter2.txt\", \"chapter3.txt\"]\n",
        "results = [map(chapter) for chapter in chapters]\n",
        "total = reduce(results)\n",
        "print(f\"The word 'data' appears {total} times.\")\n",
        "```\n",
        "\n",
        "---\n",
        "\n",
        "### **Spark**\n",
        "- **What it does**: Spark is like a faster, more efficient librarian. It keeps data in memory (RAM) instead of reading from disk, making it much quicker.\n",
        "- **Why use Spark?**: It’s great for real-time data processing and machine learning.\n",
        "\n",
        "#### **Example: Analyzing Social Media Posts**\n",
        "Imagine you want to analyze millions of tweets to find trending topics. Spark can process this data in seconds.\n",
        "\n",
        "```python\n",
        "# PySpark example\n",
        "from pyspark.sql import SparkSession\n",
        "\n",
        "# Start a Spark session\n",
        "spark = SparkSession.builder.appName(\"TrendingTopics\").getOrCreate()\n",
        "\n",
        "# Load data\n",
        "tweets = spark.read.json(\"tweets.json\")\n",
        "\n",
        "# Find trending hashtags\n",
        "hashtags = tweets.filter(tweets.text.contains(\"#\")).groupBy(\"hashtag\").count()\n",
        "hashtags.show()\n",
        "```\n"
      ]
    },
    {
      "cell_type": "code",
      "execution_count": null,
      "id": "ef04c9ae",
      "metadata": {
        "id": "ef04c9ae"
      },
      "outputs": [],
      "source": []
    }
  ],
  "metadata": {
    "kernelspec": {
      "display_name": "Python 3 (ipykernel)",
      "language": "python",
      "name": "python3"
    },
    "language_info": {
      "codemirror_mode": {
        "name": "ipython",
        "version": 3
      },
      "file_extension": ".py",
      "mimetype": "text/x-python",
      "name": "python",
      "nbconvert_exporter": "python",
      "pygments_lexer": "ipython3",
      "version": "3.9.13"
    },
    "colab": {
      "provenance": []
    }
  },
  "nbformat": 4,
  "nbformat_minor": 5
}