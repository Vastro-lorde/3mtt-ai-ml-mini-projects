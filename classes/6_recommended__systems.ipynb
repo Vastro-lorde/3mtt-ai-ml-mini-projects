{
  "cells": [
    {
      "cell_type": "markdown",
      "id": "98c3011d",
      "metadata": {
        "id": "98c3011d"
      },
      "source": [
        "\n",
        "🎥 Recommendation Video: [Cosine Similarity, Clearly Explained!!!](https://www.youtube.com/watch?v=e9U0QAFbfLI)\n",
        "\n",
        "\n",
        "# Introduction to Recommendation Systems: Guiding Users to What They Love\n",
        "\n",
        "You have browsed an e-commerce site before, and it suggests a pair of shoes that perfectly matches your taste. Or stream a movie platform where every recommendation aligns with your viewing preferences. These experiences are powered by **Recommendation Systems**, a class of machine learning algorithms designed to predict and suggest relevant options to users.\n",
        "\n",
        "Recommendation systems are the backbone of platforms like music streaming, video services, and online shopping. Their goal? To connect users with content they’ll love by quantifying similarities between items or users.\n",
        "\n",
        "---\n",
        "\n",
        "## Types of Recommendation Systems\n",
        "\n",
        "Recommendation systems primarily fall into two categories:\n",
        "\n",
        "### 1. Content-Based Filtering\n",
        "\n",
        "This approach recommends items by analyzing their attributes and comparing them to what the user has liked in the past. It focuses on the **features of the items** rather than user preferences.\n",
        "\n",
        "#### How It Works:\n",
        "- The system evaluates the characteristics of items (e.g., genre, artist, tempo for songs).\n",
        "- It compares these features with items the user has already interacted with.\n",
        "- Recommendations are based on similarity scores between items.\n",
        "\n",
        "#### Example:\n",
        "On a music streaming service:\n",
        "- A user enjoys fast-tempo, electronic songs by Artist X.\n",
        "- The system recommends other fast-tempo, electronic songs, even from different artists, because they share similar attributes.\n",
        "\n",
        "---\n",
        "\n",
        "### 2. Collaborative Filtering\n",
        "\n",
        "Collaborative filtering leverages the preferences of other users to make recommendations. It assumes that users with similar tastes will like similar items, even without analyzing the content itself.\n",
        "\n",
        "#### How It Works:\n",
        "- The system identifies users with similar interaction patterns (e.g., ratings, likes).\n",
        "- It recommends items liked by these similar users that the current user hasn’t tried yet.\n",
        "\n",
        "#### Example:\n",
        "On an e-commerce platform:\n",
        "- User A and User B have both liked Products 1, 2, and 3.\n",
        "- User A buys Product 4.\n",
        "- The system recommends Product 4 to User B, assuming similar preferences.\n",
        "\n",
        "---\n",
        "\n",
        "Recommendation systems bridge the gap between users and vast amounts of available content, helping platforms personalize experiences and keep users engaged. Whether through analyzing content attributes or leveraging collective preferences, these systems ensure users discover what they value most.\n",
        "\n"
      ]
    },
    {
      "cell_type": "markdown",
      "id": "9cc5bd2a",
      "metadata": {
        "id": "9cc5bd2a"
      },
      "source": [
        "## Example: A simple Movie Recommendation System"
      ]
    },
    {
      "cell_type": "code",
      "execution_count": null,
      "id": "cd6d9b29",
      "metadata": {
        "id": "cd6d9b29"
      },
      "outputs": [],
      "source": [
        "# Importing necessary libraries\n",
        "import pandas as pd\n",
        "from sklearn.metrics.pairwise import cosine_similarity\n",
        "from sklearn.feature_extraction.text import TfidfVectorizer"
      ]
    },
    {
      "cell_type": "code",
      "execution_count": null,
      "id": "332a300c",
      "metadata": {
        "id": "332a300c",
        "outputId": "65cbe505-798c-46cd-f405-2c2ba623ca26"
      },
      "outputs": [
        {
          "name": "stdout",
          "output_type": "stream",
          "text": [
            "Movies Dataset:\n"
          ]
        },
        {
          "data": {
            "text/html": [
              "<div>\n",
              "<style scoped>\n",
              "    .dataframe tbody tr th:only-of-type {\n",
              "        vertical-align: middle;\n",
              "    }\n",
              "\n",
              "    .dataframe tbody tr th {\n",
              "        vertical-align: top;\n",
              "    }\n",
              "\n",
              "    .dataframe thead th {\n",
              "        text-align: right;\n",
              "    }\n",
              "</style>\n",
              "<table border=\"1\" class=\"dataframe\">\n",
              "  <thead>\n",
              "    <tr style=\"text-align: right;\">\n",
              "      <th></th>\n",
              "      <th>Title</th>\n",
              "      <th>Genre</th>\n",
              "    </tr>\n",
              "  </thead>\n",
              "  <tbody>\n",
              "    <tr>\n",
              "      <th>0</th>\n",
              "      <td>Movie A</td>\n",
              "      <td>Action|Adventure</td>\n",
              "    </tr>\n",
              "    <tr>\n",
              "      <th>1</th>\n",
              "      <td>Movie B</td>\n",
              "      <td>Action|Thriller</td>\n",
              "    </tr>\n",
              "    <tr>\n",
              "      <th>2</th>\n",
              "      <td>Movie C</td>\n",
              "      <td>Comedy|Romance</td>\n",
              "    </tr>\n",
              "    <tr>\n",
              "      <th>3</th>\n",
              "      <td>Movie D</td>\n",
              "      <td>Action|Comedy</td>\n",
              "    </tr>\n",
              "  </tbody>\n",
              "</table>\n",
              "</div>"
            ],
            "text/plain": [
              "     Title             Genre\n",
              "0  Movie A  Action|Adventure\n",
              "1  Movie B   Action|Thriller\n",
              "2  Movie C    Comedy|Romance\n",
              "3  Movie D     Action|Comedy"
            ]
          },
          "metadata": {},
          "output_type": "display_data"
        },
        {
          "name": "stdout",
          "output_type": "stream",
          "text": [
            "\n",
            "Ratings Dataset:\n"
          ]
        },
        {
          "data": {
            "text/html": [
              "<div>\n",
              "<style scoped>\n",
              "    .dataframe tbody tr th:only-of-type {\n",
              "        vertical-align: middle;\n",
              "    }\n",
              "\n",
              "    .dataframe tbody tr th {\n",
              "        vertical-align: top;\n",
              "    }\n",
              "\n",
              "    .dataframe thead th {\n",
              "        text-align: right;\n",
              "    }\n",
              "</style>\n",
              "<table border=\"1\" class=\"dataframe\">\n",
              "  <thead>\n",
              "    <tr style=\"text-align: right;\">\n",
              "      <th></th>\n",
              "      <th>User</th>\n",
              "      <th>Title</th>\n",
              "      <th>Rating</th>\n",
              "    </tr>\n",
              "  </thead>\n",
              "  <tbody>\n",
              "    <tr>\n",
              "      <th>0</th>\n",
              "      <td>Alice</td>\n",
              "      <td>Movie A</td>\n",
              "      <td>5</td>\n",
              "    </tr>\n",
              "    <tr>\n",
              "      <th>1</th>\n",
              "      <td>Alice</td>\n",
              "      <td>Movie B</td>\n",
              "      <td>4</td>\n",
              "    </tr>\n",
              "    <tr>\n",
              "      <th>2</th>\n",
              "      <td>Bob</td>\n",
              "      <td>Movie A</td>\n",
              "      <td>4</td>\n",
              "    </tr>\n",
              "    <tr>\n",
              "      <th>3</th>\n",
              "      <td>Bob</td>\n",
              "      <td>Movie C</td>\n",
              "      <td>5</td>\n",
              "    </tr>\n",
              "    <tr>\n",
              "      <th>4</th>\n",
              "      <td>Charlie</td>\n",
              "      <td>Movie B</td>\n",
              "      <td>5</td>\n",
              "    </tr>\n",
              "    <tr>\n",
              "      <th>5</th>\n",
              "      <td>Charlie</td>\n",
              "      <td>Movie C</td>\n",
              "      <td>4</td>\n",
              "    </tr>\n",
              "  </tbody>\n",
              "</table>\n",
              "</div>"
            ],
            "text/plain": [
              "      User    Title  Rating\n",
              "0    Alice  Movie A       5\n",
              "1    Alice  Movie B       4\n",
              "2      Bob  Movie A       4\n",
              "3      Bob  Movie C       5\n",
              "4  Charlie  Movie B       5\n",
              "5  Charlie  Movie C       4"
            ]
          },
          "metadata": {},
          "output_type": "display_data"
        }
      ],
      "source": [
        "# Sample movie data with genres\n",
        "movies = pd.DataFrame({\n",
        "    'Title': ['Movie A', 'Movie B', 'Movie C', 'Movie D'],\n",
        "    'Genre': ['Action|Adventure', 'Action|Thriller', 'Comedy|Romance', 'Action|Comedy']\n",
        "})\n",
        "\n",
        "# User ratings data for the movies\n",
        "ratings = pd.DataFrame({\n",
        "    'User': ['Alice', 'Alice', 'Bob', 'Bob', 'Charlie', 'Charlie'],\n",
        "    'Title': ['Movie A', 'Movie B', 'Movie A', 'Movie C', 'Movie B', 'Movie C'],\n",
        "    'Rating': [5, 4, 4, 5, 5, 4]\n",
        "})\n",
        "\n",
        "# Displaying the data\n",
        "print(\"Movies Dataset:\")\n",
        "display(movies)\n",
        "print(\"\\nRatings Dataset:\")\n",
        "display(ratings)\n"
      ]
    },
    {
      "cell_type": "markdown",
      "id": "0be0883d",
      "metadata": {
        "id": "0be0883d"
      },
      "source": [
        "### Content-Based Recommendations"
      ]
    },
    {
      "cell_type": "code",
      "execution_count": null,
      "id": "822d6df3",
      "metadata": {
        "id": "822d6df3",
        "outputId": "953ec8a9-e7a1-4250-d9e0-7fb3b26cc372"
      },
      "outputs": [
        {
          "name": "stdout",
          "output_type": "stream",
          "text": [
            "Content-Based Recommendations for 'Movie A':\n",
            "3    Movie D\n",
            "1    Movie B\n",
            "Name: Title, dtype: object\n"
          ]
        }
      ],
      "source": [
        "# Function to recommend movies based on content (genres)\n",
        "def content_based_recommendations(movie_title, movies_df):\n",
        "    \"\"\"\n",
        "    Recommends movies similar to the given movie based on genre.\n",
        "\n",
        "    Args:\n",
        "    movie_title (str): Title of the movie for which recommendations are made.\n",
        "    movies_df (DataFrame): DataFrame containing movie titles and genres.\n",
        "\n",
        "    Returns:\n",
        "    list: List of recommended movie titles.\n",
        "    \"\"\"\n",
        "    # Vectorizing the 'Genre' column using TF-IDF\n",
        "    tfidf = TfidfVectorizer()\n",
        "    tfidf_matrix = tfidf.fit_transform(movies_df['Genre'])\n",
        "\n",
        "    # Calculating cosine similarity between all movies\n",
        "    cosine_sim = cosine_similarity(tfidf_matrix, tfidf_matrix)\n",
        "\n",
        "    # Getting the index of the given movie\n",
        "    indices = pd.Series(movies_df.index, index=movies_df['Title'])\n",
        "    idx = indices[movie_title]\n",
        "\n",
        "    # Getting similarity scores for the given movie\n",
        "    sim_scores = list(enumerate(cosine_sim[idx]))\n",
        "\n",
        "    # Sorting scores in descending order and selecting top 2 recommendations\n",
        "    sim_scores = sorted(sim_scores, key=lambda x: x[1], reverse=True)[1:3]\n",
        "\n",
        "    # Getting indices of recommended movies\n",
        "    recommended_indices = [i[0] for i in sim_scores]\n",
        "\n",
        "    # Returning the titles of the recommended movies\n",
        "    return movies_df['Title'].iloc[recommended_indices]\n",
        "\n",
        "# Testing the function\n",
        "print(\"Content-Based Recommendations for 'Movie A':\")\n",
        "print(content_based_recommendations('Movie A', movies))\n"
      ]
    },
    {
      "cell_type": "markdown",
      "id": "f64b6f3f",
      "metadata": {
        "id": "f64b6f3f"
      },
      "source": [
        "### Collaborative Filtering Function"
      ]
    },
    {
      "cell_type": "code",
      "execution_count": null,
      "id": "efab8d9a",
      "metadata": {
        "id": "efab8d9a",
        "outputId": "582b47be-de8e-4dfe-f117-53ae0dc0da78"
      },
      "outputs": [
        {
          "name": "stdout",
          "output_type": "stream",
          "text": [
            "Collaborative Filtering Recommendations for 'Alice':\n",
            "['Movie C']\n"
          ]
        }
      ],
      "source": [
        "# Function to recommend movies based on collaborative filtering\n",
        "def collaborative_filtering(user_name, ratings_df):\n",
        "    \"\"\"\n",
        "    Recommends movies to a user based on ratings from similar users.\n",
        "\n",
        "    Args:\n",
        "    user_name (str): Name of the user for whom recommendations are made.\n",
        "    ratings_df (DataFrame): DataFrame containing user ratings.\n",
        "\n",
        "    Returns:\n",
        "    list: List of recommended movie titles.\n",
        "    \"\"\"\n",
        "    # Creating a user-item matrix\n",
        "    user_item_matrix = ratings_df.pivot_table(index='User', columns='Title', values='Rating')\n",
        "\n",
        "    # Calculating user-user similarity using cosine similarity\n",
        "    user_similarity = cosine_similarity(user_item_matrix.fillna(0))\n",
        "\n",
        "    # Finding the index of the given user\n",
        "    user_idx = list(user_item_matrix.index).index(user_name)\n",
        "\n",
        "    # Getting similarity scores for the given user\n",
        "    sim_scores = list(enumerate(user_similarity[user_idx]))\n",
        "\n",
        "    # Sorting scores in descending order and selecting top 2 similar users\n",
        "    sim_scores = sorted(sim_scores, key=lambda x: x[1], reverse=True)[1:3]\n",
        "\n",
        "    # Getting the names of similar users\n",
        "    similar_users = [user_item_matrix.index[i[0]] for i in sim_scores]\n",
        "\n",
        "    # Finding movies liked by similar users but not rated by the given user\n",
        "    recommendations = ratings_df[\n",
        "        ratings_df['User'].isin(similar_users) &\n",
        "        ~ratings_df['Title'].isin(ratings_df[ratings_df['User'] == user_name]['Title'])\n",
        "    ]\n",
        "\n",
        "    # Returning the titles of the recommended movies\n",
        "    return recommendations['Title'].unique()\n",
        "\n",
        "# Testing the function\n",
        "print(\"Collaborative Filtering Recommendations for 'Alice':\")\n",
        "print(collaborative_filtering('Alice', ratings))\n"
      ]
    },
    {
      "cell_type": "code",
      "execution_count": null,
      "id": "341939f6",
      "metadata": {
        "id": "341939f6"
      },
      "outputs": [],
      "source": []
    }
  ],
  "metadata": {
    "kernelspec": {
      "display_name": "Python 3 (ipykernel)",
      "language": "python",
      "name": "python3"
    },
    "language_info": {
      "codemirror_mode": {
        "name": "ipython",
        "version": 3
      },
      "file_extension": ".py",
      "mimetype": "text/x-python",
      "name": "python",
      "nbconvert_exporter": "python",
      "pygments_lexer": "ipython3",
      "version": "3.9.13"
    },
    "colab": {
      "provenance": []
    }
  },
  "nbformat": 4,
  "nbformat_minor": 5
}