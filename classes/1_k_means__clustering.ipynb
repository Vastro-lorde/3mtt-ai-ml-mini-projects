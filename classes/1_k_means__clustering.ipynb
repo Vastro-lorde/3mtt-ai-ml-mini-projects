{
  "cells": [
    {
      "cell_type": "markdown",
      "id": "2822bf4d",
      "metadata": {
        "id": "2822bf4d"
      },
      "source": [
        "🎥 Recommended Video: [K-Means Clustering](https://www.youtube.com/watch?v=4b5d3muPQmA)\n",
        "\n",
        "\n",
        "# K-Means Clustering: Organizing Data Through Intuition\n",
        "\n",
        "Imagine you’re managing a retail store. You have a large customer base, and you want to design targeted marketing campaigns. But how do you group customers based on their behavior and preferences? This is where **K-Means Clustering** comes in. It automatically groups data into clusters based on their similarities, making it an essential tool for unsupervised learning.\n",
        "\n",
        "---\n",
        "\n",
        "## The Intuition Behind K-Means\n",
        "\n",
        "K-means clustering works like organizing a messy room. Imagine you have several items scattered on the floor—you want to sort them into groups (e.g., books, clothes, gadgets). K-means follows a similar process to group data points into clusters. Here’s how it works step-by-step:\n",
        "\n",
        "### 1. Choosing the Number of Clusters (k)\n",
        "First, decide how many clusters (“k”) you want to divide your data into. For example, if you believe your customers fall into three categories (e.g., budget-conscious, mid-range, premium), you set \\( k = 3 \\).\n",
        "\n",
        "### 2. Initializing Cluster Centroids\n",
        "The algorithm places \\( k \\) centroids randomly in the feature space. These centroids act as the starting points for each cluster.\n",
        "\n",
        "![Random centroids in a scatter plot](https://drive.google.com/uc?export=view&id=11LiLGzVDWPvl28Jer6pZuk7ev2_Jdyf5)\n",
        "\n",
        "### 3. Assigning Points to the Nearest Centroid\n",
        "Each data point is assigned to the cluster with the nearest centroid based on distance (e.g., Euclidean distance).\n",
        "\n",
        "\n",
        "![Points assigned to the nearest centroid](https://drive.google.com/uc?export=view&id=14ZkUa_hqErtTisyFtDSkygWTP7ciy6zW)\n",
        "\n",
        "\n",
        "### 4. Recalculating Centroids\n",
        "The centroids are updated by averaging the positions of all points assigned to each cluster.\n",
        "\n",
        "\n",
        "![Centroids shift to the mean of their clusters](https://drive.google.com/uc?export=view&id=161iCWERt69sWl8YWS_JCKoPE7dd_4JT5)\n",
        "\n",
        "\n",
        "### 5. Iterating Until Stability\n",
        "Steps 3 and 4 are repeated until the centroids stop moving significantly or a maximum number of iterations is reached. At this point, the clusters are stable.\n",
        "\n",
        "---\n",
        "\n",
        "## Practical Workflow\n",
        "\n",
        "### Example:\n",
        "1. Start with scattered data points (e.g., customer purchase behavior).\n",
        "2. Randomly initialize centroids.\n",
        "3. Assign points to clusters based on proximity.\n",
        "4. Update centroids to the center of their clusters.\n",
        "5. Repeat until clusters stabilize.\n",
        "\n",
        "---\n",
        "\n",
        "## Applications of K-Means\n",
        "\n",
        "K-means clustering is versatile and widely used:\n",
        "- **Customer Segmentation**: Grouping customers for targeted marketing.\n",
        "- **Image Compression**: Reducing image size by clustering pixel colors.\n",
        "- **Anomaly Detection**: Identifying unusual patterns in data.\n",
        "\n",
        "---\n",
        "\n",
        "## Key Concepts: Inertia and WCSS\n",
        "\n",
        "In k-means, **inertia** (or **Within-Cluster Sum of Squares, WCSS**) measures how compact the clusters are. Lower inertia indicates tighter clusters. It’s calculated as:\n",
        "\n",
        "$$\n",
        "\\text{Inertia} = \\sum_{i=1}^{k} \\sum_{x \\in C_i} \\|x - \\mu_i\\|^2\n",
        "$$\n",
        "\n",
        "Where:\n",
        "- $( k )$: Number of clusters\n",
        "- $(C_i)$: Points in cluster $( i )$\n",
        "- $( mu_i)$: Centroid of cluster $( i $)\n",
        "\n",
        "### Insights:\n",
        "- As \\( k \\) increases, inertia decreases, but overly large \\( k \\) may lead to overfitting.\n",
        "- The goal is to find the balance between compactness and simplicity.\n",
        "\n",
        "---\n",
        "\n",
        "## Choosing the Optimal Number of Clusters\n",
        "\n",
        "### 1. **Elbow Method**\n",
        "Plot inertia against \\( k \\). The point where inertia decreases slower (the “elbow”) indicates the optimal number of clusters.\n",
        "\n",
        "![Elbow Method Graph](https://drive.google.com/uc?export=view&id=1llgF_8CspYzevgVWOMqXWQsoXh3ib_y9)\n",
        "\n",
        "\n",
        "### 2. **Silhouette Score**\n",
        "The Silhouette Score evaluates how well points fit within their clusters:\n",
        "- **1**: Well-clustered.\n",
        "- **0**: Ambiguous.\n",
        "- **-1**: Misclassified.\n",
        "\n",
        "It’s calculated as:\n",
        "$$\n",
        "\\text{Silhouette Score} = \\frac{(b - a)}{\\max(a, b)}\n",
        "$$\n",
        "Where:\n",
        "- \\( a \\): Average distance to points in the same cluster.\n",
        "- \\( b \\): Average distance to points in the nearest other cluster.\n",
        "\n",
        "---\n",
        "\n",
        "## Closing Thoughts\n",
        "\n",
        "K-means clustering is a powerful tool for finding patterns in data without supervision. By organizing data into meaningful groups, it helps uncover insights that might otherwise remain hidden. Whether you’re segmenting customers, compressing images, or detecting anomalies, k-means simplifies complexity into actionable results.\n",
        "\n",
        "\n"
      ]
    },
    {
      "cell_type": "markdown",
      "id": "e0b5a916",
      "metadata": {
        "id": "e0b5a916"
      },
      "source": [
        "##   Example: Using k-means to segment customers on two attributes\n",
        "\n",
        "Now let's use k-means clustering to tackle a real-world problem: segmenting customers based on customer data to identify which customers to target with a campaign for a new product or a promotion to increase their purchasing activity. The dataset is a customer-segmentation dataset available from Kaggle.com"
      ]
    },
    {
      "cell_type": "code",
      "execution_count": null,
      "id": "66d7cf66",
      "metadata": {
        "id": "66d7cf66",
        "outputId": "e44b8408-b7dc-4126-a9c3-9a52f5fcc2a9"
      },
      "outputs": [
        {
          "data": {
            "text/html": [
              "<div>\n",
              "<style scoped>\n",
              "    .dataframe tbody tr th:only-of-type {\n",
              "        vertical-align: middle;\n",
              "    }\n",
              "\n",
              "    .dataframe tbody tr th {\n",
              "        vertical-align: top;\n",
              "    }\n",
              "\n",
              "    .dataframe thead th {\n",
              "        text-align: right;\n",
              "    }\n",
              "</style>\n",
              "<table border=\"1\" class=\"dataframe\">\n",
              "  <thead>\n",
              "    <tr style=\"text-align: right;\">\n",
              "      <th></th>\n",
              "      <th>CustomerID</th>\n",
              "      <th>Gender</th>\n",
              "      <th>Age</th>\n",
              "      <th>Annual Income (k$)</th>\n",
              "      <th>Spending Score (1-100)</th>\n",
              "    </tr>\n",
              "  </thead>\n",
              "  <tbody>\n",
              "    <tr>\n",
              "      <th>0</th>\n",
              "      <td>1</td>\n",
              "      <td>Male</td>\n",
              "      <td>19</td>\n",
              "      <td>15</td>\n",
              "      <td>39</td>\n",
              "    </tr>\n",
              "    <tr>\n",
              "      <th>1</th>\n",
              "      <td>2</td>\n",
              "      <td>Male</td>\n",
              "      <td>21</td>\n",
              "      <td>15</td>\n",
              "      <td>81</td>\n",
              "    </tr>\n",
              "    <tr>\n",
              "      <th>2</th>\n",
              "      <td>3</td>\n",
              "      <td>Female</td>\n",
              "      <td>20</td>\n",
              "      <td>16</td>\n",
              "      <td>6</td>\n",
              "    </tr>\n",
              "    <tr>\n",
              "      <th>3</th>\n",
              "      <td>4</td>\n",
              "      <td>Female</td>\n",
              "      <td>23</td>\n",
              "      <td>16</td>\n",
              "      <td>77</td>\n",
              "    </tr>\n",
              "    <tr>\n",
              "      <th>4</th>\n",
              "      <td>5</td>\n",
              "      <td>Female</td>\n",
              "      <td>31</td>\n",
              "      <td>17</td>\n",
              "      <td>40</td>\n",
              "    </tr>\n",
              "  </tbody>\n",
              "</table>\n",
              "</div>"
            ],
            "text/plain": [
              "   CustomerID  Gender  Age  Annual Income (k$)  Spending Score (1-100)\n",
              "0           1    Male   19                  15                      39\n",
              "1           2    Male   21                  15                      81\n",
              "2           3  Female   20                  16                       6\n",
              "3           4  Female   23                  16                      77\n",
              "4           5  Female   31                  17                      40"
            ]
          },
          "execution_count": 22,
          "metadata": {},
          "output_type": "execute_result"
        }
      ],
      "source": [
        "#importing files locally\n",
        "import pandas as pd\n",
        "\n",
        "customers = pd.read_csv('sample_data/customers.csv')\n",
        "customers.head()"
      ]
    },
    {
      "cell_type": "code",
      "source": [
        "#fetching data from drive\n",
        "import requests\n",
        "import pandas as pd\n",
        "from io import StringIO\n",
        "def read_gd(sharingurl):\n",
        "    file_id = sharingurl.split('/')[-2]\n",
        "    download_url='https://drive.google.com/uc?export=download&id=' + file_id\n",
        "    url = requests.get(download_url).text\n",
        "    csv_raw = StringIO(url)\n",
        "    return csv_raw\n",
        "\n",
        "url = \"https://drive.google.com/file/d/1ArH8vWqMY-tjMK37xEs3-FIyrP82v7sC/view?usp=drive_link\"\n",
        "gdd = read_gd(url)\n",
        "\n",
        "customers = pd.read_csv(gdd)"
      ],
      "metadata": {
        "id": "p8jYfZezV1Qo"
      },
      "id": "p8jYfZezV1Qo",
      "execution_count": null,
      "outputs": []
    },
    {
      "cell_type": "code",
      "source": [
        "customers.head()"
      ],
      "metadata": {
        "colab": {
          "base_uri": "https://localhost:8080/",
          "height": 206
        },
        "id": "vzRlD85GWIeP",
        "outputId": "ad4d9779-25e4-442a-870c-2feb0e5cab04"
      },
      "id": "vzRlD85GWIeP",
      "execution_count": null,
      "outputs": [
        {
          "output_type": "execute_result",
          "data": {
            "text/plain": [
              "   CustomerID  Gender  Age  Annual Income (k$)  Spending Score (1-100)\n",
              "0           1    Male   19                  15                      39\n",
              "1           2    Male   21                  15                      81\n",
              "2           3  Female   20                  16                       6\n",
              "3           4  Female   23                  16                      77\n",
              "4           5  Female   31                  17                      40"
            ],
            "text/html": [
              "\n",
              "  <div id=\"df-1bb0b02a-6a6d-4dda-812d-971825642fb2\" class=\"colab-df-container\">\n",
              "    <div>\n",
              "<style scoped>\n",
              "    .dataframe tbody tr th:only-of-type {\n",
              "        vertical-align: middle;\n",
              "    }\n",
              "\n",
              "    .dataframe tbody tr th {\n",
              "        vertical-align: top;\n",
              "    }\n",
              "\n",
              "    .dataframe thead th {\n",
              "        text-align: right;\n",
              "    }\n",
              "</style>\n",
              "<table border=\"1\" class=\"dataframe\">\n",
              "  <thead>\n",
              "    <tr style=\"text-align: right;\">\n",
              "      <th></th>\n",
              "      <th>CustomerID</th>\n",
              "      <th>Gender</th>\n",
              "      <th>Age</th>\n",
              "      <th>Annual Income (k$)</th>\n",
              "      <th>Spending Score (1-100)</th>\n",
              "    </tr>\n",
              "  </thead>\n",
              "  <tbody>\n",
              "    <tr>\n",
              "      <th>0</th>\n",
              "      <td>1</td>\n",
              "      <td>Male</td>\n",
              "      <td>19</td>\n",
              "      <td>15</td>\n",
              "      <td>39</td>\n",
              "    </tr>\n",
              "    <tr>\n",
              "      <th>1</th>\n",
              "      <td>2</td>\n",
              "      <td>Male</td>\n",
              "      <td>21</td>\n",
              "      <td>15</td>\n",
              "      <td>81</td>\n",
              "    </tr>\n",
              "    <tr>\n",
              "      <th>2</th>\n",
              "      <td>3</td>\n",
              "      <td>Female</td>\n",
              "      <td>20</td>\n",
              "      <td>16</td>\n",
              "      <td>6</td>\n",
              "    </tr>\n",
              "    <tr>\n",
              "      <th>3</th>\n",
              "      <td>4</td>\n",
              "      <td>Female</td>\n",
              "      <td>23</td>\n",
              "      <td>16</td>\n",
              "      <td>77</td>\n",
              "    </tr>\n",
              "    <tr>\n",
              "      <th>4</th>\n",
              "      <td>5</td>\n",
              "      <td>Female</td>\n",
              "      <td>31</td>\n",
              "      <td>17</td>\n",
              "      <td>40</td>\n",
              "    </tr>\n",
              "  </tbody>\n",
              "</table>\n",
              "</div>\n",
              "    <div class=\"colab-df-buttons\">\n",
              "\n",
              "  <div class=\"colab-df-container\">\n",
              "    <button class=\"colab-df-convert\" onclick=\"convertToInteractive('df-1bb0b02a-6a6d-4dda-812d-971825642fb2')\"\n",
              "            title=\"Convert this dataframe to an interactive table.\"\n",
              "            style=\"display:none;\">\n",
              "\n",
              "  <svg xmlns=\"http://www.w3.org/2000/svg\" height=\"24px\" viewBox=\"0 -960 960 960\">\n",
              "    <path d=\"M120-120v-720h720v720H120Zm60-500h600v-160H180v160Zm220 220h160v-160H400v160Zm0 220h160v-160H400v160ZM180-400h160v-160H180v160Zm440 0h160v-160H620v160ZM180-180h160v-160H180v160Zm440 0h160v-160H620v160Z\"/>\n",
              "  </svg>\n",
              "    </button>\n",
              "\n",
              "  <style>\n",
              "    .colab-df-container {\n",
              "      display:flex;\n",
              "      gap: 12px;\n",
              "    }\n",
              "\n",
              "    .colab-df-convert {\n",
              "      background-color: #E8F0FE;\n",
              "      border: none;\n",
              "      border-radius: 50%;\n",
              "      cursor: pointer;\n",
              "      display: none;\n",
              "      fill: #1967D2;\n",
              "      height: 32px;\n",
              "      padding: 0 0 0 0;\n",
              "      width: 32px;\n",
              "    }\n",
              "\n",
              "    .colab-df-convert:hover {\n",
              "      background-color: #E2EBFA;\n",
              "      box-shadow: 0px 1px 2px rgba(60, 64, 67, 0.3), 0px 1px 3px 1px rgba(60, 64, 67, 0.15);\n",
              "      fill: #174EA6;\n",
              "    }\n",
              "\n",
              "    .colab-df-buttons div {\n",
              "      margin-bottom: 4px;\n",
              "    }\n",
              "\n",
              "    [theme=dark] .colab-df-convert {\n",
              "      background-color: #3B4455;\n",
              "      fill: #D2E3FC;\n",
              "    }\n",
              "\n",
              "    [theme=dark] .colab-df-convert:hover {\n",
              "      background-color: #434B5C;\n",
              "      box-shadow: 0px 1px 3px 1px rgba(0, 0, 0, 0.15);\n",
              "      filter: drop-shadow(0px 1px 2px rgba(0, 0, 0, 0.3));\n",
              "      fill: #FFFFFF;\n",
              "    }\n",
              "  </style>\n",
              "\n",
              "    <script>\n",
              "      const buttonEl =\n",
              "        document.querySelector('#df-1bb0b02a-6a6d-4dda-812d-971825642fb2 button.colab-df-convert');\n",
              "      buttonEl.style.display =\n",
              "        google.colab.kernel.accessAllowed ? 'block' : 'none';\n",
              "\n",
              "      async function convertToInteractive(key) {\n",
              "        const element = document.querySelector('#df-1bb0b02a-6a6d-4dda-812d-971825642fb2');\n",
              "        const dataTable =\n",
              "          await google.colab.kernel.invokeFunction('convertToInteractive',\n",
              "                                                    [key], {});\n",
              "        if (!dataTable) return;\n",
              "\n",
              "        const docLinkHtml = 'Like what you see? Visit the ' +\n",
              "          '<a target=\"_blank\" href=https://colab.research.google.com/notebooks/data_table.ipynb>data table notebook</a>'\n",
              "          + ' to learn more about interactive tables.';\n",
              "        element.innerHTML = '';\n",
              "        dataTable['output_type'] = 'display_data';\n",
              "        await google.colab.output.renderOutput(dataTable, element);\n",
              "        const docLink = document.createElement('div');\n",
              "        docLink.innerHTML = docLinkHtml;\n",
              "        element.appendChild(docLink);\n",
              "      }\n",
              "    </script>\n",
              "  </div>\n",
              "\n",
              "\n",
              "<div id=\"df-515cdc87-baaa-4df6-bd06-428a1e37834f\">\n",
              "  <button class=\"colab-df-quickchart\" onclick=\"quickchart('df-515cdc87-baaa-4df6-bd06-428a1e37834f')\"\n",
              "            title=\"Suggest charts\"\n",
              "            style=\"display:none;\">\n",
              "\n",
              "<svg xmlns=\"http://www.w3.org/2000/svg\" height=\"24px\"viewBox=\"0 0 24 24\"\n",
              "     width=\"24px\">\n",
              "    <g>\n",
              "        <path d=\"M19 3H5c-1.1 0-2 .9-2 2v14c0 1.1.9 2 2 2h14c1.1 0 2-.9 2-2V5c0-1.1-.9-2-2-2zM9 17H7v-7h2v7zm4 0h-2V7h2v10zm4 0h-2v-4h2v4z\"/>\n",
              "    </g>\n",
              "</svg>\n",
              "  </button>\n",
              "\n",
              "<style>\n",
              "  .colab-df-quickchart {\n",
              "      --bg-color: #E8F0FE;\n",
              "      --fill-color: #1967D2;\n",
              "      --hover-bg-color: #E2EBFA;\n",
              "      --hover-fill-color: #174EA6;\n",
              "      --disabled-fill-color: #AAA;\n",
              "      --disabled-bg-color: #DDD;\n",
              "  }\n",
              "\n",
              "  [theme=dark] .colab-df-quickchart {\n",
              "      --bg-color: #3B4455;\n",
              "      --fill-color: #D2E3FC;\n",
              "      --hover-bg-color: #434B5C;\n",
              "      --hover-fill-color: #FFFFFF;\n",
              "      --disabled-bg-color: #3B4455;\n",
              "      --disabled-fill-color: #666;\n",
              "  }\n",
              "\n",
              "  .colab-df-quickchart {\n",
              "    background-color: var(--bg-color);\n",
              "    border: none;\n",
              "    border-radius: 50%;\n",
              "    cursor: pointer;\n",
              "    display: none;\n",
              "    fill: var(--fill-color);\n",
              "    height: 32px;\n",
              "    padding: 0;\n",
              "    width: 32px;\n",
              "  }\n",
              "\n",
              "  .colab-df-quickchart:hover {\n",
              "    background-color: var(--hover-bg-color);\n",
              "    box-shadow: 0 1px 2px rgba(60, 64, 67, 0.3), 0 1px 3px 1px rgba(60, 64, 67, 0.15);\n",
              "    fill: var(--button-hover-fill-color);\n",
              "  }\n",
              "\n",
              "  .colab-df-quickchart-complete:disabled,\n",
              "  .colab-df-quickchart-complete:disabled:hover {\n",
              "    background-color: var(--disabled-bg-color);\n",
              "    fill: var(--disabled-fill-color);\n",
              "    box-shadow: none;\n",
              "  }\n",
              "\n",
              "  .colab-df-spinner {\n",
              "    border: 2px solid var(--fill-color);\n",
              "    border-color: transparent;\n",
              "    border-bottom-color: var(--fill-color);\n",
              "    animation:\n",
              "      spin 1s steps(1) infinite;\n",
              "  }\n",
              "\n",
              "  @keyframes spin {\n",
              "    0% {\n",
              "      border-color: transparent;\n",
              "      border-bottom-color: var(--fill-color);\n",
              "      border-left-color: var(--fill-color);\n",
              "    }\n",
              "    20% {\n",
              "      border-color: transparent;\n",
              "      border-left-color: var(--fill-color);\n",
              "      border-top-color: var(--fill-color);\n",
              "    }\n",
              "    30% {\n",
              "      border-color: transparent;\n",
              "      border-left-color: var(--fill-color);\n",
              "      border-top-color: var(--fill-color);\n",
              "      border-right-color: var(--fill-color);\n",
              "    }\n",
              "    40% {\n",
              "      border-color: transparent;\n",
              "      border-right-color: var(--fill-color);\n",
              "      border-top-color: var(--fill-color);\n",
              "    }\n",
              "    60% {\n",
              "      border-color: transparent;\n",
              "      border-right-color: var(--fill-color);\n",
              "    }\n",
              "    80% {\n",
              "      border-color: transparent;\n",
              "      border-right-color: var(--fill-color);\n",
              "      border-bottom-color: var(--fill-color);\n",
              "    }\n",
              "    90% {\n",
              "      border-color: transparent;\n",
              "      border-bottom-color: var(--fill-color);\n",
              "    }\n",
              "  }\n",
              "</style>\n",
              "\n",
              "  <script>\n",
              "    async function quickchart(key) {\n",
              "      const quickchartButtonEl =\n",
              "        document.querySelector('#' + key + ' button');\n",
              "      quickchartButtonEl.disabled = true;  // To prevent multiple clicks.\n",
              "      quickchartButtonEl.classList.add('colab-df-spinner');\n",
              "      try {\n",
              "        const charts = await google.colab.kernel.invokeFunction(\n",
              "            'suggestCharts', [key], {});\n",
              "      } catch (error) {\n",
              "        console.error('Error during call to suggestCharts:', error);\n",
              "      }\n",
              "      quickchartButtonEl.classList.remove('colab-df-spinner');\n",
              "      quickchartButtonEl.classList.add('colab-df-quickchart-complete');\n",
              "    }\n",
              "    (() => {\n",
              "      let quickchartButtonEl =\n",
              "        document.querySelector('#df-515cdc87-baaa-4df6-bd06-428a1e37834f button');\n",
              "      quickchartButtonEl.style.display =\n",
              "        google.colab.kernel.accessAllowed ? 'block' : 'none';\n",
              "    })();\n",
              "  </script>\n",
              "</div>\n",
              "\n",
              "    </div>\n",
              "  </div>\n"
            ],
            "application/vnd.google.colaboratory.intrinsic+json": {
              "type": "dataframe",
              "variable_name": "customers",
              "summary": "{\n  \"name\": \"customers\",\n  \"rows\": 200,\n  \"fields\": [\n    {\n      \"column\": \"CustomerID\",\n      \"properties\": {\n        \"dtype\": \"number\",\n        \"std\": 57,\n        \"min\": 1,\n        \"max\": 200,\n        \"num_unique_values\": 200,\n        \"samples\": [\n          96,\n          16,\n          31\n        ],\n        \"semantic_type\": \"\",\n        \"description\": \"\"\n      }\n    },\n    {\n      \"column\": \"Gender\",\n      \"properties\": {\n        \"dtype\": \"category\",\n        \"num_unique_values\": 2,\n        \"samples\": [\n          \"Female\",\n          \"Male\"\n        ],\n        \"semantic_type\": \"\",\n        \"description\": \"\"\n      }\n    },\n    {\n      \"column\": \"Age\",\n      \"properties\": {\n        \"dtype\": \"number\",\n        \"std\": 13,\n        \"min\": 18,\n        \"max\": 70,\n        \"num_unique_values\": 51,\n        \"samples\": [\n          55,\n          26\n        ],\n        \"semantic_type\": \"\",\n        \"description\": \"\"\n      }\n    },\n    {\n      \"column\": \"Annual Income (k$)\",\n      \"properties\": {\n        \"dtype\": \"number\",\n        \"std\": 26,\n        \"min\": 15,\n        \"max\": 137,\n        \"num_unique_values\": 64,\n        \"samples\": [\n          87,\n          101\n        ],\n        \"semantic_type\": \"\",\n        \"description\": \"\"\n      }\n    },\n    {\n      \"column\": \"Spending Score (1-100)\",\n      \"properties\": {\n        \"dtype\": \"number\",\n        \"std\": 25,\n        \"min\": 1,\n        \"max\": 99,\n        \"num_unique_values\": 84,\n        \"samples\": [\n          83,\n          39\n        ],\n        \"semantic_type\": \"\",\n        \"description\": \"\"\n      }\n    }\n  ]\n}"
            }
          },
          "metadata": {},
          "execution_count": 2
        }
      ]
    },
    {
      "cell_type": "markdown",
      "id": "1c573caa",
      "metadata": {
        "id": "1c573caa"
      },
      "source": [
        "How many rows and columns does the dataset contain?"
      ]
    },
    {
      "cell_type": "code",
      "execution_count": null,
      "id": "dd346bbb",
      "metadata": {
        "id": "dd346bbb",
        "outputId": "ddc76d06-f6d0-443f-f80e-8dfa2422e731"
      },
      "outputs": [
        {
          "data": {
            "text/plain": [
              "(200, 5)"
            ]
          },
          "execution_count": 23,
          "metadata": {},
          "output_type": "execute_result"
        }
      ],
      "source": [
        "customers.shape"
      ]
    },
    {
      "cell_type": "markdown",
      "id": "207e341e",
      "metadata": {
        "id": "207e341e"
      },
      "source": [
        "Perform a quick check to make sure there are no missing values."
      ]
    },
    {
      "cell_type": "code",
      "execution_count": null,
      "id": "0edb482d",
      "metadata": {
        "id": "0edb482d",
        "outputId": "334bd88d-f4da-4419-ee07-e5b633912a79"
      },
      "outputs": [
        {
          "name": "stdout",
          "output_type": "stream",
          "text": [
            "<class 'pandas.core.frame.DataFrame'>\n",
            "RangeIndex: 200 entries, 0 to 199\n",
            "Data columns (total 5 columns):\n",
            " #   Column                  Non-Null Count  Dtype \n",
            "---  ------                  --------------  ----- \n",
            " 0   CustomerID              200 non-null    int64 \n",
            " 1   Gender                  200 non-null    object\n",
            " 2   Age                     200 non-null    int64 \n",
            " 3   Annual Income (k$)      200 non-null    int64 \n",
            " 4   Spending Score (1-100)  200 non-null    int64 \n",
            "dtypes: int64(4), object(1)\n",
            "memory usage: 7.9+ KB\n"
          ]
        }
      ],
      "source": [
        "customers.info()"
      ]
    },
    {
      "cell_type": "code",
      "source": [
        "import matplotlib.pyplot as plt\n",
        "points = customers.iloc[:, 3:5].values\n",
        "\n",
        "print(points)"
      ],
      "metadata": {
        "colab": {
          "base_uri": "https://localhost:8080/"
        },
        "collapsed": true,
        "id": "GvkVlOs9swlb",
        "outputId": "dca41770-4a03-4239-f211-eeeb9026843a"
      },
      "id": "GvkVlOs9swlb",
      "execution_count": null,
      "outputs": [
        {
          "output_type": "stream",
          "name": "stdout",
          "text": [
            "[[ 15  39]\n",
            " [ 15  81]\n",
            " [ 16   6]\n",
            " [ 16  77]\n",
            " [ 17  40]\n",
            " [ 17  76]\n",
            " [ 18   6]\n",
            " [ 18  94]\n",
            " [ 19   3]\n",
            " [ 19  72]\n",
            " [ 19  14]\n",
            " [ 19  99]\n",
            " [ 20  15]\n",
            " [ 20  77]\n",
            " [ 20  13]\n",
            " [ 20  79]\n",
            " [ 21  35]\n",
            " [ 21  66]\n",
            " [ 23  29]\n",
            " [ 23  98]\n",
            " [ 24  35]\n",
            " [ 24  73]\n",
            " [ 25   5]\n",
            " [ 25  73]\n",
            " [ 28  14]\n",
            " [ 28  82]\n",
            " [ 28  32]\n",
            " [ 28  61]\n",
            " [ 29  31]\n",
            " [ 29  87]\n",
            " [ 30   4]\n",
            " [ 30  73]\n",
            " [ 33   4]\n",
            " [ 33  92]\n",
            " [ 33  14]\n",
            " [ 33  81]\n",
            " [ 34  17]\n",
            " [ 34  73]\n",
            " [ 37  26]\n",
            " [ 37  75]\n",
            " [ 38  35]\n",
            " [ 38  92]\n",
            " [ 39  36]\n",
            " [ 39  61]\n",
            " [ 39  28]\n",
            " [ 39  65]\n",
            " [ 40  55]\n",
            " [ 40  47]\n",
            " [ 40  42]\n",
            " [ 40  42]\n",
            " [ 42  52]\n",
            " [ 42  60]\n",
            " [ 43  54]\n",
            " [ 43  60]\n",
            " [ 43  45]\n",
            " [ 43  41]\n",
            " [ 44  50]\n",
            " [ 44  46]\n",
            " [ 46  51]\n",
            " [ 46  46]\n",
            " [ 46  56]\n",
            " [ 46  55]\n",
            " [ 47  52]\n",
            " [ 47  59]\n",
            " [ 48  51]\n",
            " [ 48  59]\n",
            " [ 48  50]\n",
            " [ 48  48]\n",
            " [ 48  59]\n",
            " [ 48  47]\n",
            " [ 49  55]\n",
            " [ 49  42]\n",
            " [ 50  49]\n",
            " [ 50  56]\n",
            " [ 54  47]\n",
            " [ 54  54]\n",
            " [ 54  53]\n",
            " [ 54  48]\n",
            " [ 54  52]\n",
            " [ 54  42]\n",
            " [ 54  51]\n",
            " [ 54  55]\n",
            " [ 54  41]\n",
            " [ 54  44]\n",
            " [ 54  57]\n",
            " [ 54  46]\n",
            " [ 57  58]\n",
            " [ 57  55]\n",
            " [ 58  60]\n",
            " [ 58  46]\n",
            " [ 59  55]\n",
            " [ 59  41]\n",
            " [ 60  49]\n",
            " [ 60  40]\n",
            " [ 60  42]\n",
            " [ 60  52]\n",
            " [ 60  47]\n",
            " [ 60  50]\n",
            " [ 61  42]\n",
            " [ 61  49]\n",
            " [ 62  41]\n",
            " [ 62  48]\n",
            " [ 62  59]\n",
            " [ 62  55]\n",
            " [ 62  56]\n",
            " [ 62  42]\n",
            " [ 63  50]\n",
            " [ 63  46]\n",
            " [ 63  43]\n",
            " [ 63  48]\n",
            " [ 63  52]\n",
            " [ 63  54]\n",
            " [ 64  42]\n",
            " [ 64  46]\n",
            " [ 65  48]\n",
            " [ 65  50]\n",
            " [ 65  43]\n",
            " [ 65  59]\n",
            " [ 67  43]\n",
            " [ 67  57]\n",
            " [ 67  56]\n",
            " [ 67  40]\n",
            " [ 69  58]\n",
            " [ 69  91]\n",
            " [ 70  29]\n",
            " [ 70  77]\n",
            " [ 71  35]\n",
            " [ 71  95]\n",
            " [ 71  11]\n",
            " [ 71  75]\n",
            " [ 71   9]\n",
            " [ 71  75]\n",
            " [ 72  34]\n",
            " [ 72  71]\n",
            " [ 73   5]\n",
            " [ 73  88]\n",
            " [ 73   7]\n",
            " [ 73  73]\n",
            " [ 74  10]\n",
            " [ 74  72]\n",
            " [ 75   5]\n",
            " [ 75  93]\n",
            " [ 76  40]\n",
            " [ 76  87]\n",
            " [ 77  12]\n",
            " [ 77  97]\n",
            " [ 77  36]\n",
            " [ 77  74]\n",
            " [ 78  22]\n",
            " [ 78  90]\n",
            " [ 78  17]\n",
            " [ 78  88]\n",
            " [ 78  20]\n",
            " [ 78  76]\n",
            " [ 78  16]\n",
            " [ 78  89]\n",
            " [ 78   1]\n",
            " [ 78  78]\n",
            " [ 78   1]\n",
            " [ 78  73]\n",
            " [ 79  35]\n",
            " [ 79  83]\n",
            " [ 81   5]\n",
            " [ 81  93]\n",
            " [ 85  26]\n",
            " [ 85  75]\n",
            " [ 86  20]\n",
            " [ 86  95]\n",
            " [ 87  27]\n",
            " [ 87  63]\n",
            " [ 87  13]\n",
            " [ 87  75]\n",
            " [ 87  10]\n",
            " [ 87  92]\n",
            " [ 88  13]\n",
            " [ 88  86]\n",
            " [ 88  15]\n",
            " [ 88  69]\n",
            " [ 93  14]\n",
            " [ 93  90]\n",
            " [ 97  32]\n",
            " [ 97  86]\n",
            " [ 98  15]\n",
            " [ 98  88]\n",
            " [ 99  39]\n",
            " [ 99  97]\n",
            " [101  24]\n",
            " [101  68]\n",
            " [103  17]\n",
            " [103  85]\n",
            " [103  23]\n",
            " [103  69]\n",
            " [113   8]\n",
            " [113  91]\n",
            " [120  16]\n",
            " [120  79]\n",
            " [126  28]\n",
            " [126  74]\n",
            " [137  18]\n",
            " [137  83]]\n"
          ]
        }
      ]
    },
    {
      "cell_type": "markdown",
      "id": "e3ae8a51",
      "metadata": {
        "id": "e3ae8a51"
      },
      "source": [
        "Extract the annual-income and spending-score values and plot them to see how they relate."
      ]
    },
    {
      "cell_type": "code",
      "execution_count": null,
      "id": "a2c66040",
      "metadata": {
        "id": "a2c66040",
        "outputId": "cea8d353-d9a4-4fc7-b8ff-88dac7d00a66"
      },
      "outputs": [
        {
          "data": {
            "text/plain": [
              "Text(0, 0.5, 'Spending Score')"
            ]
          },
          "execution_count": 25,
          "metadata": {},
          "output_type": "execute_result"
        },
        {
          "data": {
            "image/png": "[encoded data removed]",
            "text/plain": [
              "<Figure size 640x480 with 1 Axes>"
            ]
          },
          "metadata": {},
          "output_type": "display_data"
        }
      ],
      "source": [
        "import matplotlib.pyplot as plt\n",
        "points = customers.iloc[:, 3:5].values\n",
        "x = points[:, 0]\n",
        "y = points[:, 1]\n",
        "\n",
        "plt.scatter(x, y, s=50, alpha=0.7)\n",
        "plt.xlabel('Annual Income (k$)')\n",
        "plt.ylabel('Spending Score')"
      ]
    },
    {
      "cell_type": "markdown",
      "id": "92e25ec3",
      "metadata": {
        "id": "92e25ec3"
      },
      "source": [
        "Use the elbow method to determine the optimum number of clusters."
      ]
    },
    {
      "cell_type": "code",
      "execution_count": null,
      "id": "a268b3f7",
      "metadata": {
        "id": "a268b3f7",
        "outputId": "b45bede2-f4c1-43ec-f00e-2ae4422076f0"
      },
      "outputs": [
        {
          "name": "stderr",
          "output_type": "stream",
          "text": [
            "C:\\Users\\nerdydreams\\anaconda3\\lib\\site-packages\\sklearn\\cluster\\_kmeans.py:1036: UserWarning: KMeans is known to have a memory leak on Windows with MKL, when there are less chunks than available threads. You can avoid it by setting the environment variable OMP_NUM_THREADS=1.\n",
            "  warnings.warn(\n"
          ]
        },
        {
          "data": {
            "text/plain": [
              "Text(0, 0.5, 'Inertia')"
            ]
          },
          "execution_count": 26,
          "metadata": {},
          "output_type": "execute_result"
        },
        {
          "data": {
            "image/png": "[encoded data removed]",
            "text/plain": [
              "<Figure size 640x480 with 1 Axes>"
            ]
          },
          "metadata": {},
          "output_type": "display_data"
        }
      ],
      "source": [
        "from sklearn.cluster import KMeans\n",
        "\n",
        "inertias = []\n",
        "\n",
        "for i in range(1, 10):\n",
        "    kmeans = KMeans(n_clusters=i, random_state=0)\n",
        "    kmeans.fit(points)\n",
        "    inertias.append(kmeans.inertia_)\n",
        "\n",
        "plt.plot(range(1, 10), inertias)\n",
        "plt.xlabel('Number of clusters')\n",
        "plt.ylabel('Inertia')"
      ]
    },
    {
      "cell_type": "markdown",
      "id": "84224798",
      "metadata": {
        "id": "84224798"
      },
      "source": [
        "Looks as if the optimum number of clusters is 5. Therefore, segment the customers using five clusters."
      ]
    },
    {
      "cell_type": "code",
      "execution_count": null,
      "id": "5ca4e36c",
      "metadata": {
        "id": "5ca4e36c",
        "outputId": "81df1bb5-8d27-4fa0-e302-06c14f850dad"
      },
      "outputs": [
        {
          "data": {
            "text/plain": [
              "<matplotlib.collections.PathCollection at 0x25e39df2430>"
            ]
          },
          "execution_count": 27,
          "metadata": {},
          "output_type": "execute_result"
        },
        {
          "data": {
            "image/png": "[encoded data removed]",
            "text/plain": [
              "<Figure size 640x480 with 1 Axes>"
            ]
          },
          "metadata": {},
          "output_type": "display_data"
        }
      ],
      "source": [
        "kmeans = KMeans(n_clusters=5, random_state=0)\n",
        "kmeans.fit(points) # training\n",
        "predicted_cluster_indexes = kmeans.predict(points)\n",
        "\n",
        "plt.scatter(x, y, c=predicted_cluster_indexes, s=50, alpha=0.7, cmap='viridis')\n",
        "plt.xlabel('Annual Income (k$)')\n",
        "plt.ylabel('Spending Score')\n",
        "\n",
        "centers = kmeans.cluster_centers_\n",
        "plt.scatter(centers[:, 0], centers[:, 1], c='red', s=100)"
      ]
    },
    {
      "cell_type": "markdown",
      "id": "1a26f4f9",
      "metadata": {
        "id": "1a26f4f9"
      },
      "source": [
        "Create a DataFrame containing customer data and add a column named \"Cluster\" with the index of the cluster that each customer falls into."
      ]
    },
    {
      "cell_type": "code",
      "execution_count": null,
      "id": "fbc3ee42",
      "metadata": {
        "id": "fbc3ee42",
        "outputId": "3a1f5bff-b3f9-4b4c-afe4-d82a8648ac0b"
      },
      "outputs": [
        {
          "data": {
            "text/html": [
              "<div>\n",
              "<style scoped>\n",
              "    .dataframe tbody tr th:only-of-type {\n",
              "        vertical-align: middle;\n",
              "    }\n",
              "\n",
              "    .dataframe tbody tr th {\n",
              "        vertical-align: top;\n",
              "    }\n",
              "\n",
              "    .dataframe thead th {\n",
              "        text-align: right;\n",
              "    }\n",
              "</style>\n",
              "<table border=\"1\" class=\"dataframe\">\n",
              "  <thead>\n",
              "    <tr style=\"text-align: right;\">\n",
              "      <th></th>\n",
              "      <th>CustomerID</th>\n",
              "      <th>Gender</th>\n",
              "      <th>Age</th>\n",
              "      <th>Annual Income (k$)</th>\n",
              "      <th>Spending Score (1-100)</th>\n",
              "      <th>Cluster</th>\n",
              "    </tr>\n",
              "  </thead>\n",
              "  <tbody>\n",
              "    <tr>\n",
              "      <th>0</th>\n",
              "      <td>1</td>\n",
              "      <td>Male</td>\n",
              "      <td>19</td>\n",
              "      <td>15</td>\n",
              "      <td>39</td>\n",
              "      <td>4</td>\n",
              "    </tr>\n",
              "    <tr>\n",
              "      <th>1</th>\n",
              "      <td>2</td>\n",
              "      <td>Male</td>\n",
              "      <td>21</td>\n",
              "      <td>15</td>\n",
              "      <td>81</td>\n",
              "      <td>3</td>\n",
              "    </tr>\n",
              "    <tr>\n",
              "      <th>2</th>\n",
              "      <td>3</td>\n",
              "      <td>Female</td>\n",
              "      <td>20</td>\n",
              "      <td>16</td>\n",
              "      <td>6</td>\n",
              "      <td>4</td>\n",
              "    </tr>\n",
              "    <tr>\n",
              "      <th>3</th>\n",
              "      <td>4</td>\n",
              "      <td>Female</td>\n",
              "      <td>23</td>\n",
              "      <td>16</td>\n",
              "      <td>77</td>\n",
              "      <td>3</td>\n",
              "    </tr>\n",
              "    <tr>\n",
              "      <th>4</th>\n",
              "      <td>5</td>\n",
              "      <td>Female</td>\n",
              "      <td>31</td>\n",
              "      <td>17</td>\n",
              "      <td>40</td>\n",
              "      <td>4</td>\n",
              "    </tr>\n",
              "  </tbody>\n",
              "</table>\n",
              "</div>"
            ],
            "text/plain": [
              "   CustomerID  Gender  Age  Annual Income (k$)  Spending Score (1-100)  \\\n",
              "0           1    Male   19                  15                      39   \n",
              "1           2    Male   21                  15                      81   \n",
              "2           3  Female   20                  16                       6   \n",
              "3           4  Female   23                  16                      77   \n",
              "4           5  Female   31                  17                      40   \n",
              "\n",
              "   Cluster  \n",
              "0        4  \n",
              "1        3  \n",
              "2        4  \n",
              "3        3  \n",
              "4        4  "
            ]
          },
          "execution_count": 28,
          "metadata": {},
          "output_type": "execute_result"
        }
      ],
      "source": [
        "df = customers.copy()\n",
        "df['Cluster'] = kmeans.predict(points)\n",
        "df.head()"
      ]
    },
    {
      "cell_type": "markdown",
      "id": "9492e164",
      "metadata": {
        "id": "9492e164"
      },
      "source": [
        "Generate a list of customers who fall into the lower-right cluster (customers with high incomes but low spending scores)."
      ]
    },
    {
      "cell_type": "code",
      "execution_count": null,
      "id": "bc3186c4",
      "metadata": {
        "id": "bc3186c4",
        "outputId": "ca3dd1e6-949e-4a97-c4fc-2bbede514761"
      },
      "outputs": [
        {
          "data": {
            "text/plain": [
              "array([125, 129, 131, 135, 137, 139, 141, 145, 147, 149, 151, 153, 155,\n",
              "       157, 159, 161, 163, 165, 167, 169, 171, 173, 175, 177, 179, 181,\n",
              "       183, 185, 187, 189, 191, 193, 195, 197, 199], dtype=int64)"
            ]
          },
          "execution_count": 29,
          "metadata": {},
          "output_type": "execute_result"
        }
      ],
      "source": [
        "import numpy as np\n",
        "\n",
        "# Get the cluster index for a customer with a high income and low spending score\n",
        "cluster = kmeans.predict(np.array([[120, 20]]))[0]\n",
        "\n",
        "# Filter the DataFrame to include only customers in that cluster\n",
        "clustered_df = df[df['Cluster'] == cluster]\n",
        "\n",
        "# Show the customer IDs\n",
        "clustered_df['CustomerID'].values"
      ]
    },
    {
      "cell_type": "markdown",
      "id": "b66f4023",
      "metadata": {
        "id": "b66f4023"
      },
      "source": [
        "These might be great customers to target with a promotion to entice them to buy more of your product. If you were going to roll out a loyalty program instead to reward customers who already buy your product, which cluster (or clusters) would you target?"
      ]
    },
    {
      "cell_type": "markdown",
      "id": "233a7e14",
      "metadata": {
        "id": "233a7e14"
      },
      "source": [
        "## Example 2: Segment customers on all attributes\n",
        "\n",
        "Now segment the customers again, this time using everything except the customer IDs. Start by replacing the strings \"Male\" and \"Female\" in the \"Gender\" column with 1s and 0s,(*label encoding*). Remember that this is necessary because machine learning can only deal with numerical data."
      ]
    },
    {
      "cell_type": "code",
      "execution_count": null,
      "id": "ab10e536",
      "metadata": {
        "id": "ab10e536",
        "outputId": "738fa48b-b27a-4767-e4a1-dba841de38b1"
      },
      "outputs": [
        {
          "data": {
            "text/html": [
              "<div>\n",
              "<style scoped>\n",
              "    .dataframe tbody tr th:only-of-type {\n",
              "        vertical-align: middle;\n",
              "    }\n",
              "\n",
              "    .dataframe tbody tr th {\n",
              "        vertical-align: top;\n",
              "    }\n",
              "\n",
              "    .dataframe thead th {\n",
              "        text-align: right;\n",
              "    }\n",
              "</style>\n",
              "<table border=\"1\" class=\"dataframe\">\n",
              "  <thead>\n",
              "    <tr style=\"text-align: right;\">\n",
              "      <th></th>\n",
              "      <th>CustomerID</th>\n",
              "      <th>Gender</th>\n",
              "      <th>Age</th>\n",
              "      <th>Annual Income (k$)</th>\n",
              "      <th>Spending Score (1-100)</th>\n",
              "    </tr>\n",
              "  </thead>\n",
              "  <tbody>\n",
              "    <tr>\n",
              "      <th>0</th>\n",
              "      <td>1</td>\n",
              "      <td>1</td>\n",
              "      <td>19</td>\n",
              "      <td>15</td>\n",
              "      <td>39</td>\n",
              "    </tr>\n",
              "    <tr>\n",
              "      <th>1</th>\n",
              "      <td>2</td>\n",
              "      <td>1</td>\n",
              "      <td>21</td>\n",
              "      <td>15</td>\n",
              "      <td>81</td>\n",
              "    </tr>\n",
              "    <tr>\n",
              "      <th>2</th>\n",
              "      <td>3</td>\n",
              "      <td>0</td>\n",
              "      <td>20</td>\n",
              "      <td>16</td>\n",
              "      <td>6</td>\n",
              "    </tr>\n",
              "    <tr>\n",
              "      <th>3</th>\n",
              "      <td>4</td>\n",
              "      <td>0</td>\n",
              "      <td>23</td>\n",
              "      <td>16</td>\n",
              "      <td>77</td>\n",
              "    </tr>\n",
              "    <tr>\n",
              "      <th>4</th>\n",
              "      <td>5</td>\n",
              "      <td>0</td>\n",
              "      <td>31</td>\n",
              "      <td>17</td>\n",
              "      <td>40</td>\n",
              "    </tr>\n",
              "  </tbody>\n",
              "</table>\n",
              "</div>"
            ],
            "text/plain": [
              "   CustomerID  Gender  Age  Annual Income (k$)  Spending Score (1-100)\n",
              "0           1       1   19                  15                      39\n",
              "1           2       1   21                  15                      81\n",
              "2           3       0   20                  16                       6\n",
              "3           4       0   23                  16                      77\n",
              "4           5       0   31                  17                      40"
            ]
          },
          "execution_count": 57,
          "metadata": {},
          "output_type": "execute_result"
        }
      ],
      "source": [
        "from sklearn.preprocessing import LabelEncoder\n",
        "\n",
        "df = customers.copy()\n",
        "encoder = LabelEncoder()\n",
        "df['Gender'] = encoder.fit_transform(df['Gender'])\n",
        "df.head()"
      ]
    },
    {
      "cell_type": "markdown",
      "id": "c68d7164",
      "metadata": {
        "id": "c68d7164"
      },
      "source": [
        "Extract the values in the gender, age, income, and score columns, and use the elbow method to determine the optimum number of clusters based on these features."
      ]
    },
    {
      "cell_type": "code",
      "execution_count": null,
      "id": "e8a1ff2e",
      "metadata": {
        "scrolled": false,
        "id": "e8a1ff2e",
        "outputId": "599a8cea-5542-4186-a9b3-4d6e2a112dcd"
      },
      "outputs": [
        {
          "name": "stderr",
          "output_type": "stream",
          "text": [
            "C:\\Users\\nerdydreams\\anaconda3\\lib\\site-packages\\sklearn\\cluster\\_kmeans.py:1036: UserWarning: KMeans is known to have a memory leak on Windows with MKL, when there are less chunks than available threads. You can avoid it by setting the environment variable OMP_NUM_THREADS=1.\n",
            "  warnings.warn(\n"
          ]
        },
        {
          "data": {
            "text/plain": [
              "Text(0, 0.5, 'Inertia')"
            ]
          },
          "execution_count": 58,
          "metadata": {},
          "output_type": "execute_result"
        },
        {
          "data": {
            "image/png": "[encoded data removed]",
            "text/plain": [
              "<Figure size 640x480 with 1 Axes>"
            ]
          },
          "metadata": {},
          "output_type": "display_data"
        }
      ],
      "source": [
        "inertias = []\n",
        "points = df.iloc[:, 1:5].values\n",
        "\n",
        "for i in range(1, 10):\n",
        "    kmeans = KMeans(n_clusters=i, random_state=0)\n",
        "    kmeans.fit(points)\n",
        "    inertias.append(kmeans.inertia_)\n",
        "\n",
        "plt.plot(range(1, 10), inertias)\n",
        "plt.xlabel('Number of Clusters')\n",
        "plt.ylabel('Inertia')"
      ]
    },
    {
      "cell_type": "markdown",
      "id": "cba7735e",
      "metadata": {
        "id": "cba7735e"
      },
      "source": [
        "The elbow is less distinct this time, but let's segment the customers into five clusters again and add a column named \"Cluster\" with the index of the cluster that each customer falls into."
      ]
    },
    {
      "cell_type": "code",
      "execution_count": null,
      "id": "0b340490",
      "metadata": {
        "id": "0b340490",
        "outputId": "50de0da5-fe4e-41ee-c18f-f60627d79c5f"
      },
      "outputs": [
        {
          "data": {
            "text/html": [
              "<div>\n",
              "<style scoped>\n",
              "    .dataframe tbody tr th:only-of-type {\n",
              "        vertical-align: middle;\n",
              "    }\n",
              "\n",
              "    .dataframe tbody tr th {\n",
              "        vertical-align: top;\n",
              "    }\n",
              "\n",
              "    .dataframe thead th {\n",
              "        text-align: right;\n",
              "    }\n",
              "</style>\n",
              "<table border=\"1\" class=\"dataframe\">\n",
              "  <thead>\n",
              "    <tr style=\"text-align: right;\">\n",
              "      <th></th>\n",
              "      <th>CustomerID</th>\n",
              "      <th>Gender</th>\n",
              "      <th>Age</th>\n",
              "      <th>Annual Income (k$)</th>\n",
              "      <th>Spending Score (1-100)</th>\n",
              "      <th>Cluster</th>\n",
              "    </tr>\n",
              "  </thead>\n",
              "  <tbody>\n",
              "    <tr>\n",
              "      <th>0</th>\n",
              "      <td>1</td>\n",
              "      <td>1</td>\n",
              "      <td>19</td>\n",
              "      <td>15</td>\n",
              "      <td>39</td>\n",
              "      <td>0</td>\n",
              "    </tr>\n",
              "    <tr>\n",
              "      <th>1</th>\n",
              "      <td>2</td>\n",
              "      <td>1</td>\n",
              "      <td>21</td>\n",
              "      <td>15</td>\n",
              "      <td>81</td>\n",
              "      <td>4</td>\n",
              "    </tr>\n",
              "    <tr>\n",
              "      <th>2</th>\n",
              "      <td>3</td>\n",
              "      <td>0</td>\n",
              "      <td>20</td>\n",
              "      <td>16</td>\n",
              "      <td>6</td>\n",
              "      <td>0</td>\n",
              "    </tr>\n",
              "    <tr>\n",
              "      <th>3</th>\n",
              "      <td>4</td>\n",
              "      <td>0</td>\n",
              "      <td>23</td>\n",
              "      <td>16</td>\n",
              "      <td>77</td>\n",
              "      <td>4</td>\n",
              "    </tr>\n",
              "    <tr>\n",
              "      <th>4</th>\n",
              "      <td>5</td>\n",
              "      <td>0</td>\n",
              "      <td>31</td>\n",
              "      <td>17</td>\n",
              "      <td>40</td>\n",
              "      <td>0</td>\n",
              "    </tr>\n",
              "  </tbody>\n",
              "</table>\n",
              "</div>"
            ],
            "text/plain": [
              "   CustomerID  Gender  Age  Annual Income (k$)  Spending Score (1-100)  \\\n",
              "0           1       1   19                  15                      39   \n",
              "1           2       1   21                  15                      81   \n",
              "2           3       0   20                  16                       6   \n",
              "3           4       0   23                  16                      77   \n",
              "4           5       0   31                  17                      40   \n",
              "\n",
              "   Cluster  \n",
              "0        0  \n",
              "1        4  \n",
              "2        0  \n",
              "3        4  \n",
              "4        0  "
            ]
          },
          "execution_count": 32,
          "metadata": {},
          "output_type": "execute_result"
        }
      ],
      "source": [
        "kmeans = KMeans(n_clusters=5, random_state=0)\n",
        "kmeans.fit(points) # training\n",
        "\n",
        "df['Cluster'] = kmeans.predict(points)\n",
        "df.head()"
      ]
    },
    {
      "cell_type": "markdown",
      "id": "243fc87b",
      "metadata": {
        "id": "243fc87b"
      },
      "source": [
        "You have a cluster number for each customer, but what does it mean? You can’t plot gender, age, annual income, and spending score in a 2-dimensional chart the way you plotted annual income and spending score in the previous example. But you *can* get the mean (average) of these values for each cluster from the cluster centroids. Create a new DataFrame with columns for average age, average income, and so on, and then show the results."
      ]
    },
    {
      "cell_type": "code",
      "execution_count": null,
      "id": "118d20c4",
      "metadata": {
        "id": "118d20c4",
        "outputId": "effd1ddf-b4a5-46d1-b72a-fbf73da2db43"
      },
      "outputs": [
        {
          "data": {
            "text/html": [
              "<div>\n",
              "<style scoped>\n",
              "    .dataframe tbody tr th:only-of-type {\n",
              "        vertical-align: middle;\n",
              "    }\n",
              "\n",
              "    .dataframe tbody tr th {\n",
              "        vertical-align: top;\n",
              "    }\n",
              "\n",
              "    .dataframe thead th {\n",
              "        text-align: right;\n",
              "    }\n",
              "</style>\n",
              "<table border=\"1\" class=\"dataframe\">\n",
              "  <thead>\n",
              "    <tr style=\"text-align: right;\">\n",
              "      <th></th>\n",
              "      <th>Cluster</th>\n",
              "      <th>Average Age</th>\n",
              "      <th>Average Income</th>\n",
              "      <th>Average Spending Index</th>\n",
              "      <th>Number of Females</th>\n",
              "      <th>Number of Males</th>\n",
              "    </tr>\n",
              "  </thead>\n",
              "  <tbody>\n",
              "    <tr>\n",
              "      <th>0</th>\n",
              "      <td>0.0</td>\n",
              "      <td>45.217391</td>\n",
              "      <td>26.304348</td>\n",
              "      <td>20.913043</td>\n",
              "      <td>14.0</td>\n",
              "      <td>9.0</td>\n",
              "    </tr>\n",
              "    <tr>\n",
              "      <th>1</th>\n",
              "      <td>1.0</td>\n",
              "      <td>32.692308</td>\n",
              "      <td>86.538462</td>\n",
              "      <td>82.128205</td>\n",
              "      <td>21.0</td>\n",
              "      <td>18.0</td>\n",
              "    </tr>\n",
              "    <tr>\n",
              "      <th>2</th>\n",
              "      <td>2.0</td>\n",
              "      <td>43.088608</td>\n",
              "      <td>55.291139</td>\n",
              "      <td>49.569620</td>\n",
              "      <td>46.0</td>\n",
              "      <td>33.0</td>\n",
              "    </tr>\n",
              "    <tr>\n",
              "      <th>3</th>\n",
              "      <td>3.0</td>\n",
              "      <td>40.666667</td>\n",
              "      <td>87.750000</td>\n",
              "      <td>17.583333</td>\n",
              "      <td>17.0</td>\n",
              "      <td>19.0</td>\n",
              "    </tr>\n",
              "    <tr>\n",
              "      <th>4</th>\n",
              "      <td>4.0</td>\n",
              "      <td>25.521739</td>\n",
              "      <td>26.304348</td>\n",
              "      <td>78.565217</td>\n",
              "      <td>14.0</td>\n",
              "      <td>9.0</td>\n",
              "    </tr>\n",
              "  </tbody>\n",
              "</table>\n",
              "</div>"
            ],
            "text/plain": [
              "   Cluster  Average Age  Average Income  Average Spending Index  \\\n",
              "0      0.0    45.217391       26.304348               20.913043   \n",
              "1      1.0    32.692308       86.538462               82.128205   \n",
              "2      2.0    43.088608       55.291139               49.569620   \n",
              "3      3.0    40.666667       87.750000               17.583333   \n",
              "4      4.0    25.521739       26.304348               78.565217   \n",
              "\n",
              "   Number of Females  Number of Males  \n",
              "0               14.0              9.0  \n",
              "1               21.0             18.0  \n",
              "2               46.0             33.0  \n",
              "3               17.0             19.0  \n",
              "4               14.0              9.0  "
            ]
          },
          "execution_count": 33,
          "metadata": {},
          "output_type": "execute_result"
        }
      ],
      "source": [
        "results = pd.DataFrame(columns = ['Cluster', 'Average Age', 'Average Income', 'Average Spending Index', 'Number of Females', 'Number of Males'])\n",
        "\n",
        "for i, center in enumerate(kmeans.cluster_centers_):\n",
        "    age = center[1]    # Average age for current cluster\n",
        "    income = center[2] # Average income for current cluster\n",
        "    spend = center[3]  # Average spending score for current cluster\n",
        "\n",
        "    gdf = df[df['Cluster'] == i]\n",
        "    females = gdf[gdf['Gender'] == 0].shape[0]\n",
        "    males = gdf[gdf['Gender'] == 1].shape[0]\n",
        "\n",
        "    results.loc[i] = ([i, age, income, spend, females, males])\n",
        "\n",
        "results.head()"
      ]
    },
    {
      "cell_type": "markdown",
      "id": "0b41476b",
      "metadata": {
        "id": "0b41476b"
      },
      "source": [
        "Based on this, if you were going to target customers with high incomes but low spending scores for a promotion, which group of customers (which cluster) would you choose? Would it matter whether you targeted males or females?"
      ]
    },
    {
      "cell_type": "markdown",
      "id": "441063f3",
      "metadata": {
        "id": "441063f3"
      },
      "source": [
        "## Silhouette Score for 2D Clustering (Annual Income and Spending Score)"
      ]
    },
    {
      "cell_type": "code",
      "execution_count": null,
      "id": "8365d5a8",
      "metadata": {
        "id": "8365d5a8",
        "outputId": "a53490cd-8915-4c43-efa1-d4352b711fb1"
      },
      "outputs": [
        {
          "name": "stdout",
          "output_type": "stream",
          "text": [
            "Silhouette Score for 2D clustering: 0.553931997444648\n"
          ]
        }
      ],
      "source": [
        "from sklearn.metrics import silhouette_score\n",
        "\n",
        "# Extract the annual income and spending score\n",
        "points_2d = customers.iloc[:, 3:5].values\n",
        "\n",
        "# Calculate the Silhouette Score for 2D clustering\n",
        "silhouette_avg_2d = silhouette_score(points_2d, predicted_cluster_indexes)\n",
        "print(f\"Silhouette Score for 2D clustering: {silhouette_avg_2d}\")"
      ]
    },
    {
      "cell_type": "markdown",
      "id": "fc8d270b",
      "metadata": {
        "id": "fc8d270b"
      },
      "source": [
        "### Plotting Silhouette Score for different numbers of clusters (k) (Annual Income and Spending Score)"
      ]
    },
    {
      "cell_type": "code",
      "execution_count": null,
      "id": "3e8bdfd7",
      "metadata": {
        "id": "3e8bdfd7",
        "outputId": "62b81432-2491-4279-8aef-4e6eae5ecf9a"
      },
      "outputs": [
        {
          "name": "stdout",
          "output_type": "stream",
          "text": [
            "Silhouette Score for k=2: 0.2968969162503008\n",
            "Silhouette Score for k=3: 0.46761358158775435\n",
            "Silhouette Score for k=4: 0.4931963109249047\n",
            "Silhouette Score for k=5: 0.553931997444648\n",
            "Silhouette Score for k=6: 0.5379675585622219\n",
            "Silhouette Score for k=7: 0.5264283703685728\n",
            "Silhouette Score for k=8: 0.45704384633565154\n",
            "Silhouette Score for k=9: 0.4563032021725485\n",
            "Silhouette Score for k=10: 0.4492169169017592\n"
          ]
        },
        {
          "data": {
            "image/png": "[encoded data removed]",
            "text/plain": [
              "<Figure size 640x480 with 1 Axes>"
            ]
          },
          "metadata": {},
          "output_type": "display_data"
        }
      ],
      "source": [
        "from sklearn.metrics import silhouette_score\n",
        "from sklearn.cluster import KMeans\n",
        "import matplotlib.pyplot as plt\n",
        "\n",
        "# Extract the 2D features (Annual Income and Spending Score)\n",
        "points_2d = customers.iloc[:, 3:5].values  # Adjust this based on your dataset\n",
        "\n",
        "# Initialize a list to store Silhouette Scores\n",
        "silhouette_scores_2d = []\n",
        "\n",
        "# Range of clusters to try (e.g., from 2 to 10)\n",
        "k_range = range(2, 11)\n",
        "\n",
        "# Calculate Silhouette Score for each k\n",
        "for k in k_range:\n",
        "    kmeans = KMeans(n_clusters=k, random_state=0)\n",
        "    cluster_labels = kmeans.fit_predict(points_2d)\n",
        "    silhouette_avg = silhouette_score(points_2d, cluster_labels)\n",
        "    silhouette_scores_2d.append(silhouette_avg)\n",
        "    print(f\"Silhouette Score for k={k}: {silhouette_avg}\")\n",
        "\n",
        "# Plot the Silhouette Scores\n",
        "plt.plot(k_range, silhouette_scores_2d, marker='o', linestyle='-', color='b')\n",
        "plt.xlabel('Number of Clusters (k)')\n",
        "plt.ylabel('Silhouette Score')\n",
        "plt.title('Silhouette Score vs Number of Clusters (2D Clustering)')\n",
        "plt.grid(True)\n",
        "plt.show()"
      ]
    },
    {
      "cell_type": "markdown",
      "id": "55d52594",
      "metadata": {
        "id": "55d52594"
      },
      "source": [
        "## Silhouette Score for 4D Clustering (Gender, Age, Annual Income, and Spending Score)"
      ]
    },
    {
      "cell_type": "code",
      "execution_count": null,
      "id": "3b1c4b4d",
      "metadata": {
        "id": "3b1c4b4d",
        "outputId": "48a820a6-13d2-4be2-d8c0-d8ff2aa0ec8e"
      },
      "outputs": [
        {
          "name": "stdout",
          "output_type": "stream",
          "text": [
            "Silhouette Score for 4D clustering: 0.3786785930395736\n"
          ]
        }
      ],
      "source": [
        "# Extract the gender, age, annual income, and spending score\n",
        "points_4d = df.iloc[:, 1:5].values\n",
        "\n",
        "# Predict the cluster indexes for 4D clustering\n",
        "predicted_cluster_indexes_4d = kmeans.predict(points_4d)\n",
        "\n",
        "# Calculate the Silhouette Score for 4D clustering\n",
        "silhouette_avg_4d = silhouette_score(points_4d, predicted_cluster_indexes_4d)\n",
        "print(f\"Silhouette Score for 4D clustering: {silhouette_avg_4d}\")"
      ]
    },
    {
      "cell_type": "markdown",
      "id": "73138fdb",
      "metadata": {
        "id": "73138fdb"
      },
      "source": [
        "### Plotting Silhouette Score for different numbers of clusters (k) (Gender, Age, Annual Income, and Spending)"
      ]
    },
    {
      "cell_type": "code",
      "execution_count": null,
      "id": "de0f08dc",
      "metadata": {
        "id": "de0f08dc",
        "outputId": "8ec72588-3e24-48e0-88cd-aec7a7efe02d"
      },
      "outputs": [
        {
          "name": "stdout",
          "output_type": "stream",
          "text": [
            "Silhouette Score for k=2: 0.29307334005502633\n",
            "Silhouette Score for k=3: 0.383798873822341\n",
            "Silhouette Score for k=4: 0.4052954330641215\n",
            "Silhouette Score for k=5: 0.4440669204743008\n",
            "Silhouette Score for k=6: 0.45205475380756527\n",
            "Silhouette Score for k=7: 0.44096462877395787\n",
            "Silhouette Score for k=8: 0.4277721345758326\n",
            "Silhouette Score for k=9: 0.4009199511597155\n"
          ]
        },
        {
          "data": {
            "image/png": "[encoded data removed]",
            "text/plain": [
              "<Figure size 640x480 with 1 Axes>"
            ]
          },
          "metadata": {},
          "output_type": "display_data"
        }
      ],
      "source": [
        "from sklearn.metrics import silhouette_score\n",
        "\n",
        "silhouette_scores = []\n",
        "\n",
        "for k in range(2, 10):\n",
        "    kmeans = KMeans(n_clusters=k, random_state=0)\n",
        "    kmeans.fit(points_4d)\n",
        "    score = silhouette_score(points_4d, kmeans.labels_)\n",
        "    silhouette_scores.append(score)\n",
        "    print(f\"Silhouette Score for k={k}: {score}\")\n",
        "\n",
        "# Plot the Silhouette Scores\n",
        "plt.plot(range(2, 10), silhouette_scores, marker='o')\n",
        "plt.xlabel('Number of Clusters (k)')\n",
        "plt.ylabel('Silhouette Score')\n",
        "plt.title('Silhouette Score for Different Values of k')\n",
        "plt.show()"
      ]
    }
  ],
  "metadata": {
    "kernelspec": {
      "display_name": "Python 3 (ipykernel)",
      "language": "python",
      "name": "python3"
    },
    "language_info": {
      "codemirror_mode": {
        "name": "ipython",
        "version": 3
      },
      "file_extension": ".py",
      "mimetype": "text/x-python",
      "name": "python",
      "nbconvert_exporter": "python",
      "pygments_lexer": "ipython3",
      "version": "3.9.13"
    },
    "colab": {
      "provenance": []
    }
  },
  "nbformat": 4,
  "nbformat_minor": 5
}