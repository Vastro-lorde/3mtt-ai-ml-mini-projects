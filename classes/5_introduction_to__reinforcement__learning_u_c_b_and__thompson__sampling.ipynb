{
  "cells": [
    {
      "cell_type": "markdown",
      "id": "fc2984c9",
      "metadata": {
        "id": "fc2984c9"
      },
      "source": [
        "📖 Recommended Reading: [Reinforcement Learning In 31 Steps](https://bobrupakroy.medium.com/reinforcement-learning-in-31-steps-960aedc8f19c)\n",
        "\n",
        "🎥 Recommended Video: [Reinforcement Learning Crash Course](https://www.youtube.com/watch?v=nIgIv4IfJ6s)\n",
        "\n",
        "🎥 Optional Video: [Reinforcement Learning from scratch](https://www.youtube.com/watch?v=vXtfdGphr3c)\n",
        "\n",
        "🎥 Optional Video: [Reinforcement Learning: Deep Q Learning and Policy Gradient](https://www.youtube.com/watch?v=k0eMEhgTYZQ&t=13s)\n",
        "\n",
        "\n",
        "\n",
        "\n",
        "\n",
        "# Introduction to Reinforcement Learning: Training Machines to Make Smart Decisions\n",
        "\n",
        "Imagine teaching a robot to play a video game. The robot starts with no idea what the rules are but gradually learns by trying different moves, observing the results, and improving its strategies. This learning process is the essence of **Reinforcement Learning (RL)**.\n",
        "\n",
        "Reinforcement Learning is a machine learning paradigm where an agent learns to make decisions by interacting with an environment. The agent aims to maximize cumulative rewards over time. Unlike supervised learning, which relies on labeled data, RL learns through feedback in the form of **rewards** (positive feedback) or **penalties** (negative feedback).\n",
        "\n",
        "---\n",
        "\n",
        "## What Makes RL Unique?\n",
        "\n",
        "RL is designed for problems involving sequential decision-making, where the outcome depends on a series of actions. This makes RL ideal for applications like:\n",
        "\n",
        "- Training robots to walk or play games.\n",
        "- Optimizing resource allocation in dynamic systems.\n",
        "- Developing AI agents for self-driving cars or personalized recommendations.\n",
        "\n",
        "Machines in RL learn by trial and error, adapting their strategies to maximize rewards over time.\n",
        "\n",
        "---\n",
        "\n",
        "## Key Components of Reinforcement Learning\n",
        "\n",
        "![Reinforcement Learning Framework](https://drive.google.com/uc?export=view&id=1X4hF2u62vxovGyTdJLmk-lkG4DZEEent)\n",
        "\n",
        "\n",
        "1. **Agent**: The decision-maker or learner that takes actions.\n",
        "2. **Environment**: The external system the agent interacts with.\n",
        "3. **State**: A snapshot of the current situation within the environment.\n",
        "4. **Action**: A choice made by the agent that affects the state.\n",
        "5. **Reward**: Feedback received after taking an action, guiding the agent’s learning process.\n",
        "\n",
        "The interaction can be summarized as:\n",
        "\n",
        "1. The agent observes the **state** of the environment.\n",
        "2. It takes an **action** based on its current knowledge.\n",
        "3. The environment provides a **reward** and transitions to a new **state**.\n",
        "\n",
        "---\n",
        "\n",
        "## Types of RL Algorithms\n",
        "\n",
        "Reinforcement Learning algorithms fall into three main categories:\n",
        "\n",
        "1. **Value-Based**\n",
        "   - The agent learns to estimate the value of states or actions.\n",
        "   - Example: Q-Learning, which assigns a value to each action in a state.\n",
        "\n",
        "2. **Policy-Based**\n",
        "   - The agent directly learns a policy (a mapping from states to actions).\n",
        "   - Example: Policy Gradient methods, which optimize the policy using rewards.\n",
        "\n",
        "3. **Model-Based**\n",
        "   - The agent builds a model of the environment and uses it to plan actions.\n",
        "   - Example: Dynamic Programming, which requires a known model of the environment.\n",
        "\n",
        "---\n",
        "\n",
        "## Multi-Armed Bandit (MAB) Problem\n",
        "\n",
        "The **Multi-Armed Bandit** (MAB) problem is a foundational scenario in Reinforcement Learning. Imagine you’re at a casino, facing a row of slot machines (bandits). Each machine offers an unknown probability of payout, and your goal is to maximize your total winnings. The challenge lies in balancing:\n",
        "\n",
        "- **Exploration**: Trying out different machines to learn their payouts.\n",
        "- **Exploitation**: Sticking to the machine with the highest-known payout.\n",
        "\n",
        "MAB problems are widely applicable in:\n",
        "- Ad placement optimization.\n",
        "- Clinical trials to find the best treatment.\n",
        "- Recommendation systems for personalized content.\n",
        "\n",
        "---\n",
        "\n",
        "## Techniques for Solving MAB Problems\n",
        "\n",
        "### 1. Upper Confidence Bound (UCB)\n",
        "- A strategy that balances exploration and exploitation by estimating an upper confidence limit for each arm.\n",
        "- The agent chooses the arm with the highest upper confidence bound, ensuring it explores uncertain options while exploiting the best-known ones.\n",
        "\n",
        "### 2. Thompson Sampling\n",
        "- A Bayesian approach where the agent maintains a probability distribution for each arm’s reward.\n",
        "- At each step, it samples from these distributions and selects the arm with the highest sampled reward.\n",
        "\n",
        "These techniques help solve MAB problems efficiently and provide a foundation for more complex RL scenarios.\n",
        "\n",
        "---\n",
        "\n",
        "Reinforcement Learning bridges the gap between data-driven learning and decision-making in dynamic environments. By understanding its principles, we unlock the potential to build intelligent agents capable of solving real-world challenges.\n",
        "\n",
        "📖 Recommended Reading: [Reinforcement Learning In 31 Steps](https://bobrupakroy.medium.com/reinforcement-learning-in-31-steps-960aedc8f19c)\n"
      ]
    },
    {
      "cell_type": "markdown",
      "id": "ac95ad9d",
      "metadata": {
        "id": "ac95ad9d"
      },
      "source": [
        "## UCB (Upper Confidence Bound)\n",
        "\n",
        "Imagine you’re at a food court with 5 new restaurants. You want to discover the best one, but there’s a catch: you don’t want to waste too much money trying bad options. This is a classic **exploration vs. exploitation** problem:\n",
        "- **Exploitation**: Keep going to the restaurant you know is good.\n",
        "- **Exploration**: Try new restaurants that might be even better.\n",
        "\n",
        "The **Upper Confidence Bound (UCB)** algorithm tackles this problem by balancing the two. It prioritizes options with high uncertainty while leveraging what it already knows.\n",
        "\n",
        "---\n",
        "\n",
        "### UCB Formula\n",
        "\n",
        "For each option (or \"arm\") $i$, the UCB algorithm calculates a confidence bound as:\n",
        "\n",
        "$$\n",
        "\\text{UCB}_i(t) = \\hat{\\mu}_i + \\sqrt{\\frac{2 \\ln(t)}{N_i}}\n",
        "$$\n",
        "\n",
        "Where:\n",
        "- $\\hat{\\mu}_i$: The estimated mean reward of arm $i$ based on past observations.\n",
        "- $t$: The current round (time step).\n",
        "- $N_i$: The number of times arm $i$ has been selected so far.\n",
        "- $\\sqrt{\\frac{2 \\ln(t)}{N_i}}$: The exploration term, which encourages selecting less frequently chosen options.\n",
        "\n",
        "### Breaking It Down\n",
        "\n",
        "The formula balances:\n",
        "1. **Exploitation**: The first term ($\\hat{\\mu}_i$) represents the average reward so far—favoring options that have performed well.\n",
        "2. **Exploration**: The second term ($\\sqrt{\\frac{2 \\ln(t)}{N_i}}$) adds a bonus for options that haven’t been tried much, shrinking as an option is selected more often.\n",
        "\n",
        "### Selection Rule\n",
        "\n",
        "At each round $t$, choose the arm $i$ that maximizes the UCB score:\n",
        "\n",
        "$$\n",
        "i = \\arg\\max_i \\text{UCB}_i(t)\n",
        "$$\n",
        "\n",
        "This ensures that you explore enough early on, but increasingly focus on the best-known options over time.\n",
        "\n",
        "---\n",
        "\n",
        "### UCB in Practice\n",
        "\n",
        "Let’s revisit the food court analogy. You’re trying to maximize enjoyment while minimizing wasted meals. Translating the UCB formula, we can express it as:\n",
        "\n",
        "$$\n",
        "\\text{Score} = \\underbrace{\\text{Average reward so far}}_{\\text{exploitation}} + \\underbrace{\\sqrt{\\frac{2 \\times \\log(\\text{total rounds})}{\\text{times we tried this option}}}}_{\\text{exploration bonus}}\n",
        "$$\n",
        "\n",
        "Here’s how it works:\n",
        "\n",
        "1. **Average Reward So Far**: Captures what you already know works (exploitation).\n",
        "2. **Exploration Bonus**: Encourages trying less-explored options; it’s higher for options with fewer attempts.\n",
        "3. **Shrinking Bonus**: As you try an option more times, the bonus diminishes, focusing on the best options.\n",
        "\n",
        "---\n",
        "\n",
        "### How UCB Operates\n",
        "\n",
        "1. Track the performance (reward) of each option.\n",
        "2. Count how many times each option has been tried.\n",
        "3. In each round:\n",
        "   - Calculate a UCB score for each option using the formula.\n",
        "   - Select the option with the highest score.\n",
        "   - Observe the reward and update the statistics.\n",
        "\n",
        "---\n",
        "\n",
        "The UCB algorithm strikes a balance between exploration and exploitation, ensuring that over time, you make decisions that maximize cumulative rewards while learning about all available options.\n",
        "\n"
      ]
    },
    {
      "cell_type": "markdown",
      "id": "52e22bbe",
      "metadata": {
        "id": "52e22bbe"
      },
      "source": [
        "### Example\n",
        "Say we have 5 slot machines with different win rates (20%, 50%, 30%, 80%, 10%)"
      ]
    },
    {
      "cell_type": "code",
      "execution_count": null,
      "id": "8d4b2a54",
      "metadata": {
        "id": "8d4b2a54"
      },
      "outputs": [],
      "source": [
        "import numpy as np\n",
        "\n",
        "# Initialize parameters\n",
        "n_arms = 5  # number of slot machines\n",
        "n_rounds = 1000  # number of rounds to play\n",
        "\n",
        "# True probabilities of winning for each slot machine (unknown to the algorithm)\n",
        "true_rewards = [0.2, 0.5, 0.3, 0.8, 0.1]\n",
        "\n",
        "# Initialize arrays to track performance\n",
        "estimates = np.zeros(n_arms)  # mean reward estimates\n",
        "n_pulls = np.zeros(n_arms)   # number of times each arm was pulled\n",
        "total_reward = 0"
      ]
    },
    {
      "cell_type": "code",
      "execution_count": null,
      "id": "24a29d7c",
      "metadata": {
        "id": "24a29d7c",
        "outputId": "fca99e58-e1c1-43cd-db3b-7698103d8f95"
      },
      "outputs": [
        {
          "name": "stdout",
          "output_type": "stream",
          "text": [
            "Initial estimates after trying each arm once: [0. 1. 1. 1. 0.]\n",
            "Number of pulls: [1. 1. 1. 1. 1.]\n"
          ]
        }
      ],
      "source": [
        "# First try each arm once (TRIAL RUN)\n",
        "for arm in range(n_arms):\n",
        "    # Simulate pulling the arm\n",
        "    reward = np.random.binomial(1, true_rewards[arm])\n",
        "\n",
        "    # Update counts\n",
        "    n_pulls[arm] += 1\n",
        "\n",
        "    # Update reward estimate for this arm\n",
        "    estimates[arm] = reward\n",
        "\n",
        "    total_reward += reward\n",
        "\n",
        "print(\"Initial estimates after trying each arm once:\", estimates)\n",
        "print(\"Number of pulls:\", n_pulls)"
      ]
    },
    {
      "cell_type": "code",
      "execution_count": null,
      "id": "b54f5d0b",
      "metadata": {
        "id": "b54f5d0b",
        "outputId": "b6e0f876-0509-4c6a-83c1-f3fb42be6338"
      },
      "outputs": [
        {
          "name": "stdout",
          "output_type": "stream",
          "text": [
            "\n",
            "Round 100:\n",
            "Average Reward = 0.580\n",
            "Current estimates: [0.125 0.591 0.529 0.762 0.273]\n",
            "Number of pulls: [ 8. 22. 17. 42. 11.]\n",
            "\n",
            "Round 200:\n",
            "Average Reward = 0.595\n",
            "Current estimates: [0.091 0.568 0.423 0.757 0.25 ]\n",
            "Number of pulls: [ 11.  44.  26. 103.  16.]\n",
            "\n",
            "Round 300:\n",
            "Average Reward = 0.657\n",
            "Current estimates: [0.077 0.543 0.455 0.8   0.222]\n",
            "Number of pulls: [ 13.  46.  33. 190.  18.]\n",
            "\n",
            "Round 400:\n",
            "Average Reward = 0.660\n",
            "Current estimates: [0.067 0.509 0.436 0.788 0.2  ]\n",
            "Number of pulls: [ 15.  53.  39. 273.  20.]\n",
            "\n",
            "Round 500:\n",
            "Average Reward = 0.666\n",
            "Current estimates: [0.062 0.523 0.422 0.779 0.19 ]\n",
            "Number of pulls: [ 16.  65.  45. 353.  21.]\n",
            "\n",
            "Round 600:\n",
            "Average Reward = 0.690\n",
            "Current estimates: [0.062 0.522 0.422 0.79  0.182]\n",
            "Number of pulls: [ 16.  69.  45. 448.  22.]\n",
            "\n",
            "Round 700:\n",
            "Average Reward = 0.691\n",
            "Current estimates: [0.059 0.526 0.431 0.783 0.174]\n",
            "Number of pulls: [ 17.  78.  51. 531.  23.]\n",
            "\n",
            "Round 800:\n",
            "Average Reward = 0.705\n",
            "Current estimates: [0.056 0.519 0.423 0.791 0.167]\n",
            "Number of pulls: [ 18.  79.  52. 627.  24.]\n",
            "\n",
            "Round 900:\n",
            "Average Reward = 0.713\n",
            "Current estimates: [0.056 0.512 0.415 0.793 0.167]\n",
            "Number of pulls: [ 18.  82.  53. 723.  24.]\n",
            "\n",
            "Round 1000:\n",
            "Average Reward = 0.725\n",
            "Current estimates: [0.053 0.512 0.415 0.798 0.167]\n",
            "Number of pulls: [ 19.  82.  53. 822.  24.]\n"
          ]
        }
      ],
      "source": [
        "# Continue for remaining rounds\n",
        "for t in range(n_arms, n_rounds):\n",
        "    # Calculate UCB for each arm\n",
        "    exploration_bonus = np.sqrt(2 * np.log(t) / n_pulls)\n",
        "    ucb_values = estimates + exploration_bonus\n",
        "\n",
        "    # Select arm with highest UCB value\n",
        "    chosen_arm = np.argmax(ucb_values)\n",
        "\n",
        "    # Get reward (simulate slot machine pull)\n",
        "    reward = np.random.binomial(1, true_rewards[chosen_arm])\n",
        "\n",
        "    # Update statistics\n",
        "    n_pulls[chosen_arm] += 1\n",
        "    old_estimate = estimates[chosen_arm]\n",
        "    new_estimate = ((n_pulls[chosen_arm] - 1) * old_estimate + reward) / n_pulls[chosen_arm]\n",
        "    estimates[chosen_arm] = new_estimate\n",
        "    total_reward += reward\n",
        "\n",
        "    # Print progress every 100 rounds\n",
        "    if (t + 1) % 100 == 0:\n",
        "        print(f\"\\nRound {t + 1}:\")\n",
        "        print(f\"Average Reward = {total_reward/(t + 1):.3f}\")\n",
        "        print(f\"Current estimates: {estimates.round(3)}\")\n",
        "        print(f\"Number of pulls: {n_pulls}\")"
      ]
    },
    {
      "cell_type": "code",
      "execution_count": null,
      "id": "c78e2075",
      "metadata": {
        "id": "c78e2075",
        "outputId": "89f1dc12-b5e1-4e38-dfe7-5d70448f7963"
      },
      "outputs": [
        {
          "name": "stdout",
          "output_type": "stream",
          "text": [
            "\n",
            "Final Results:\n",
            "True probabilities: [0.2, 0.5, 0.3, 0.8, 0.1]\n",
            "Final estimates: [0.053 0.512 0.415 0.798 0.167]\n",
            "Number of times each arm was pulled: [ 19.  82.  53. 822.  24.]\n",
            "Average reward: 0.725\n",
            "Best arm (chosen most): 3\n",
            "Actual best arm: 3\n"
          ]
        }
      ],
      "source": [
        "# Print final results\n",
        "print(\"\\nFinal Results:\")\n",
        "print(\"True probabilities:\", true_rewards)\n",
        "print(\"Final estimates:\", estimates.round(3))\n",
        "print(\"Number of times each arm was pulled:\", n_pulls)\n",
        "print(f\"Average reward: {total_reward/n_rounds:.3f}\")\n",
        "print(f\"Best arm (chosen most): {np.argmax(n_pulls)}\")\n",
        "print(f\"Actual best arm: {np.argmax(true_rewards)}\")"
      ]
    },
    {
      "cell_type": "code",
      "execution_count": null,
      "id": "3e32bc21",
      "metadata": {
        "id": "3e32bc21",
        "outputId": "8026b69e-6e18-4737-880c-3a161f769360"
      },
      "outputs": [
        {
          "data": {
            "image/png": "[encoded data removed]",
            "text/plain": [
              "<Figure size 1200x800 with 2 Axes>"
            ]
          },
          "metadata": {},
          "output_type": "display_data"
        },
        {
          "name": "stdout",
          "output_type": "stream",
          "text": [
            "\n",
            "Statistics:\n",
            "Most played arm: 3\n",
            "Best performing arm (true): 3\n",
            "Final accuracy (estimate vs true): 0.06865420426252487\n"
          ]
        }
      ],
      "source": [
        "import matplotlib.pyplot as plt\n",
        "\n",
        "# Create figure with two subplots\n",
        "fig, (ax1, ax2) = plt.subplots(2, 1, figsize=(12, 8))\n",
        "\n",
        "# Plot 1: True Probabilities vs Estimates\n",
        "x = range(n_arms)\n",
        "width = 0.35\n",
        "\n",
        "ax1.bar([i - width/2 for i in x], true_rewards, width, label='True Probabilities', color='skyblue')\n",
        "ax1.bar([i + width/2 for i in x], estimates, width, label='UCB Estimates', color='lightgreen')\n",
        "ax1.set_ylabel('Probability')\n",
        "ax1.set_title('True Probabilities vs UCB Estimates')\n",
        "ax1.set_xticks(x)\n",
        "ax1.set_xticklabels([f'Arm {i}' for i in x])\n",
        "ax1.legend()\n",
        "\n",
        "# Plot 2: Number of Pulls\n",
        "ax2.bar(x, n_pulls, color='orange')\n",
        "ax2.set_xlabel('Arm')\n",
        "ax2.set_ylabel('Number of Pulls')\n",
        "ax2.set_title('Number of Times Each Arm Was Pulled')\n",
        "ax2.set_xticks(x)\n",
        "ax2.set_xticklabels([f'Arm {i}' for i in x])\n",
        "\n",
        "plt.tight_layout()\n",
        "plt.show()\n",
        "\n",
        "# Print some statistics\n",
        "print(\"\\nStatistics:\")\n",
        "print(\"Most played arm:\", np.argmax(n_pulls))\n",
        "print(\"Best performing arm (true):\", np.argmax(true_rewards))\n",
        "print(\"Final accuracy (estimate vs true):\",\n",
        "      np.mean(np.abs(estimates - true_rewards)))"
      ]
    },
    {
      "cell_type": "markdown",
      "id": "4e558cb2",
      "metadata": {
        "id": "4e558cb2"
      },
      "source": [
        "The beauty of UCB is that it automatically balances exploration and exploitation. At the start, it tries everything because the exploration bonus is high for untried options. As it learns more, it focuses more on the best options while still occasionally trying others just to make sure it hasn't missed anything."
      ]
    },
    {
      "cell_type": "markdown",
      "id": "f26bd522",
      "metadata": {
        "id": "f26bd522"
      },
      "source": [
        "## Thompson Sampling: Learning Through Probabilities\n",
        "\n",
        "Imagine standing before a row of slot machines, each with an unknown probability of paying out. Your goal is to find the best machine while maximizing your winnings during the process. This dilemma is elegantly solved by **Thompson Sampling**, a probabilistic algorithm for balancing **exploration** and **exploitation** in the Multi-Armed Bandit problem.\n",
        "\n",
        "---\n",
        "\n",
        "### Why Use Probability?\n",
        "\n",
        "Instead of maintaining a single estimate for the reward of each arm (machine), Thompson Sampling uses a **probability distribution** to represent the uncertainty about each arm’s reward. This approach allows the algorithm to:\n",
        "- Explore less-played arms occasionally.\n",
        "- Focus more on arms with higher observed rewards.\n",
        "\n",
        "---\n",
        "\n",
        "### How It Works\n",
        "\n",
        "1. **Initial Belief**:\n",
        "   - Start with a uniform distribution for each arm, reflecting equal uncertainty.\n",
        "\n",
        "2. **Play and Update**:\n",
        "   - With every pull of an arm, observe the reward and update its probability distribution.\n",
        "\n",
        "3. **Decision Making**:\n",
        "   - Sample a potential reward from each arm’s distribution.\n",
        "   - Select the arm with the highest sampled reward.\n",
        "\n",
        "This probabilistic approach ensures a natural balance between trying unexplored options and exploiting known good ones.\n",
        "\n",
        "---\n",
        "\n",
        "### Core Idea: Balancing Learning and Winning\n",
        "\n",
        "Thompson Sampling provides a way to:\n",
        "- Identify promising options (exploration).\n",
        "- Maximize rewards while learning (exploitation).\n",
        "\n",
        "For each arm, the algorithm maintains two parameters:\n",
        "- **$( \\alpha )$**: Represents wins (successes) + 1.\n",
        "- **$( \\beta )$**: Represents losses (failures) + 1.\n",
        "\n",
        "These parameters shape the Beta distribution, which models our belief about an arm’s true win rate.\n",
        "\n",
        "---\n",
        "\n",
        "### The Process\n",
        "\n",
        "1. **Before Each Play**:\n",
        "   - For every arm, sample a random value from its Beta distribution.\n",
        "   - Select the arm with the highest sampled value.\n",
        "\n",
        "2. **After Each Play**:\n",
        "   - If the arm wins: Increment $( \\alpha )$ for that arm.\n",
        "   - If the arm loses: Increment $( \\beta )$ for that arm.\n",
        "\n",
        "---\n",
        "\n",
        "### Why the Beta Distribution?\n",
        "\n",
        "The Beta distribution provides a flexible way to model probabilities:\n",
        "- **High $( \\alpha )$** (more wins): The distribution shifts right, favoring higher expected win rates.\n",
        "- **High $( \\beta )$** (more losses): The distribution shifts left, favoring lower expected win rates.\n",
        "- **Increased Total Plays**: The distribution narrows, reflecting greater confidence.\n",
        "\n",
        "---\n",
        "\n",
        "### Summary of the Math\n",
        "\n",
        "The algorithm samples from:\n",
        "\n",
        "$$\n",
        "P(\\text{Win Rate of Arm } i) \\sim \\text{Beta}(\\alpha_i, \\beta_i)\n",
        "$$\n",
        "\n",
        "Where:\n",
        "- $( \\alpha_i )$: Number of successes (wins) + 1.\n",
        "- $( \\beta_i )$: Number of failures (losses) + 1.\n",
        "\n",
        "This sampling ensures a balance between exploring new options and exploiting known rewards.\n",
        "\n",
        "---\n",
        "\n",
        "### Steps for Implementation\n",
        "\n",
        "Let’s break it into actionable steps:\n",
        "1. **Simulate Slot Machines**:\n",
        "   - Create a simulator with known probabilities for each arm.\n",
        "2. **Implement Thompson Sampling**:\n",
        "   - Maintain \\( \\alpha \\) and \\( \\beta \\) for each arm.\n",
        "3. **Run Simulations**:\n",
        "   - Use the algorithm to select arms over multiple rounds.\n",
        "4. **Visualize Results**:\n",
        "   - Analyze how the algorithm balances exploration and exploitation.\n",
        "\n",
        "**Optional**: Dive deeper into the math of Thompson Sampling 👉 [here](https://colab.research.google.com/drive/1zPBikE3NznnSCLLn9hz9pi6QY97txc2F)\n",
        "\n"
      ]
    },
    {
      "cell_type": "code",
      "execution_count": null,
      "id": "2c01ba11",
      "metadata": {
        "id": "2c01ba11"
      },
      "outputs": [],
      "source": [
        "# Import required libraries\n",
        "import numpy as np\n",
        "import matplotlib.pyplot as plt\n",
        "from scipy.stats import beta\n",
        "import pandas as pd"
      ]
    },
    {
      "cell_type": "code",
      "execution_count": null,
      "id": "c7bbc17e",
      "metadata": {
        "id": "c7bbc17e"
      },
      "outputs": [],
      "source": [
        "# Create our Slot Machine (Bandit) Simulator\n",
        "class SlotMachine:\n",
        "    def __init__(self, prob_success):\n",
        "        self.prob_success = prob_success\n",
        "\n",
        "    def pull(self):\n",
        "        # Returns 1 (win) with probability prob_success, 0 (loss) otherwise\n",
        "        return np.random.random() < self.prob_success"
      ]
    },
    {
      "cell_type": "code",
      "execution_count": null,
      "id": "c21e8c0f",
      "metadata": {
        "id": "c21e8c0f"
      },
      "outputs": [],
      "source": [
        "# Create Thompson Sampling Agent\n",
        "class ThompsonAgent:\n",
        "    def __init__(self, n_arms):\n",
        "        # For each arm, track successes (alpha) and failures (beta)\n",
        "        self.n_arms = n_arms\n",
        "        # Initialize with 1,1 for each arm (assume no prior knowledge)\n",
        "        self.alphas = np.ones(n_arms)\n",
        "        self.betas = np.ones(n_arms)\n",
        "\n",
        "    def select_arm(self):\n",
        "        # Sample from beta distribution for each arm\n",
        "        samples = [np.random.beta(self.alphas[i], self.betas[i])\n",
        "                  for i in range(self.n_arms)]\n",
        "        # Return arm with highest sampled value\n",
        "        return np.argmax(samples)\n",
        "\n",
        "    def update(self, arm, reward):\n",
        "        # Update the chosen arm's alpha (if won) or beta (if lost)\n",
        "        if reward == 1:\n",
        "            self.alphas[arm] += 1\n",
        "        else:\n",
        "            self.betas[arm] += 1"
      ]
    },
    {
      "cell_type": "code",
      "execution_count": null,
      "id": "badf0797",
      "metadata": {
        "id": "badf0797"
      },
      "outputs": [],
      "source": [
        "# Run Simulation\n",
        "def run_simulation(true_probs, n_rounds):\n",
        "    # Setup environment\n",
        "    machines = [SlotMachine(p) for p in true_probs]\n",
        "    agent = ThompsonAgent(len(true_probs))\n",
        "\n",
        "    # Track history\n",
        "    history = []\n",
        "    cumulative_rewards = 0\n",
        "\n",
        "    for round in range(n_rounds):\n",
        "        # Select arm\n",
        "        chosen_arm = agent.select_arm()\n",
        "\n",
        "        # Get reward\n",
        "        reward = machines[chosen_arm].pull()\n",
        "\n",
        "        # Update agent's knowledge\n",
        "        agent.update(chosen_arm, reward)\n",
        "\n",
        "        # Track results\n",
        "        cumulative_rewards += reward\n",
        "        history.append({\n",
        "            'round': round,\n",
        "            'chosen_arm': chosen_arm,\n",
        "            'reward': reward,\n",
        "            'cumulative_reward': cumulative_rewards,\n",
        "            'average_reward': cumulative_rewards / (round + 1)\n",
        "        })\n",
        "\n",
        "    return pd.DataFrame(history)"
      ]
    },
    {
      "cell_type": "code",
      "execution_count": null,
      "id": "cc6a824f",
      "metadata": {
        "id": "cc6a824f"
      },
      "outputs": [],
      "source": [
        "# Visualization Functions\n",
        "def plot_results(results, true_probs):\n",
        "    plt.figure(figsize=(15, 5))\n",
        "\n",
        "    # Plot average reward over time\n",
        "    plt.subplot(1, 2, 1)\n",
        "    plt.plot(results['round'], results['average_reward'])\n",
        "    plt.axhline(y=max(true_probs), color='r', linestyle='--',\n",
        "                label=f'Best arm ({max(true_probs):.2f})')\n",
        "    plt.xlabel('Round')\n",
        "    plt.ylabel('Average Reward')\n",
        "    plt.title('Average Reward over Time')\n",
        "    plt.legend()"
      ]
    },
    {
      "cell_type": "code",
      "execution_count": null,
      "id": "01ffdb25",
      "metadata": {
        "id": "01ffdb25"
      },
      "outputs": [],
      "source": [
        "# Set random seed for reproducibility\n",
        "np.random.seed(42)"
      ]
    },
    {
      "cell_type": "code",
      "execution_count": null,
      "id": "c38fe206",
      "metadata": {
        "id": "c38fe206"
      },
      "outputs": [],
      "source": [
        "# Define true probabilities for each arm\n",
        "true_probs = [0.2, 0.5, 0.75, 0.4]"
      ]
    },
    {
      "cell_type": "code",
      "execution_count": null,
      "id": "80ee6c86",
      "metadata": {
        "id": "80ee6c86"
      },
      "outputs": [],
      "source": [
        "# Run simulation\n",
        "results = run_simulation(true_probs, n_rounds=1000)"
      ]
    },
    {
      "cell_type": "code",
      "execution_count": null,
      "id": "0c11a7c5",
      "metadata": {
        "id": "0c11a7c5",
        "outputId": "2b23f372-5b9a-4cdc-b3a5-05ce994f37ef"
      },
      "outputs": [
        {
          "data": {
            "image/png": "[encoded data removed]",
            "text/plain": [
              "<Figure size 1500x500 with 1 Axes>"
            ]
          },
          "metadata": {},
          "output_type": "display_data"
        }
      ],
      "source": [
        "# Plot results\n",
        "plot_results(results, true_probs)"
      ]
    }
  ],
  "metadata": {
    "kernelspec": {
      "display_name": "Python 3 (ipykernel)",
      "language": "python",
      "name": "python3"
    },
    "language_info": {
      "codemirror_mode": {
        "name": "ipython",
        "version": 3
      },
      "file_extension": ".py",
      "mimetype": "text/x-python",
      "name": "python",
      "nbconvert_exporter": "python",
      "pygments_lexer": "ipython3",
      "version": "3.9.13"
    },
    "colab": {
      "provenance": []
    }
  },
  "nbformat": 4,
  "nbformat_minor": 5
}